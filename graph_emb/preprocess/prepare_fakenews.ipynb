{
 "cells": [
  {
   "cell_type": "code",
   "execution_count": 111,
   "id": "66f0b0d0",
   "metadata": {},
   "outputs": [],
   "source": [
    "import sys\n",
    "import pandas as pd\n",
    "import numpy as np \n",
    "\n",
    "sys.path.append('../')"
   ]
  },
  {
   "cell_type": "code",
   "execution_count": 112,
   "id": "1a6b9cc9",
   "metadata": {},
   "outputs": [],
   "source": [
    "ds_names = [\"acl2020\", \"emnlp2018\"]\n",
    "tasks = ['fact', 'bias']\n",
    "level = 0\n",
    "ds_name = ds_names[1]\n",
    "task = tasks[0]\n",
    "\n",
    "df_edge = pd.read_csv('../data/edges_{}_level{}.txt'.format(ds_name, level))\n",
    "df_nodes = pd.read_csv('../data/features_{}_level{}.txt'.format(ds_name, level))\n",
    "df_label = pd.read_csv('../data/labels_{}_{}.csv'.format(ds_name, task))\n",
    "\n",
    "nodes_dict=df_nodes.set_index('node').to_dict()\n",
    "df_nodes = pd.merge(df_nodes, df_label, on='node', how='left')\n",
    "\n",
    "# nodes_dict\n",
    "# df_edge, df_nodes"
   ]
  },
  {
   "cell_type": "code",
   "execution_count": 113,
   "id": "7e983943",
   "metadata": {},
   "outputs": [
    {
     "name": "stdout",
     "output_type": "stream",
     "text": [
      "3489 3489\n"
     ]
    }
   ],
   "source": [
    "print(len(edge_nodes), len(node_nodes))"
   ]
  },
  {
   "cell_type": "code",
   "execution_count": 114,
   "id": "1587fbfb",
   "metadata": {},
   "outputs": [
    {
     "data": {
      "text/plain": [
       "0"
      ]
     },
     "execution_count": 114,
     "metadata": {},
     "output_type": "execute_result"
    }
   ],
   "source": [
    "len(edge_nodes - node_nodes)"
   ]
  },
  {
   "cell_type": "code",
   "execution_count": 115,
   "id": "8ae228b9",
   "metadata": {},
   "outputs": [
    {
     "data": {
      "text/plain": [
       "0"
      ]
     },
     "execution_count": 115,
     "metadata": {},
     "output_type": "execute_result"
    }
   ],
   "source": [
    "len(node_nodes - edge_nodes)"
   ]
  },
  {
   "cell_type": "code",
   "execution_count": 116,
   "id": "8e3a7308",
   "metadata": {},
   "outputs": [
    {
     "data": {
      "text/plain": [
       "3489"
      ]
     },
     "execution_count": 116,
     "metadata": {},
     "output_type": "execute_result"
    }
   ],
   "source": [
    "common_nodes = edge_nodes & node_nodes\n",
    "len(common_nodes)"
   ]
  },
  {
   "cell_type": "code",
   "execution_count": 117,
   "id": "1978d355",
   "metadata": {},
   "outputs": [],
   "source": [
    "#added these to exclude mismatching node (needed to this for level 4 data of emnlp2018)\n",
    "df_edge = df_edge[df_edge['source'].isin(common_nodes)]\n",
    "df_edge = df_edge[df_edge['target'].isin(common_nodes)]\n",
    "df_nodes = df_nodes[df_nodes['node'].isin(common_nodes)]"
   ]
  },
  {
   "cell_type": "code",
   "execution_count": 118,
   "id": "aa800e8e",
   "metadata": {},
   "outputs": [],
   "source": [
    "edge_nodes = set(df_edge['source'].unique()) | set(df_edge['target'].unique())\n",
    "node_nodes = set(df_nodes['node'].unique())"
   ]
  },
  {
   "cell_type": "code",
   "execution_count": 119,
   "id": "9836f37a",
   "metadata": {},
   "outputs": [],
   "source": [
    "node_idx = dict()\n",
    "i = 0\n",
    "for n in edge_nodes:\n",
    "    #if n in common_nodes:\n",
    "    node_idx[n] = i \n",
    "    i += 1\n",
    "df_nodes['node_id'] = df_nodes['node'].apply(lambda x: node_idx[x] if x in node_idx else None )"
   ]
  },
  {
   "cell_type": "code",
   "execution_count": 120,
   "id": "66f17520",
   "metadata": {},
   "outputs": [],
   "source": [
    "#df_nodes = df_nodes[df_nodes['node_id'].notnull()]"
   ]
  },
  {
   "cell_type": "code",
   "execution_count": 121,
   "id": "7aaa1582",
   "metadata": {},
   "outputs": [
    {
     "data": {
      "text/plain": [
       "3    2857\n",
       "2     292\n",
       "1     204\n",
       "0     136\n",
       "Name: label, dtype: int64"
      ]
     },
     "execution_count": 121,
     "metadata": {},
     "output_type": "execute_result"
    }
   ],
   "source": [
    "next_val = len(df_nodes['label'].unique()) - 1\n",
    "df_nodes['label'] = df_nodes['label'].fillna(next_val) #assign the next available number to unknown data points\n",
    "df_nodes['label'] = df_nodes['label'].astype(int)\n",
    "df_nodes['label'].value_counts()"
   ]
  },
  {
   "cell_type": "code",
   "execution_count": 122,
   "id": "15a7867b",
   "metadata": {},
   "outputs": [],
   "source": [
    "df_nodes['feat_domain'] = 1 #probably we should be able to exclude this"
   ]
  },
  {
   "cell_type": "code",
   "execution_count": 123,
   "id": "ac6732cf",
   "metadata": {},
   "outputs": [],
   "source": [
    "#two way edges\n",
    "edge_df2 = pd.DataFrame()\n",
    "edge_df2['source'] = df_edge['target']\n",
    "edge_df2['target'] = df_edge['source']\n",
    "\n",
    "\n",
    "df_edge2 = pd.concat([df_edge, edge_df2]).drop_duplicates(keep = \"first\").reset_index()\n",
    "df_edge2['source'] = df_edge2['source'].apply(lambda x: node_idx[x])\n",
    "df_edge2['target'] = df_edge2['target'].apply(lambda x: node_idx[x])\n",
    "\n",
    "df_edge2.drop('index', axis=1, inplace=True)\n",
    "\n",
    "df_nodes[['node_id', 'node', 'label',\n",
    "         'alexa_rank', 'daily_pageviews_per_visitor',\n",
    "         'daily_time_on_site', 'total_sites_linking_in', 'bounce_rate', 'feat_domain']].to_csv('../data/features_{}_level{}.txt2'.format(ds_name, level), index = False)\n",
    "df_edge2.to_csv('../data/edges_{}_level{}.txt2'.format(ds_name, level), index = False)"
   ]
  }
 ],
 "metadata": {
  "interpreter": {
   "hash": "6cb3138708b33239e242c88ac3b61a943eac91f8a7bbaeff900a4d3d6fefcef1"
  },
  "kernelspec": {
   "display_name": "Python 3 (ipykernel)",
   "language": "python",
   "name": "python3"
  },
  "language_info": {
   "codemirror_mode": {
    "name": "ipython",
    "version": 3
   },
   "file_extension": ".py",
   "mimetype": "text/x-python",
   "name": "python",
   "nbconvert_exporter": "python",
   "pygments_lexer": "ipython3",
   "version": "3.9.7"
  }
 },
 "nbformat": 4,
 "nbformat_minor": 5
}
