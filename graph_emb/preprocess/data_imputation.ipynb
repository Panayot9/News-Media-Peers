{
 "cells": [
  {
   "cell_type": "markdown",
   "id": "564eb92b",
   "metadata": {},
   "source": [
    "## KNN Imputer"
   ]
  },
  {
   "cell_type": "code",
   "execution_count": 20,
   "id": "1058827e",
   "metadata": {},
   "outputs": [
    {
     "name": "stdout",
     "output_type": "stream",
     "text": [
      "<class 'pandas.core.frame.DataFrame'>\n",
      "RangeIndex: 74937 entries, 0 to 74936\n",
      "Data columns (total 9 columns):\n",
      " #   Column                       Non-Null Count  Dtype  \n",
      "---  ------                       --------------  -----  \n",
      " 0   node_id                      74937 non-null  int64  \n",
      " 1   node                         74937 non-null  object \n",
      " 2   label                        74937 non-null  int64  \n",
      " 3   alexa_rank                   45686 non-null  float64\n",
      " 4   daily_pageviews_per_visitor  45697 non-null  float64\n",
      " 5   daily_time_on_site           27798 non-null  float64\n",
      " 6   total_sites_linking_in       71085 non-null  float64\n",
      " 7   bounce_rate                  24154 non-null  float64\n",
      " 8   feat_domain                  74937 non-null  int64  \n",
      "dtypes: float64(5), int64(3), object(1)\n",
      "memory usage: 5.1+ MB\n"
     ]
    }
   ],
   "source": [
    "import sys\n",
    "import pandas as pd\n",
    "\n",
    "sys.path.append('../')\n",
    "from src.knnimputer import KNNImputer\n",
    "\n",
    "ds_names = [\"acl2020\", \"emnlp2018\"]\n",
    "tasks = ['fact', 'bias']\n",
    "level = 4\n",
    "ds_name = ds_names[0]\n",
    "task = tasks[0]\n",
    "\n",
    "\n",
    "nodes_file = '../data/features_{}_level{}.txt2'.format(ds_name, level)\n",
    "edges_file = '../data/edges_{}_level{}.txt2'.format(ds_name, level)\n",
    "feature_names = ['alexa_rank','daily_pageviews_per_visitor','daily_time_on_site','total_sites_linking_in','bounce_rate']\n",
    "\n",
    "df_nodes = pd.read_csv(nodes_file)\n",
    "df_edges = pd.read_csv(edges_file)\n",
    "df_nodes.info()\n",
    "\n"
   ]
  },
  {
   "cell_type": "code",
   "execution_count": 21,
   "id": "39185b4e",
   "metadata": {},
   "outputs": [
    {
     "name": "stdout",
     "output_type": "stream",
     "text": [
      "alexa_rank\n",
      "daily_pageviews_per_visitor\n",
      "daily_time_on_site\n",
      "total_sites_linking_in\n",
      "bounce_rate\n",
      "<class 'pandas.core.frame.DataFrame'>\n",
      "RangeIndex: 74937 entries, 0 to 74936\n",
      "Data columns (total 9 columns):\n",
      " #   Column                       Non-Null Count  Dtype  \n",
      "---  ------                       --------------  -----  \n",
      " 0   node_id                      74937 non-null  int64  \n",
      " 1   node                         74937 non-null  object \n",
      " 2   label                        74937 non-null  int64  \n",
      " 3   alexa_rank                   65639 non-null  float64\n",
      " 4   daily_pageviews_per_visitor  65644 non-null  float64\n",
      " 5   daily_time_on_site           45507 non-null  float64\n",
      " 6   total_sites_linking_in       74761 non-null  float64\n",
      " 7   bounce_rate                  39254 non-null  float64\n",
      " 8   feat_domain                  74937 non-null  int64  \n",
      "dtypes: float64(5), int64(3), object(1)\n",
      "memory usage: 5.1+ MB\n",
      "<class 'pandas.core.frame.DataFrame'>\n",
      "Int64Index: 859 entries, 88 to 74894\n",
      "Data columns (total 9 columns):\n",
      " #   Column                       Non-Null Count  Dtype  \n",
      "---  ------                       --------------  -----  \n",
      " 0   node_id                      859 non-null    int64  \n",
      " 1   node                         859 non-null    object \n",
      " 2   label                        859 non-null    int64  \n",
      " 3   alexa_rank                   829 non-null    float64\n",
      " 4   daily_pageviews_per_visitor  829 non-null    float64\n",
      " 5   daily_time_on_site           772 non-null    float64\n",
      " 6   total_sites_linking_in       859 non-null    float64\n",
      " 7   bounce_rate                  756 non-null    float64\n",
      " 8   feat_domain                  859 non-null    int64  \n",
      "dtypes: float64(5), int64(3), object(1)\n",
      "memory usage: 67.1+ KB\n"
     ]
    },
    {
     "data": {
      "text/plain": [
       "(None, None)"
      ]
     },
     "execution_count": 21,
     "metadata": {},
     "output_type": "execute_result"
    }
   ],
   "source": [
    "knn = KNNImputer(df_nodes, df_edges, feature_names)\n",
    "knn.impute_data()\n",
    "\n",
    "df_nodes.info(), df_nodes[df_nodes['label']<3].info()"
   ]
  },
  {
   "cell_type": "code",
   "execution_count": 22,
   "id": "e76f984b",
   "metadata": {},
   "outputs": [
    {
     "name": "stdout",
     "output_type": "stream",
     "text": [
      "<class 'pandas.core.frame.DataFrame'>\n",
      "RangeIndex: 74937 entries, 0 to 74936\n",
      "Data columns (total 9 columns):\n",
      " #   Column                       Non-Null Count  Dtype  \n",
      "---  ------                       --------------  -----  \n",
      " 0   node_id                      74937 non-null  int64  \n",
      " 1   node                         74937 non-null  object \n",
      " 2   label                        74937 non-null  int64  \n",
      " 3   alexa_rank                   74937 non-null  float64\n",
      " 4   daily_pageviews_per_visitor  74937 non-null  float64\n",
      " 5   daily_time_on_site           74937 non-null  float64\n",
      " 6   total_sites_linking_in       74937 non-null  float64\n",
      " 7   bounce_rate                  74937 non-null  float64\n",
      " 8   feat_domain                  74937 non-null  int64  \n",
      "dtypes: float64(5), int64(3), object(1)\n",
      "memory usage: 5.1+ MB\n"
     ]
    }
   ],
   "source": [
    "import numpy as np\n",
    "from sklearn.impute import KNNImputer\n",
    "\n",
    "X = df_nodes[feature_names].to_numpy()\n",
    "imputer = KNNImputer(n_neighbors=5)\n",
    "X = imputer.fit_transform(X)\n",
    "df_nodes[feature_names] = X\n",
    "df_nodes.info()"
   ]
  },
  {
   "cell_type": "code",
   "execution_count": 23,
   "id": "24cbc6ff",
   "metadata": {},
   "outputs": [
    {
     "name": "stdout",
     "output_type": "stream",
     "text": [
      "<class 'pandas.core.frame.DataFrame'>\n",
      "RangeIndex: 74937 entries, 0 to 74936\n",
      "Data columns (total 9 columns):\n",
      " #   Column                       Non-Null Count  Dtype  \n",
      "---  ------                       --------------  -----  \n",
      " 0   node_id                      74937 non-null  int64  \n",
      " 1   node                         74937 non-null  object \n",
      " 2   label                        74937 non-null  int64  \n",
      " 3   alexa_rank                   74937 non-null  float64\n",
      " 4   daily_pageviews_per_visitor  74937 non-null  float64\n",
      " 5   daily_time_on_site           74937 non-null  float64\n",
      " 6   total_sites_linking_in       74937 non-null  float64\n",
      " 7   bounce_rate                  74937 non-null  float64\n",
      " 8   feat_domain                  74937 non-null  int64  \n",
      "dtypes: float64(5), int64(3), object(1)\n",
      "memory usage: 5.1+ MB\n"
     ]
    }
   ],
   "source": [
    "df_nodes.info()\n",
    "df_nodes.to_csv('../data/features_{}_level{}.txt3'.format(ds_name, level), index=False)"
   ]
  },
  {
   "cell_type": "code",
   "execution_count": null,
   "id": "6689a06d",
   "metadata": {},
   "outputs": [],
   "source": []
  },
  {
   "cell_type": "code",
   "execution_count": null,
   "id": "7e3a19e6",
   "metadata": {},
   "outputs": [],
   "source": []
  }
 ],
 "metadata": {
  "interpreter": {
   "hash": "6cb3138708b33239e242c88ac3b61a943eac91f8a7bbaeff900a4d3d6fefcef1"
  },
  "kernelspec": {
   "display_name": "Python 3 (ipykernel)",
   "language": "python",
   "name": "python3"
  },
  "language_info": {
   "codemirror_mode": {
    "name": "ipython",
    "version": 3
   },
   "file_extension": ".py",
   "mimetype": "text/x-python",
   "name": "python",
   "nbconvert_exporter": "python",
   "pygments_lexer": "ipython3",
   "version": "3.9.7"
  }
 },
 "nbformat": 4,
 "nbformat_minor": 5
}
