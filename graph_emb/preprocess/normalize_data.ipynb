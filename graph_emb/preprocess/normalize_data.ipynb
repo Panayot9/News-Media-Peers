{
 "cells": [
  {
   "cell_type": "markdown",
   "metadata": {},
   "source": [
    "## 1. Import Libraries"
   ]
  },
  {
   "cell_type": "code",
   "execution_count": 13,
   "metadata": {},
   "outputs": [],
   "source": [
    "import numpy as np\n",
    "import pandas  as  pd\n",
    "import networkx as nx\n",
    "from tqdm.notebook import tqdm\n",
    "from datetime import date\n",
    "import matplotlib.pyplot as plt\n",
    "\n",
    "import torch\n",
    "from torch_geometric.utils import k_hop_subgraph, to_networkx\n",
    "from sklearn.preprocessing import StandardScaler\n",
    "\n",
    "%matplotlib inline\n",
    "\n",
    "import sys\n",
    "sys.path.append('../')\n",
    "# from src.labelfeature_experiment import LabelFeature_Experiment\n"
   ]
  },
  {
   "cell_type": "markdown",
   "metadata": {},
   "source": [
    "## 2. Prepare Model&Data"
   ]
  },
  {
   "cell_type": "code",
   "execution_count": 14,
   "metadata": {},
   "outputs": [
    {
     "name": "stdout",
     "output_type": "stream",
     "text": [
      "<class 'pandas.core.frame.DataFrame'>\n",
      "RangeIndex: 74937 entries, 0 to 74936\n",
      "Data columns (total 9 columns):\n",
      " #   Column                       Non-Null Count  Dtype  \n",
      "---  ------                       --------------  -----  \n",
      " 0   node_id                      74937 non-null  int64  \n",
      " 1   node                         74937 non-null  object \n",
      " 2   label                        74937 non-null  int64  \n",
      " 3   alexa_rank                   74937 non-null  float64\n",
      " 4   daily_pageviews_per_visitor  74937 non-null  float64\n",
      " 5   daily_time_on_site           74937 non-null  float64\n",
      " 6   total_sites_linking_in       74937 non-null  float64\n",
      " 7   bounce_rate                  74937 non-null  float64\n",
      " 8   feat_domain                  74937 non-null  int64  \n",
      "dtypes: float64(5), int64(3), object(1)\n",
      "memory usage: 5.1+ MB\n"
     ]
    }
   ],
   "source": [
    "ds_names = [\"acl2020\", \"emnlp2018\"]\n",
    "tasks = ['fact', 'bias']\n",
    "level = 4\n",
    "ds_name = ds_names[0]\n",
    "task = tasks[0]\n",
    "\n",
    "\n",
    "nodes_file = '../data/features_{}_level{}.txt3'.format(ds_name, level)\n",
    "edges_file = '../data/edges_{}_level{}.txt2'.format(ds_name, level)\n",
    "\n",
    "feature_names = ['alexa_rank','daily_pageviews_per_visitor','daily_time_on_site','total_sites_linking_in','bounce_rate']\n",
    "\n",
    "feature_names = ['alexa_rank','daily_pageviews_per_visitor','daily_time_on_site','total_sites_linking_in','bounce_rate']\n",
    "\n",
    "df_nodes = pd.read_csv(nodes_file)\n",
    "df_edges = pd.read_csv(edges_file)\n",
    "df_nodes.info()\n"
   ]
  },
  {
   "cell_type": "markdown",
   "metadata": {},
   "source": [
    "### 2.1 Normalize  Data"
   ]
  },
  {
   "cell_type": "code",
   "execution_count": 15,
   "metadata": {},
   "outputs": [],
   "source": [
    "scaler = StandardScaler()\n",
    "# columns  0, 2, 3 log +  standard normalization\n",
    "# coloumns 1, 4 standard normalization\n",
    "column_index = 4\n",
    "log_cols = [0, 2, 3]\n",
    "for column_index in range(5):\n",
    "    if column_index in log_cols:\n",
    "        df_nodes[feature_names[column_index]]=np.log(df_nodes[feature_names[column_index]])\n",
    "    data = np.array(df_nodes[feature_names[column_index]])[:, np.newaxis]\n",
    "    # print(data)\n",
    "    standart_result = scaler.fit_transform(data)\n",
    "    df_nodes[feature_names[column_index]]=standart_result.transpose()[0]\n",
    "# df_hosting.to_csv(nodes_feat+'5', index=False)"
   ]
  },
  {
   "cell_type": "code",
   "execution_count": 16,
   "metadata": {},
   "outputs": [
    {
     "name": "stdout",
     "output_type": "stream",
     "text": [
      "<class 'pandas.core.frame.DataFrame'>\n",
      "RangeIndex: 74937 entries, 0 to 74936\n",
      "Data columns (total 9 columns):\n",
      " #   Column                       Non-Null Count  Dtype  \n",
      "---  ------                       --------------  -----  \n",
      " 0   node_id                      74937 non-null  int64  \n",
      " 1   node                         74937 non-null  object \n",
      " 2   label                        74937 non-null  int64  \n",
      " 3   alexa_rank                   74937 non-null  float64\n",
      " 4   daily_pageviews_per_visitor  74937 non-null  float64\n",
      " 5   daily_time_on_site           74937 non-null  float64\n",
      " 6   total_sites_linking_in       74937 non-null  float64\n",
      " 7   bounce_rate                  74937 non-null  float64\n",
      " 8   feat_domain                  74937 non-null  int64  \n",
      "dtypes: float64(5), int64(3), object(1)\n",
      "memory usage: 5.1+ MB\n"
     ]
    }
   ],
   "source": [
    "df_nodes.info()\n",
    "df_nodes.to_csv('../data/features_{}_level{}.txt4'.format(ds_name, level), index=False)"
   ]
  },
  {
   "cell_type": "code",
   "execution_count": null,
   "metadata": {},
   "outputs": [],
   "source": []
  },
  {
   "cell_type": "code",
   "execution_count": null,
   "metadata": {},
   "outputs": [],
   "source": []
  }
 ],
 "metadata": {
  "kernelspec": {
   "display_name": "Python 3 (ipykernel)",
   "language": "python",
   "name": "python3"
  },
  "language_info": {
   "codemirror_mode": {
    "name": "ipython",
    "version": 3
   },
   "file_extension": ".py",
   "mimetype": "text/x-python",
   "name": "python",
   "nbconvert_exporter": "python",
   "pygments_lexer": "ipython3",
   "version": "3.9.7"
  }
 },
 "nbformat": 4,
 "nbformat_minor": 2
}
