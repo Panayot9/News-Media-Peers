{
 "cells": [
  {
   "cell_type": "code",
   "execution_count": 14,
   "metadata": {},
   "outputs": [],
   "source": [
    "import sys\n",
    "import torch\n",
    "from datetime import date\n",
    "import numpy\n",
    "import matplotlib.pyplot  as plt\n",
    "import seaborn as sns\n",
    "import umap\n",
    "\n",
    "sys.path.append('../')\n",
    "from sage_unsup import SAGE_Unsup\n",
    "\n",
    "feature_names = ['alexa_rank','daily_pageviews_per_visitor','daily_time_on_site','total_sites_linking_in','bounce_rate']\n",
    "syn_labels = [f'x{i}' for i in range(32)]\n",
    "label_features = [f'labelf{i}' for i in range(4)] \n",
    "\n",
    "\n",
    "coeffs = { 'model_type': 'sage',\n",
    "          'epoch':1000,\n",
    "          'num_layers':4,\n",
    "          'dim':128,\n",
    "          'outer_batch_size':5000,\n",
    "          'inner_batch_size':40,\n",
    "          'train_percentage':0.8,\n",
    "          'seed':0,\n",
    "          'experiment_id':2,\n",
    "          'gpu_id':0,\n",
    "          'extra':'s1',\n",
    "          'labelfeature_names':['feat_label_ben','feat_label_mal','feat_label_unknown'],\n",
    "          # 'labelfeature_names':['feat_pred_ben_def','feat_pred_mal_def'],\n",
    "          # 'use_syn':True,\n",
    "          'syn_labels':syn_labels,\n",
    "          'syn_file':'../../fakenews/data/fakenews_xavier.csv'\n",
    "}\n",
    "ds_names = [\"acl2020\", \"emnlp2018\"]\n",
    "tasks = ['fact', 'bias']\n",
    "model_names = ['gcn', 'sagesup', 'sageunsup']\n",
    "level = 3\n",
    "ds_name = ds_names[1]\n",
    "task = tasks[1]\n",
    "model_name = model_names[2]\n",
    "\n",
    "nodes_file = '../data/features_{}_level{}.txt4'.format(ds_name, level)\n",
    "edges_file = '../data/edges_{}_level{}.txt2'.format(ds_name, level)\n",
    "\n",
    "model_file = f\"\"\"../model/fakenews_{coeffs['model_type']}.pkl\"\"\"\n"
   ]
  },
  {
   "cell_type": "code",
   "execution_count": 15,
   "metadata": {},
   "outputs": [
    {
     "name": "stdout",
     "output_type": "stream",
     "text": [
      "Train tensor(848) Test tensor(212)\n",
      "Data converted to undirected: True\n",
      "Data(x=[78428, 5], edge_index=[2, 232529], y=[78428], train_mask=[78428], test_mask=[78428], validation_mask=[78428])\n",
      "Epoch: 100, Loss: 1.2004, Val: 0.6073, Test: 0.5755\n",
      "Epoch: 200, Loss: 1.1822, Val: 0.5991, Test: 0.5943\n",
      "Epoch: 300, Loss: 1.1677, Val: 0.6050, Test: 0.5802\n",
      "Epoch: 400, Loss: 1.1623, Val: 0.6014, Test: 0.5943\n",
      "Epoch: 500, Loss: 1.1565, Val: 0.6014, Test: 0.5896\n",
      "Epoch: 600, Loss: 1.1519, Val: 0.6073, Test: 0.5660\n",
      "Epoch: 700, Loss: 1.1385, Val: 0.6061, Test: 0.5755\n",
      "Epoch: 900, Loss: 1.1295, Val: 0.6167, Test: 0.5755\n"
     ]
    }
   ],
   "source": [
    "exp = SAGE_Unsup(nodes_file, edges_file, feature_names, **coeffs)\n",
    "for epoch in range(1, coeffs['epoch']):\n",
    "    loss = exp.train()\n",
    "    if epoch % 100 == 0: \n",
    "        val_acc, test_acc = exp.test()\n",
    "        print(f'Epoch: {epoch:03d}, Loss: {loss:.4f}, '\n",
    "            f'Val: {val_acc:.4f}, Test: {test_acc:.4f}')\n",
    "        \n"
   ]
  },
  {
   "cell_type": "code",
   "execution_count": 16,
   "metadata": {},
   "outputs": [
    {
     "name": "stdout",
     "output_type": "stream",
     "text": [
      "Val: 0.6097, Test: 0.5943\n"
     ]
    },
    {
     "data": {
      "text/plain": [
       "torch.Size([78428, 128])"
      ]
     },
     "execution_count": 16,
     "metadata": {},
     "output_type": "execute_result"
    }
   ],
   "source": [
    "x, edge_index = exp.data.x, exp.data.edge_index\n",
    "with torch.no_grad():\n",
    "    exp.model.eval()\n",
    "    val_acc, test_acc = exp.test()\n",
    "    print(f'Val: {val_acc:.4f}, Test: {test_acc:.4f}')\n",
    "            \n",
    "    emb = exp.model.full_forward(x, edge_index).cpu()\n",
    "emb.size()\n",
    "\n",
    "    "
   ]
  },
  {
   "cell_type": "code",
   "execution_count": 17,
   "metadata": {},
   "outputs": [
    {
     "name": "stdout",
     "output_type": "stream",
     "text": [
      "(78428, 9)\n",
      "../data/emnlp2018_bias_level3_sageunsup.json\n"
     ]
    }
   ],
   "source": [
    "import pandas as pd\n",
    "import json\n",
    "nodes_df = pd.read_csv(nodes_file)\n",
    "print(nodes_df.shape)\n",
    "emb_dict = dict(zip(nodes_df.node.tolist(), emb.tolist()))\n",
    "emb_filename = \"../data/{}_{}_level{}_{}.json\".format(ds_name, task, level, model_name)\n",
    "print(emb_filename)\n",
    "with open(emb_filename, 'w') as emb_file:\n",
    "    json.dump(emb_dict, emb_file)"
   ]
  },
  {
   "cell_type": "code",
   "execution_count": 9,
   "metadata": {},
   "outputs": [
    {
     "data": {
      "text/plain": [
       "(0.6049528301886793, 0.5943396226415094)"
      ]
     },
     "execution_count": 9,
     "metadata": {},
     "output_type": "execute_result"
    }
   ],
   "source": [
    "from sklearn.linear_model import LogisticRegression\n",
    "\n",
    "data = exp.data.cpu()\n",
    "# out = data.x\n",
    "clf = LogisticRegression()\n",
    "clf.fit(emb[data.validation_mask], data.y[data.validation_mask])\n",
    "\n",
    "val_acc = clf.score(emb[data.validation_mask], data.y[data.validation_mask])\n",
    "test_acc = clf.score(emb[data.test_mask], data.y[data.test_mask])\n",
    "val_acc, test_acc"
   ]
  },
  {
   "cell_type": "code",
   "execution_count": null,
   "metadata": {},
   "outputs": [],
   "source": [
    "# data = exp.data.cpu()\n",
    "palette = {}\n",
    "\n",
    "for n, y in enumerate(set(data.y.cpu().numpy())):\n",
    "    palette[y] = f'C{n}'\n",
    "\n",
    "embd = umap.UMAP().fit_transform(out.cpu().numpy())\n",
    "\n",
    "print(type(embd),len(embd[0]))\n",
    "# numpy.savetxt(f\"./embeddings/{test_name}.csv\", embd, delimiter=\",\")\n",
    "plt.figure(figsize=(10, 10))\n",
    "sns.scatterplot(x=embd.T[0][data.test_mask], y=embd.T[1][data.test_mask], hue=data.y.cpu()[data.test_mask].numpy(), palette=palette)\n",
    "plt.legend(bbox_to_anchor=(1,1), loc='upper left')\n",
    "plt.savefig(f\"embeddings/{test_name}.png\", dpi=120)"
   ]
  },
  {
   "cell_type": "code",
   "execution_count": null,
   "metadata": {},
   "outputs": [],
   "source": [
    "print(data.x.size())\n",
    "\n",
    "embd_x = umap.UMAP().fit_transform(data.x.cpu().numpy())\n",
    "plt.figure(figsize=(10, 10))\n",
    "sns.scatterplot(x=embd_x.T[0][data.test_mask], y=embd_x.T[1][data.test_mask], hue=data.y[data.test_mask].cpu().numpy(), palette=palette)\n",
    "plt.legend(bbox_to_anchor=(1,1), loc='upper left')\n",
    "plt.savefig(f\"./embeddings/{test_name}_data.png\", dpi=120)"
   ]
  },
  {
   "cell_type": "code",
   "execution_count": null,
   "metadata": {},
   "outputs": [],
   "source": [
    "from src.embedding import visualize_embedding\n",
    "\n",
    "visualize_embedding(data, data.x)"
   ]
  },
  {
   "cell_type": "code",
   "execution_count": null,
   "metadata": {},
   "outputs": [],
   "source": [
    "visualize_embedding(data, out)"
   ]
  }
 ],
 "metadata": {
  "interpreter": {
   "hash": "da7754cfe5736a779de9c912f8ab86311cd9fc8aff06664d95a8dd12bbb8945b"
  },
  "kernelspec": {
   "display_name": "Python 3 (ipykernel)",
   "language": "python",
   "name": "python3"
  },
  "language_info": {
   "codemirror_mode": {
    "name": "ipython",
    "version": 3
   },
   "file_extension": ".py",
   "mimetype": "text/x-python",
   "name": "python",
   "nbconvert_exporter": "python",
   "pygments_lexer": "ipython3",
   "version": "3.9.7"
  }
 },
 "nbformat": 4,
 "nbformat_minor": 4
}
