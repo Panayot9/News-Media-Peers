{
 "cells": [
  {
   "cell_type": "code",
   "execution_count": 1,
   "metadata": {},
   "outputs": [
    {
     "name": "stderr",
     "output_type": "stream",
     "text": [
      "2022-02-20 07:31:45.921000: I tensorflow/core/platform/cpu_feature_guard.cc:151] This TensorFlow binary is optimized with oneAPI Deep Neural Network Library (oneDNN) to use the following CPU instructions in performance-critical operations:  AVX2 FMA\n",
      "To enable them in other operations, rebuild TensorFlow with the appropriate compiler flags.\n"
     ]
    }
   ],
   "source": [
    "import sys\n",
    "import os\n",
    "sys.path.insert(0, '../../../')\n",
    "\n",
    "from stellargraph import StellarGraph\n",
    "import pandas as pd\n",
    "\n",
    "from notebooks.utils import _ALEXA_DATA_PATH, load_level_data, create_audience_overlap_weighted_nodes, load_corpus"
   ]
  },
  {
   "cell_type": "markdown",
   "metadata": {},
   "source": [
    "# For 2020 corpus"
   ]
  },
  {
   "cell_type": "code",
   "execution_count": 2,
   "metadata": {},
   "outputs": [
    {
     "name": "stdout",
     "output_type": "stream",
     "text": [
      "Corpus length: 859\n",
      "StellarGraph: Undirected multigraph\n",
      " Nodes: 484, Edges: 845\n",
      "\n",
      " Node types:\n",
      "  default: [484]\n",
      "    Features: none\n",
      "    Edge types: default-default->default\n",
      "\n",
      " Edge types:\n",
      "    default-default->default: [845]\n",
      "        Weights: range=[0.5, 71.3], mean=11.0786, std=9.42256\n",
      "        Features: none\n",
      "Percentage of audience overlap nodes in corpus: 0.5634458672875436\n"
     ]
    }
   ],
   "source": [
    "audience_overlap_sites = load_level_data(os.path.join(_ALEXA_DATA_PATH, 'corpus_2020_audience_overlap_sites_scrapping_result.json'), level=5)\n",
    "audience_overlap_sites_NODES = create_audience_overlap_weighted_nodes(audience_overlap_sites)\n",
    "corpus_2020 = [r['source_url_normalized'] for r in load_corpus()]\n",
    "print('Corpus length:', len(corpus_2020))  # 859\n",
    "corpus_nodes = [node for node in audience_overlap_sites_NODES if node[0] in corpus_2020 and node[1] in corpus_2020]\n",
    "\n",
    "G = StellarGraph(edges=pd.DataFrame(corpus_nodes, columns=['source', 'target', 'weight']))\n",
    "print(G.info())\n",
    "\"\"\"\n",
    "StellarGraph: Undirected multigraph\n",
    " Nodes: 484 Edges: 845\n",
    "\n",
    " Node types:\n",
    "  default: [484]\n",
    "    Features: none\n",
    "    Edge types: default-default->default\n",
    "\n",
    " Edge types:\n",
    "    default-default->default: [845]\n",
    "        Weights range=[0.5, 71.3], mean=11.0786, std=9.42256\n",
    "        Features: none\n",
    "\"\"\"\n",
    "\n",
    "print('Percentage of audience overlap nodes in corpus:', len(G.nodes().tolist()) / len(corpus_2020))\n",
    "# 484  / 859  = 0.5634458672875436"
   ]
  },
  {
   "cell_type": "code",
   "execution_count": 3,
   "metadata": {},
   "outputs": [],
   "source": [
    "pd.DataFrame(set(corpus_nodes), columns=['source', 'target', 'weight']).to_csv('../../../alexa_data/corpus_2020_audience_overlap_weighted_nodes.csv', index=False)"
   ]
  },
  {
   "cell_type": "markdown",
   "metadata": {},
   "source": [
    "# For 2018 corpus"
   ]
  },
  {
   "cell_type": "code",
   "execution_count": 4,
   "metadata": {},
   "outputs": [
    {
     "name": "stdout",
     "output_type": "stream",
     "text": [
      "Corpus length: 1061\n",
      "StellarGraph: Undirected multigraph\n",
      " Nodes: 616, Edges: 986\n",
      "\n",
      " Node types:\n",
      "  default: [616]\n",
      "    Features: none\n",
      "    Edge types: default-default->default\n",
      "\n",
      " Edge types:\n",
      "    default-default->default: [986]\n",
      "        Weights: range=[0.5, 73.8], mean=13.1786, std=12.523\n",
      "        Features: none\n",
      "Percentage of audience overlap nodes in corpus: 0.5805843543826579\n"
     ]
    }
   ],
   "source": [
    "audience_overlap_sites = load_level_data(os.path.join(_ALEXA_DATA_PATH, 'corpus_2018_audience_overlap_sites_scrapping_result.json'), level=5)\n",
    "audience_overlap_sites_NODES = create_audience_overlap_weighted_nodes(audience_overlap_sites)\n",
    "corpus_2018 = [r['source_url_normalized'] for r in load_corpus(data_year='2018')]\n",
    "print('Corpus length:', len(corpus_2018))  # 1061\n",
    "corpus_nodes = [node for node in audience_overlap_sites_NODES if node[0] in corpus_2018 and node[1] in corpus_2018]\n",
    "\n",
    "G = StellarGraph(edges=pd.DataFrame(corpus_nodes, columns=['source', 'target', 'weight']))\n",
    "print(G.info())\n",
    "\"\"\"\n",
    "StellarGraph: Undirected multigraph\n",
    " Nodes: 616, Edges: 986\n",
    "\n",
    " Node types:\n",
    "  default: [616]\n",
    "    Features: none\n",
    "    Edge types: default-default->default\n",
    "\n",
    " Edge types:\n",
    "    default-default->default: [986]\n",
    "        Weights: range=[0.5, 73.8], mean=13.1786, std=12.523\n",
    "        Features: none\n",
    "\"\"\"\n",
    "\n",
    "print('Percentage of audience overlap nodes in corpus:', len(G.nodes().tolist()) / len(corpus_2018))\n",
    "# 616  / 1061  = 0.5805843543826579\n"
   ]
  },
  {
   "cell_type": "code",
   "execution_count": 5,
   "metadata": {},
   "outputs": [],
   "source": [
    "pd.DataFrame(set(corpus_nodes), columns=['source', 'target', 'weight']).to_csv('../../../alexa_data/corpus_2018_audience_overlap_weighted_nodes.csv', index=False)"
   ]
  }
 ],
 "metadata": {
  "interpreter": {
   "hash": "940b4c110c3cebababd37dc6cec19477a44e469d32c41a0eaa8eeb689ff0386b"
  },
  "kernelspec": {
   "display_name": "Python 3.8.12 64-bit ('mediapeers': conda)",
   "language": "python",
   "name": "python3"
  },
  "language_info": {
   "codemirror_mode": {
    "name": "ipython",
    "version": 3
   },
   "file_extension": ".py",
   "mimetype": "text/x-python",
   "name": "python",
   "nbconvert_exporter": "python",
   "pygments_lexer": "ipython3",
   "version": "3.8.12"
  },
  "orig_nbformat": 4
 },
 "nbformat": 4,
 "nbformat_minor": 2
}
