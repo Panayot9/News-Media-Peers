{
 "cells": [
  {
   "cell_type": "code",
   "execution_count": 1,
   "metadata": {},
   "outputs": [
    {
     "name": "stderr",
     "output_type": "stream",
     "text": [
      "2022-02-22 10:39:09.085699: I tensorflow/core/platform/cpu_feature_guard.cc:151] This TensorFlow binary is optimized with oneAPI Deep Neural Network Library (oneDNN) to use the following CPU instructions in performance-critical operations:  AVX2 FMA\n",
      "To enable them in other operations, rebuild TensorFlow with the appropriate compiler flags.\n"
     ]
    }
   ],
   "source": [
    "import sys\n",
    "import os\n",
    "sys.path.insert(0, '../../')\n",
    "\n",
    "from stellargraph import StellarGraph\n",
    "import pandas as pd\n",
    "\n",
    "from notebooks.utils import _ALEXA_DATA_PATH, load_json, create_referral_sites_nodes, load_corpus"
   ]
  },
  {
   "cell_type": "markdown",
   "metadata": {},
   "source": [
    "# For 2020 corpus"
   ]
  },
  {
   "cell_type": "code",
   "execution_count": 2,
   "metadata": {},
   "outputs": [
    {
     "name": "stdout",
     "output_type": "stream",
     "text": [
      "Corpus length: 859\n",
      "StellarGraph: Undirected multigraph\n",
      " Nodes: 480, Edges: 719\n",
      "\n",
      " Node types:\n",
      "  default: [480]\n",
      "    Features: none\n",
      "    Edge types: default-default->default\n",
      "\n",
      " Edge types:\n",
      "    default-default->default: [719]\n",
      "        Weights: all 1 (default)\n",
      "        Features: none\n",
      "Percentage of referral nodes in corpus: 0.5587892898719441\n"
     ]
    }
   ],
   "source": [
    "referral_sites = load_json(os.path.join(_ALEXA_DATA_PATH, 'corpus_2020_referral_sites.json'))\n",
    "referral_sites_NODES = create_referral_sites_nodes(referral_sites)\n",
    "corpus_2020 = [r['source_url_normalized'] for r in load_corpus()]\n",
    "print('Corpus length:', len(corpus_2020))  # 859\n",
    "corpus_nodes = [node for node in referral_sites_NODES if node[0] in corpus_2020 and node[1] in corpus_2020]\n",
    "\n",
    "G = StellarGraph(edges=pd.DataFrame(corpus_nodes, columns=['source', 'target']))\n",
    "print(G.info())\n",
    "\"\"\"\n",
    "StellarGraph: Undirected multigraph\n",
    " Nodes: 480 Edges: 719\n",
    "\n",
    " Node types:\n",
    "  default: [480]\n",
    "    Features: none\n",
    "    Edge types: default-default->default\n",
    "\n",
    " Edge types:\n",
    "    default-default->default: [719]\n",
    "        Weights: all 1 (default)\n",
    "        Features: none\n",
    "\"\"\"\n",
    "\n",
    "print('Percentage of referral nodes in corpus:', len(G.nodes().tolist()) / len(corpus_2020))\n",
    "# 480  / 859  = 0.5587892898719441"
   ]
  },
  {
   "cell_type": "markdown",
   "metadata": {},
   "source": [
    "# For 2018 corpus"
   ]
  },
  {
   "cell_type": "code",
   "execution_count": 3,
   "metadata": {},
   "outputs": [
    {
     "name": "stdout",
     "output_type": "stream",
     "text": [
      "Corpus length: 1061\n",
      "StellarGraph: Undirected multigraph\n",
      " Nodes: 626, Edges: 861\n",
      "\n",
      " Node types:\n",
      "  default: [626]\n",
      "    Features: none\n",
      "    Edge types: default-default->default\n",
      "\n",
      " Edge types:\n",
      "    default-default->default: [861]\n",
      "        Weights: all 1 (default)\n",
      "        Features: none\n",
      "Percentage of referral nodes in corpus: 0.590009425070688\n"
     ]
    }
   ],
   "source": [
    "referral_sites = load_json(os.path.join(_ALEXA_DATA_PATH, 'modified_corpus_2018_referral_sites.json'))\n",
    "referral_sites_NODES = create_referral_sites_nodes(referral_sites)\n",
    "corpus_2018 = [r['source_url_normalized'] for r in load_corpus(data_year='2018')]\n",
    "print('Corpus length:', len(corpus_2018))  # 1061\n",
    "corpus_nodes = [node for node in referral_sites_NODES if node[0] in corpus_2018 and node[1] in corpus_2018]\n",
    "\n",
    "G = StellarGraph(edges=pd.DataFrame(corpus_nodes, columns=['source', 'target']))\n",
    "print(G.info())\n",
    "\"\"\"\n",
    "StellarGraph: Undirected multigraph\n",
    " Nodes: 626, Edges: 861\n",
    "\n",
    " Node types:\n",
    "  default: [626]\n",
    "    Features: none\n",
    "    Edge types: default-default->default\n",
    "\n",
    " Edge types:\n",
    "    default-default->default: [861]\n",
    "        Weights: all 1 (default)\n",
    "        Features: none\n",
    "\"\"\"\n",
    "\n",
    "print('Percentage of referral nodes in corpus:', len(G.nodes().tolist()) / len(corpus_2018))\n",
    "# 626  / 1061  = 0.590009425070688\n"
   ]
  },
  {
   "cell_type": "code",
   "execution_count": null,
   "metadata": {},
   "outputs": [],
   "source": []
  }
 ],
 "metadata": {
  "interpreter": {
   "hash": "940b4c110c3cebababd37dc6cec19477a44e469d32c41a0eaa8eeb689ff0386b"
  },
  "kernelspec": {
   "display_name": "Python 3.8.12 64-bit ('mediapeers': conda)",
   "language": "python",
   "name": "python3"
  },
  "language_info": {
   "codemirror_mode": {
    "name": "ipython",
    "version": 3
   },
   "file_extension": ".py",
   "mimetype": "text/x-python",
   "name": "python",
   "nbconvert_exporter": "python",
   "pygments_lexer": "ipython3",
   "version": "3.8.12"
  },
  "orig_nbformat": 4
 },
 "nbformat": 4,
 "nbformat_minor": 2
}
