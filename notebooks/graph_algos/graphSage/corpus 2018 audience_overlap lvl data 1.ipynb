{
 "cells": [
  {
   "cell_type": "code",
   "execution_count": 1,
   "metadata": {},
   "outputs": [
    {
     "name": "stderr",
     "output_type": "stream",
     "text": [
      "2022-01-12 11:56:47.502738: I tensorflow/core/platform/cpu_feature_guard.cc:151] This TensorFlow binary is optimized with oneAPI Deep Neural Network Library (oneDNN) to use the following CPU instructions in performance-critical operations:  AVX2 FMA\n",
      "To enable them in other operations, rebuild TensorFlow with the appropriate compiler flags.\n"
     ]
    }
   ],
   "source": [
    "import pandas as pd\n",
    "import sys\n",
    "import os\n",
    "sys.path.insert(0, '../../../')\n",
    "\n",
    "from notebooks.utils import _ALEXA_DATA_PATH, load_node_features, load_level_data, create_nodes, export_model_as_feature\n",
    "from train import run_experiment"
   ]
  },
  {
   "cell_type": "markdown",
   "metadata": {},
   "source": [
    "# Load audience overlap edges for level 1"
   ]
  },
  {
   "cell_type": "code",
   "execution_count": 2,
   "metadata": {},
   "outputs": [
    {
     "name": "stderr",
     "output_type": "stream",
     "text": [
      "01-12 11:56:49 notebooks.utils INFO     Loaded 4238 nodes with records level <= 1 and child size:20335\n"
     ]
    },
    {
     "name": "stdout",
     "output_type": "stream",
     "text": [
      "[('villagevoice.com', 'nylon.com'), ('villagevoice.com', 'slantmagazine.com'), ('villagevoice.com', 'gothamist.com'), ('villagevoice.com', 'screendaily.com'), ('villagevoice.com', 'amny.com')]\n"
     ]
    }
   ],
   "source": [
    "level = 1\n",
    "audience_overlap_sites = load_level_data(os.path.join(_ALEXA_DATA_PATH, 'corpus_2018_audience_overlap_sites_scrapping_result.json'), level=level)\n",
    "audience_overlap_sites_NODES = create_nodes(audience_overlap_sites)\n",
    "\n",
    "print(audience_overlap_sites_NODES[:5])"
   ]
  },
  {
   "cell_type": "code",
   "execution_count": 3,
   "metadata": {},
   "outputs": [
    {
     "data": {
      "text/html": [
       "<div>\n",
       "<style scoped>\n",
       "    .dataframe tbody tr th:only-of-type {\n",
       "        vertical-align: middle;\n",
       "    }\n",
       "\n",
       "    .dataframe tbody tr th {\n",
       "        vertical-align: top;\n",
       "    }\n",
       "\n",
       "    .dataframe thead th {\n",
       "        text-align: right;\n",
       "    }\n",
       "</style>\n",
       "<table border=\"1\" class=\"dataframe\">\n",
       "  <thead>\n",
       "    <tr style=\"text-align: right;\">\n",
       "      <th></th>\n",
       "      <th>source</th>\n",
       "      <th>target</th>\n",
       "    </tr>\n",
       "  </thead>\n",
       "  <tbody>\n",
       "    <tr>\n",
       "      <th>0</th>\n",
       "      <td>villagevoice.com</td>\n",
       "      <td>nylon.com</td>\n",
       "    </tr>\n",
       "    <tr>\n",
       "      <th>1</th>\n",
       "      <td>villagevoice.com</td>\n",
       "      <td>slantmagazine.com</td>\n",
       "    </tr>\n",
       "    <tr>\n",
       "      <th>2</th>\n",
       "      <td>villagevoice.com</td>\n",
       "      <td>gothamist.com</td>\n",
       "    </tr>\n",
       "    <tr>\n",
       "      <th>3</th>\n",
       "      <td>villagevoice.com</td>\n",
       "      <td>screendaily.com</td>\n",
       "    </tr>\n",
       "    <tr>\n",
       "      <th>4</th>\n",
       "      <td>villagevoice.com</td>\n",
       "      <td>amny.com</td>\n",
       "    </tr>\n",
       "  </tbody>\n",
       "</table>\n",
       "</div>"
      ],
      "text/plain": [
       "             source             target\n",
       "0  villagevoice.com          nylon.com\n",
       "1  villagevoice.com  slantmagazine.com\n",
       "2  villagevoice.com      gothamist.com\n",
       "3  villagevoice.com    screendaily.com\n",
       "4  villagevoice.com           amny.com"
      ]
     },
     "execution_count": 3,
     "metadata": {},
     "output_type": "execute_result"
    }
   ],
   "source": [
    "edge_df = pd.DataFrame(audience_overlap_sites_NODES, columns=['source', 'target'])\n",
    "\n",
    "edge_df.head()"
   ]
  },
  {
   "cell_type": "markdown",
   "metadata": {},
   "source": [
    "### Find all unique nodes in edges"
   ]
  },
  {
   "cell_type": "code",
   "execution_count": 4,
   "metadata": {},
   "outputs": [
    {
     "name": "stdout",
     "output_type": "stream",
     "text": [
      "Number of unique nodes in edges: 11865 Sample: ['ecoffeecup.eco', 'investinrochdale.co.uk', 'rasthaa.com', 'whydontyoutrythis.com', 'kayasthapariwar.weebly.com']\n"
     ]
    }
   ],
   "source": [
    "nodes_in_edges = list(set(edge_df.source.unique().tolist() + edge_df.target.unique().tolist()))\n",
    "print('Number of unique nodes in edges:', len(nodes_in_edges), 'Sample:', nodes_in_edges[:5])"
   ]
  },
  {
   "cell_type": "markdown",
   "metadata": {},
   "source": [
    "### 1. Load all node features"
   ]
  },
  {
   "cell_type": "code",
   "execution_count": 5,
   "metadata": {},
   "outputs": [
    {
     "data": {
      "text/html": [
       "<div>\n",
       "<style scoped>\n",
       "    .dataframe tbody tr th:only-of-type {\n",
       "        vertical-align: middle;\n",
       "    }\n",
       "\n",
       "    .dataframe tbody tr th {\n",
       "        vertical-align: top;\n",
       "    }\n",
       "\n",
       "    .dataframe thead th {\n",
       "        text-align: right;\n",
       "    }\n",
       "</style>\n",
       "<table border=\"1\" class=\"dataframe\">\n",
       "  <thead>\n",
       "    <tr style=\"text-align: right;\">\n",
       "      <th></th>\n",
       "      <th>alexa_rank</th>\n",
       "      <th>daily_pageviews_per_visitor</th>\n",
       "      <th>daily_time_on_site</th>\n",
       "      <th>total_sites_linking_in</th>\n",
       "      <th>bounce_rate</th>\n",
       "    </tr>\n",
       "    <tr>\n",
       "      <th>site</th>\n",
       "      <th></th>\n",
       "      <th></th>\n",
       "      <th></th>\n",
       "      <th></th>\n",
       "      <th></th>\n",
       "    </tr>\n",
       "  </thead>\n",
       "  <tbody>\n",
       "    <tr>\n",
       "      <th>whistleblowersandrelators.com</th>\n",
       "      <td>NaN</td>\n",
       "      <td>NaN</td>\n",
       "      <td>NaN</td>\n",
       "      <td>NaN</td>\n",
       "      <td>NaN</td>\n",
       "    </tr>\n",
       "    <tr>\n",
       "      <th>geokov.com</th>\n",
       "      <td>2238341.0</td>\n",
       "      <td>1.0</td>\n",
       "      <td>NaN</td>\n",
       "      <td>60.0</td>\n",
       "      <td>0.900</td>\n",
       "    </tr>\n",
       "    <tr>\n",
       "      <th>trainingandfacilitation.ca</th>\n",
       "      <td>NaN</td>\n",
       "      <td>NaN</td>\n",
       "      <td>NaN</td>\n",
       "      <td>NaN</td>\n",
       "      <td>NaN</td>\n",
       "    </tr>\n",
       "    <tr>\n",
       "      <th>plumsolutions.com.au</th>\n",
       "      <td>1023533.0</td>\n",
       "      <td>1.0</td>\n",
       "      <td>138.0</td>\n",
       "      <td>60.0</td>\n",
       "      <td>0.813</td>\n",
       "    </tr>\n",
       "    <tr>\n",
       "      <th>dbdailyupdate.com</th>\n",
       "      <td>145283.0</td>\n",
       "      <td>1.7</td>\n",
       "      <td>179.0</td>\n",
       "      <td>64.0</td>\n",
       "      <td>0.756</td>\n",
       "    </tr>\n",
       "  </tbody>\n",
       "</table>\n",
       "</div>"
      ],
      "text/plain": [
       "                               alexa_rank  daily_pageviews_per_visitor  \\\n",
       "site                                                                     \n",
       "whistleblowersandrelators.com         NaN                          NaN   \n",
       "geokov.com                      2238341.0                          1.0   \n",
       "trainingandfacilitation.ca            NaN                          NaN   \n",
       "plumsolutions.com.au            1023533.0                          1.0   \n",
       "dbdailyupdate.com                145283.0                          1.7   \n",
       "\n",
       "                               daily_time_on_site  total_sites_linking_in  \\\n",
       "site                                                                        \n",
       "whistleblowersandrelators.com                 NaN                     NaN   \n",
       "geokov.com                                    NaN                    60.0   \n",
       "trainingandfacilitation.ca                    NaN                     NaN   \n",
       "plumsolutions.com.au                        138.0                    60.0   \n",
       "dbdailyupdate.com                           179.0                    64.0   \n",
       "\n",
       "                               bounce_rate  \n",
       "site                                        \n",
       "whistleblowersandrelators.com          NaN  \n",
       "geokov.com                           0.900  \n",
       "trainingandfacilitation.ca             NaN  \n",
       "plumsolutions.com.au                 0.813  \n",
       "dbdailyupdate.com                    0.756  "
      ]
     },
     "execution_count": 5,
     "metadata": {},
     "output_type": "execute_result"
    }
   ],
   "source": [
    "node_features_df = load_node_features()\n",
    "node_features_df = node_features_df.set_index('site')\n",
    "node_features_df.head()"
   ]
  },
  {
   "cell_type": "markdown",
   "metadata": {},
   "source": [
    "# Subset node_features"
   ]
  },
  {
   "cell_type": "code",
   "execution_count": 6,
   "metadata": {},
   "outputs": [],
   "source": [
    "node_features_df = node_features_df.loc[nodes_in_edges]"
   ]
  },
  {
   "cell_type": "code",
   "execution_count": 7,
   "metadata": {},
   "outputs": [
    {
     "name": "stdout",
     "output_type": "stream",
     "text": [
      "<class 'pandas.core.frame.DataFrame'>\n",
      "Index: 11865 entries, ecoffeecup.eco to libertyhealthshare.org\n",
      "Data columns (total 5 columns):\n",
      " #   Column                       Non-Null Count  Dtype  \n",
      "---  ------                       --------------  -----  \n",
      " 0   alexa_rank                   8657 non-null   float64\n",
      " 1   daily_pageviews_per_visitor  8658 non-null   float64\n",
      " 2   daily_time_on_site           6458 non-null   float64\n",
      " 3   total_sites_linking_in       11469 non-null  float64\n",
      " 4   bounce_rate                  6022 non-null   float64\n",
      "dtypes: float64(5)\n",
      "memory usage: 556.2+ KB\n"
     ]
    }
   ],
   "source": [
    "node_features_df.info()"
   ]
  },
  {
   "cell_type": "markdown",
   "metadata": {},
   "source": [
    "### 2. Fill all missing alexa_rank and total_sites_linking_in with 0 "
   ]
  },
  {
   "cell_type": "code",
   "execution_count": 8,
   "metadata": {},
   "outputs": [
    {
     "name": "stdout",
     "output_type": "stream",
     "text": [
      "<class 'pandas.core.frame.DataFrame'>\n",
      "Index: 11865 entries, ecoffeecup.eco to libertyhealthshare.org\n",
      "Data columns (total 5 columns):\n",
      " #   Column                       Non-Null Count  Dtype  \n",
      "---  ------                       --------------  -----  \n",
      " 0   alexa_rank                   11865 non-null  float64\n",
      " 1   daily_pageviews_per_visitor  8658 non-null   float64\n",
      " 2   daily_time_on_site           6458 non-null   float64\n",
      " 3   total_sites_linking_in       11865 non-null  float64\n",
      " 4   bounce_rate                  6022 non-null   float64\n",
      "dtypes: float64(5)\n",
      "memory usage: 556.2+ KB\n"
     ]
    }
   ],
   "source": [
    "node_features_df.alexa_rank = node_features_df.alexa_rank.fillna(0)\n",
    "node_features_df.total_sites_linking_in = node_features_df.total_sites_linking_in.fillna(0)\n",
    "node_features_df.info()"
   ]
  },
  {
   "cell_type": "markdown",
   "metadata": {},
   "source": [
    "### 3. Normalizing features"
   ]
  },
  {
   "cell_type": "code",
   "execution_count": 9,
   "metadata": {},
   "outputs": [],
   "source": [
    "import math\n",
    "\n",
    "node_features_df['normalized_alexa_rank'] = node_features_df['alexa_rank'].apply(lambda x: 1/x if x else 0)\n",
    "node_features_df['normalized_total_sites_linked_in'] = node_features_df['total_sites_linking_in'].apply(lambda x: math.log2(x) if x else 0)"
   ]
  },
  {
   "cell_type": "markdown",
   "metadata": {},
   "source": [
    "# Create Graph"
   ]
  },
  {
   "cell_type": "code",
   "execution_count": 10,
   "metadata": {},
   "outputs": [
    {
     "name": "stdout",
     "output_type": "stream",
     "text": [
      "StellarGraph: Undirected multigraph\n",
      " Nodes: 11865, Edges: 20399\n",
      "\n",
      " Node types:\n",
      "  default: [11865]\n",
      "    Features: float32 vector, length 2\n",
      "    Edge types: default-default->default\n",
      "\n",
      " Edge types:\n",
      "    default-default->default: [20399]\n",
      "        Weights: all 1 (default)\n",
      "        Features: none\n"
     ]
    }
   ],
   "source": [
    "import stellargraph as sg\n",
    "\n",
    "G = sg.StellarGraph(nodes=node_features_df.loc[nodes_in_edges, ['normalized_alexa_rank', 'normalized_total_sites_linked_in']], edges=edge_df)\n",
    "\n",
    "print(G.info())"
   ]
  },
  {
   "cell_type": "markdown",
   "metadata": {},
   "source": [
    "# Unsupervised GraphSAGE\n",
    "from stellargraph.mapper import GraphSAGELinkGenerator\n",
    "from stellargraph.layer import GraphSAGE, link_classification\n",
    "from stellargraph.data import UnsupervisedSampler\n",
    "\n",
    "from tensorflow import keras"
   ]
  },
  {
   "cell_type": "code",
   "execution_count": 11,
   "metadata": {},
   "outputs": [
    {
     "name": "stdout",
     "output_type": "stream",
     "text": [
      "link_classification: using 'ip' method to combine node embeddings into edge embeddings\n"
     ]
    }
   ],
   "source": [
    "from stellargraph.mapper import GraphSAGELinkGenerator\n",
    "from stellargraph.layer import GraphSAGE, link_classification\n",
    "from stellargraph.data import UnsupervisedSampler\n",
    "\n",
    "from tensorflow import keras\n",
    "\n",
    "# 1. Specify the other optional parameter values: root nodes, the number of walks to take per node, the length of each walk, and random seed.\n",
    "\n",
    "nodes = list(G.nodes())\n",
    "number_of_walks = 1\n",
    "length = 5\n",
    "\n",
    "# 2. Create the UnsupervisedSampler instance with the relevant parameters passed to it.\n",
    "unsupervised_samples = UnsupervisedSampler(G, nodes=nodes, length=length, number_of_walks=number_of_walks)\n",
    "\n",
    "# 3. Create a node pair generator:\n",
    "batch_size = 128\n",
    "epochs = 4\n",
    "num_samples = [10, 5]\n",
    "\n",
    "graphsage_link_generator = GraphSAGELinkGenerator(G, batch_size, num_samples)\n",
    "train_graphsage_link_gen = graphsage_link_generator.flow(unsupervised_samples)\n",
    "\n",
    "layer_sizes = [128, 512]\n",
    "graphsage = GraphSAGE(\n",
    "    layer_sizes=layer_sizes, generator=graphsage_link_generator, bias=True, dropout=0.0, normalize=\"l2\"\n",
    ")\n",
    "\n",
    "# Build the model and expose input and output sockets of graphsage, for node pair inputs:\n",
    "x_inp, x_out = graphsage.in_out_tensors()\n",
    "\n",
    "prediction = link_classification(\n",
    "    output_dim=1, output_act=\"sigmoid\", edge_embedding_method=\"ip\"\n",
    ")(x_out)\n",
    "\n",
    "graphsage_model = keras.Model(inputs=x_inp, outputs=prediction)\n",
    "\n",
    "graphsage_model.compile(\n",
    "    optimizer=keras.optimizers.Adam(lr=1e-3),\n",
    "    loss=keras.losses.categorical_crossentropy,\n",
    "    metrics=['acc'],\n",
    ")"
   ]
  },
  {
   "cell_type": "code",
   "execution_count": 12,
   "metadata": {},
   "outputs": [
    {
     "name": "stdout",
     "output_type": "stream",
     "text": [
      "Epoch 1/4\n",
      "742/742 [==============================] - 92s 122ms/step - loss: 5.9605e-08 - acc: 0.49986s - loss: 5.9713e-08 - acc: - ETA: 5s - loss: 5.9694e-08 - - ETA: 3s - loss\n",
      "Epoch 2/4\n",
      "742/742 [==============================] - 101s 136ms/step - loss: 5.9605e-08 - acc: 0.4998s - loss: 5.9586e-08 - ac - ETA: 6s - loss: 5.9629e-08 - acc: - ETA: \n",
      "Epoch 3/4\n",
      "742/742 [==============================] - 97s 131ms/step - loss: 5.9605e-08 - acc: 0.5000A: 3s - loss: 5.9622e-08 - acc: 0.50 - ETA: 2s - loss: 5.9625e-08 - acc: 0.500 - ETA: 2s - loss: 5.9634e-08 - acc: 0.5 - ETA: 2s - loss: 5.9650e-\n",
      "Epoch 4/4\n",
      "742/742 [==============================] - 95s 127ms/step - loss: 5.9605e-08 - acc: 0.499811s - loss:  - ETA: 10s - loss: 5.96 - ETA: 8s - loss: 5.9592e-08 - acc: 0.499 - ETA: 8s - loss: 5.9607e-08 - acc: 0. - ETA - ETA: 2s - loss: 5.9567e-08  - ETA: 1s - loss: 5.9612e-08 - acc: \n"
     ]
    }
   ],
   "source": [
    "history = graphsage_model.fit(\n",
    "    train_graphsage_link_gen,\n",
    "    epochs=epochs,\n",
    "    verbose=1,\n",
    "    use_multiprocessing=False,\n",
    "    workers=4,\n",
    "    shuffle=True,\n",
    ")"
   ]
  },
  {
   "cell_type": "code",
   "execution_count": 13,
   "metadata": {},
   "outputs": [
    {
     "name": "stdout",
     "output_type": "stream",
     "text": [
      "93/93 [==============================] - 6s 64ms/step\n"
     ]
    }
   ],
   "source": [
    "embedding_model = keras.Model(inputs=x_inp[0::2], outputs=x_out[0])\n",
    "\n",
    "from stellargraph.mapper import GraphSAGENodeGenerator\n",
    "\n",
    "node_gen = GraphSAGENodeGenerator(G, batch_size, num_samples).flow(node_features_df.index)\n",
    "node_embeddings = embedding_model.predict(node_gen, workers=4, verbose=1)\n",
    "\n",
    "embeddings_wv = dict(zip(node_features_df.index.tolist(), node_embeddings.tolist()))\n",
    "\n",
    "# print('Sample:', embeddings_wv['crooked.com'][:10])"
   ]
  },
  {
   "cell_type": "markdown",
   "metadata": {},
   "source": [
    "# Export embeddings as feature"
   ]
  },
  {
   "cell_type": "code",
   "execution_count": 14,
   "metadata": {},
   "outputs": [
    {
     "data": {
      "text/plain": [
       "'/Users/panayot/Documents/News-Media-Peers/data/emnlp2018/features/graph_sage_audience_overlap_level_1_epochs_4.json'"
      ]
     },
     "execution_count": 14,
     "metadata": {},
     "output_type": "execute_result"
    }
   ],
   "source": [
    "export_model_as_feature(embeddings_wv, f'graph_sage_audience_overlap_level_{level}_epochs_{epochs}', data_year='2018')"
   ]
  },
  {
   "cell_type": "code",
   "execution_count": 15,
   "metadata": {},
   "outputs": [
    {
     "name": "stdout",
     "output_type": "stream",
     "text": [
      "+------+---------------------+---------------+--------------------+----------------------------------------------+\n",
      "| task | classification_mode | type_training | normalize_features |                   features                   |\n",
      "+------+---------------------+---------------+--------------------+----------------------------------------------+\n",
      "| fact |  single classifier  |    combine    |        True        | graph_sage_audience_overlap_level_1_epochs_4 |\n",
      "+------+---------------------+---------------+--------------------+----------------------------------------------+\n"
     ]
    },
    {
     "name": "stderr",
     "output_type": "stream",
     "text": [
      "01-12 12:03:40 train        INFO     Start training...\n",
      "01-12 12:03:40 train        INFO     Fold: 0\n",
      "01-12 12:03:57 train        INFO     Fold: 1\n",
      "01-12 12:04:09 train        INFO     Fold: 2\n",
      "01-12 12:04:19 train        INFO     Fold: 3\n",
      "01-12 12:04:29 train        INFO     Fold: 4\n"
     ]
    },
    {
     "name": "stdout",
     "output_type": "stream",
     "text": [
      "+------+---------------------+---------------+--------------------+----------------------------------------------+-------------------+-------------------+--------------------+--------------------+\n",
      "| task | classification_mode | type_training | normalize_features |                   features                   |      Macro-F1     |      Accuracy     |  Flip error-rate   |        MAE         |\n",
      "+------+---------------------+---------------+--------------------+----------------------------------------------+-------------------+-------------------+--------------------+--------------------+\n",
      "| fact |  single classifier  |    combine    |        True        | graph_sage_audience_overlap_level_1_epochs_4 | 40.61284380518628 | 50.51837888784166 | 18.473138548539115 | 0.6795475966069745 |\n",
      "+------+---------------------+---------------+--------------------+----------------------------------------------+-------------------+-------------------+--------------------+--------------------+\n"
     ]
    }
   ],
   "source": [
    "run_experiment(features=f'graph_sage_audience_overlap_level_{level}_epochs_{epochs}', dataset='emnlp2018')"
   ]
  },
  {
   "cell_type": "code",
   "execution_count": 16,
   "metadata": {},
   "outputs": [
    {
     "name": "stdout",
     "output_type": "stream",
     "text": [
      "+------+---------------------+---------------+--------------------+----------------------------------------------+\n",
      "| task | classification_mode | type_training | normalize_features |                   features                   |\n",
      "+------+---------------------+---------------+--------------------+----------------------------------------------+\n",
      "| bias |  single classifier  |    combine    |        True        | graph_sage_audience_overlap_level_1_epochs_4 |\n",
      "+------+---------------------+---------------+--------------------+----------------------------------------------+\n"
     ]
    },
    {
     "name": "stderr",
     "output_type": "stream",
     "text": [
      "01-12 12:04:42 train        INFO     Start training...\n",
      "01-12 12:04:42 train        INFO     Fold: 0\n",
      "01-12 12:04:57 train        INFO     Fold: 1\n",
      "01-12 12:05:07 train        INFO     Fold: 2\n",
      "01-12 12:05:18 train        INFO     Fold: 3\n",
      "01-12 12:05:28 train        INFO     Fold: 4\n"
     ]
    },
    {
     "name": "stdout",
     "output_type": "stream",
     "text": [
      "+------+---------------------+---------------+--------------------+----------------------------------------------+--------------------+--------------------+-------------------+--------------------+\n",
      "| task | classification_mode | type_training | normalize_features |                   features                   |      Macro-F1      |      Accuracy      |  Flip error-rate  |        MAE         |\n",
      "+------+---------------------+---------------+--------------------+----------------------------------------------+--------------------+--------------------+-------------------+--------------------+\n",
      "| bias |  single classifier  |    combine    |        True        | graph_sage_audience_overlap_level_1_epochs_4 | 36.139472580223035 | 46.842601319509896 | 7.917059377945335 | 0.6107445805843544 |\n",
      "+------+---------------------+---------------+--------------------+----------------------------------------------+--------------------+--------------------+-------------------+--------------------+\n"
     ]
    }
   ],
   "source": [
    "run_experiment(features=f'graph_sage_audience_overlap_level_{level}_epochs_{epochs}', dataset='emnlp2018', task='bias')"
   ]
  }
 ],
 "metadata": {
  "interpreter": {
   "hash": "940b4c110c3cebababd37dc6cec19477a44e469d32c41a0eaa8eeb689ff0386b"
  },
  "kernelspec": {
   "display_name": "Python 3.7.9 64-bit ('site_similarity': conda)",
   "language": "python",
   "name": "python3"
  },
  "language_info": {
   "codemirror_mode": {
    "name": "ipython",
    "version": 3
   },
   "file_extension": ".py",
   "mimetype": "text/x-python",
   "name": "python",
   "nbconvert_exporter": "python",
   "pygments_lexer": "ipython3",
   "version": "3.8.12"
  },
  "metadata": {
   "interpreter": {
    "hash": "72b3faef5542ae75c34eb0d3b11ce0fc432eb00b9ccfc309dfbebb58f482608a"
   }
  }
 },
 "nbformat": 4,
 "nbformat_minor": 4
}
