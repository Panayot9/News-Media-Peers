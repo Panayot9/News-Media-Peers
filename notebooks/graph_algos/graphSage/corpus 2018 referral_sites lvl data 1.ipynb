{
 "cells": [
  {
   "cell_type": "code",
   "execution_count": 1,
   "metadata": {},
   "outputs": [
    {
     "name": "stderr",
     "output_type": "stream",
     "text": [
      "2022-02-27 00:22:23.518758: I tensorflow/core/platform/cpu_feature_guard.cc:151] This TensorFlow binary is optimized with oneAPI Deep Neural Network Library (oneDNN) to use the following CPU instructions in performance-critical operations:  AVX2 FMA\n",
      "To enable them in other operations, rebuild TensorFlow with the appropriate compiler flags.\n"
     ]
    }
   ],
   "source": [
    "import pandas as pd\n",
    "import sys\n",
    "sys.path.insert(0, '../../../')\n",
    "\n",
    "from notebooks.utils import load_node_features, get_referral_sites_edges, export_model_as_feature\n",
    "from train import run_experiment"
   ]
  },
  {
   "cell_type": "markdown",
   "metadata": {},
   "source": [
    "# Load referral sites edges for level 1"
   ]
  },
  {
   "cell_type": "code",
   "execution_count": 2,
   "metadata": {},
   "outputs": [
    {
     "name": "stderr",
     "output_type": "stream",
     "text": [
      "02-27 00:22:23 notebooks.utils INFO     Processing level 0\n",
      "02-27 00:22:23 notebooks.utils INFO     Node length: 3922\n",
      "02-27 00:22:23 notebooks.utils INFO     Distinct node length: 3922\n",
      "02-27 00:22:23 notebooks.utils INFO     Processing level 1\n",
      "02-27 00:22:23 notebooks.utils INFO     Node length: 11144\n",
      "02-27 00:22:23 notebooks.utils INFO     Distinct node length: 11144\n"
     ]
    },
    {
     "name": "stdout",
     "output_type": "stream",
     "text": [
      "[('rantt.com', 'anxiousminds.org'), ('plymouthpatriotpost.com', 'plymouthpatriotpost.com'), ('antifascistnews.net', 'angrywhitemen.org'), ('oneindia.com', 'raftaar.in'), ('columbiadailyherald.com', 'springhilltn.org')]\n"
     ]
    }
   ],
   "source": [
    "level = 1\n",
    "referral_sites_NODES = get_referral_sites_edges(data_year=2018, level=level)\n",
    "\n",
    "print(referral_sites_NODES[:5])"
   ]
  },
  {
   "cell_type": "code",
   "execution_count": 3,
   "metadata": {},
   "outputs": [
    {
     "data": {
      "text/html": [
       "<div>\n",
       "<style scoped>\n",
       "    .dataframe tbody tr th:only-of-type {\n",
       "        vertical-align: middle;\n",
       "    }\n",
       "\n",
       "    .dataframe tbody tr th {\n",
       "        vertical-align: top;\n",
       "    }\n",
       "\n",
       "    .dataframe thead th {\n",
       "        text-align: right;\n",
       "    }\n",
       "</style>\n",
       "<table border=\"1\" class=\"dataframe\">\n",
       "  <thead>\n",
       "    <tr style=\"text-align: right;\">\n",
       "      <th></th>\n",
       "      <th>source</th>\n",
       "      <th>target</th>\n",
       "    </tr>\n",
       "  </thead>\n",
       "  <tbody>\n",
       "    <tr>\n",
       "      <th>0</th>\n",
       "      <td>rantt.com</td>\n",
       "      <td>anxiousminds.org</td>\n",
       "    </tr>\n",
       "    <tr>\n",
       "      <th>1</th>\n",
       "      <td>plymouthpatriotpost.com</td>\n",
       "      <td>plymouthpatriotpost.com</td>\n",
       "    </tr>\n",
       "    <tr>\n",
       "      <th>2</th>\n",
       "      <td>antifascistnews.net</td>\n",
       "      <td>angrywhitemen.org</td>\n",
       "    </tr>\n",
       "    <tr>\n",
       "      <th>3</th>\n",
       "      <td>oneindia.com</td>\n",
       "      <td>raftaar.in</td>\n",
       "    </tr>\n",
       "    <tr>\n",
       "      <th>4</th>\n",
       "      <td>columbiadailyherald.com</td>\n",
       "      <td>springhilltn.org</td>\n",
       "    </tr>\n",
       "  </tbody>\n",
       "</table>\n",
       "</div>"
      ],
      "text/plain": [
       "                    source                   target\n",
       "0                rantt.com         anxiousminds.org\n",
       "1  plymouthpatriotpost.com  plymouthpatriotpost.com\n",
       "2      antifascistnews.net        angrywhitemen.org\n",
       "3             oneindia.com               raftaar.in\n",
       "4  columbiadailyherald.com         springhilltn.org"
      ]
     },
     "execution_count": 3,
     "metadata": {},
     "output_type": "execute_result"
    }
   ],
   "source": [
    "edge_df = pd.DataFrame(referral_sites_NODES, columns=['source', 'target'])\n",
    "\n",
    "edge_df.head()"
   ]
  },
  {
   "cell_type": "markdown",
   "metadata": {},
   "source": [
    "### Find all unique nodes in edges"
   ]
  },
  {
   "cell_type": "code",
   "execution_count": 4,
   "metadata": {},
   "outputs": [
    {
     "name": "stdout",
     "output_type": "stream",
     "text": [
      "Number of unique nodes in edges: 8250 Sample: ['anh.com', 'nrawomen.tv', 'evaluationtoolbox.net.au', 'guyhut.com', 'holodomorinfo.com']\n"
     ]
    }
   ],
   "source": [
    "nodes_in_edges = list(set(edge_df.source.unique().tolist() + edge_df.target.unique().tolist()))\n",
    "print('Number of unique nodes in edges:', len(nodes_in_edges), 'Sample:', nodes_in_edges[:5])"
   ]
  },
  {
   "cell_type": "markdown",
   "metadata": {},
   "source": [
    "### 1. Load all node features"
   ]
  },
  {
   "cell_type": "code",
   "execution_count": 5,
   "metadata": {},
   "outputs": [
    {
     "data": {
      "text/html": [
       "<div>\n",
       "<style scoped>\n",
       "    .dataframe tbody tr th:only-of-type {\n",
       "        vertical-align: middle;\n",
       "    }\n",
       "\n",
       "    .dataframe tbody tr th {\n",
       "        vertical-align: top;\n",
       "    }\n",
       "\n",
       "    .dataframe thead th {\n",
       "        text-align: right;\n",
       "    }\n",
       "</style>\n",
       "<table border=\"1\" class=\"dataframe\">\n",
       "  <thead>\n",
       "    <tr style=\"text-align: right;\">\n",
       "      <th></th>\n",
       "      <th>alexa_rank</th>\n",
       "      <th>daily_pageviews_per_visitor</th>\n",
       "      <th>daily_time_on_site</th>\n",
       "      <th>total_sites_linking_in</th>\n",
       "      <th>bounce_rate</th>\n",
       "    </tr>\n",
       "    <tr>\n",
       "      <th>site</th>\n",
       "      <th></th>\n",
       "      <th></th>\n",
       "      <th></th>\n",
       "      <th></th>\n",
       "      <th></th>\n",
       "    </tr>\n",
       "  </thead>\n",
       "  <tbody>\n",
       "    <tr>\n",
       "      <th>whistleblowersandrelators.com</th>\n",
       "      <td>NaN</td>\n",
       "      <td>NaN</td>\n",
       "      <td>NaN</td>\n",
       "      <td>NaN</td>\n",
       "      <td>NaN</td>\n",
       "    </tr>\n",
       "    <tr>\n",
       "      <th>geokov.com</th>\n",
       "      <td>2238341.0</td>\n",
       "      <td>1.0</td>\n",
       "      <td>NaN</td>\n",
       "      <td>60.0</td>\n",
       "      <td>0.900</td>\n",
       "    </tr>\n",
       "    <tr>\n",
       "      <th>trainingandfacilitation.ca</th>\n",
       "      <td>NaN</td>\n",
       "      <td>NaN</td>\n",
       "      <td>NaN</td>\n",
       "      <td>NaN</td>\n",
       "      <td>NaN</td>\n",
       "    </tr>\n",
       "    <tr>\n",
       "      <th>plumsolutions.com.au</th>\n",
       "      <td>1023533.0</td>\n",
       "      <td>1.0</td>\n",
       "      <td>138.0</td>\n",
       "      <td>60.0</td>\n",
       "      <td>0.813</td>\n",
       "    </tr>\n",
       "    <tr>\n",
       "      <th>dbdailyupdate.com</th>\n",
       "      <td>145283.0</td>\n",
       "      <td>1.7</td>\n",
       "      <td>179.0</td>\n",
       "      <td>64.0</td>\n",
       "      <td>0.756</td>\n",
       "    </tr>\n",
       "  </tbody>\n",
       "</table>\n",
       "</div>"
      ],
      "text/plain": [
       "                               alexa_rank  daily_pageviews_per_visitor  \\\n",
       "site                                                                     \n",
       "whistleblowersandrelators.com         NaN                          NaN   \n",
       "geokov.com                      2238341.0                          1.0   \n",
       "trainingandfacilitation.ca            NaN                          NaN   \n",
       "plumsolutions.com.au            1023533.0                          1.0   \n",
       "dbdailyupdate.com                145283.0                          1.7   \n",
       "\n",
       "                               daily_time_on_site  total_sites_linking_in  \\\n",
       "site                                                                        \n",
       "whistleblowersandrelators.com                 NaN                     NaN   \n",
       "geokov.com                                    NaN                    60.0   \n",
       "trainingandfacilitation.ca                    NaN                     NaN   \n",
       "plumsolutions.com.au                        138.0                    60.0   \n",
       "dbdailyupdate.com                           179.0                    64.0   \n",
       "\n",
       "                               bounce_rate  \n",
       "site                                        \n",
       "whistleblowersandrelators.com          NaN  \n",
       "geokov.com                           0.900  \n",
       "trainingandfacilitation.ca             NaN  \n",
       "plumsolutions.com.au                 0.813  \n",
       "dbdailyupdate.com                    0.756  "
      ]
     },
     "execution_count": 5,
     "metadata": {},
     "output_type": "execute_result"
    }
   ],
   "source": [
    "node_features_df = load_node_features()\n",
    "node_features_df = node_features_df.set_index('site')\n",
    "node_features_df.head()"
   ]
  },
  {
   "cell_type": "markdown",
   "metadata": {},
   "source": [
    "# Subset node_features"
   ]
  },
  {
   "cell_type": "code",
   "execution_count": 6,
   "metadata": {},
   "outputs": [],
   "source": [
    "node_features_df = node_features_df.loc[nodes_in_edges]"
   ]
  },
  {
   "cell_type": "code",
   "execution_count": 7,
   "metadata": {},
   "outputs": [
    {
     "name": "stdout",
     "output_type": "stream",
     "text": [
      "<class 'pandas.core.frame.DataFrame'>\n",
      "Index: 8250 entries, anh.com to animalmatters.org\n",
      "Data columns (total 5 columns):\n",
      " #   Column                       Non-Null Count  Dtype  \n",
      "---  ------                       --------------  -----  \n",
      " 0   alexa_rank                   6466 non-null   float64\n",
      " 1   daily_pageviews_per_visitor  6467 non-null   float64\n",
      " 2   daily_time_on_site           4976 non-null   float64\n",
      " 3   total_sites_linking_in       8110 non-null   float64\n",
      " 4   bounce_rate                  4667 non-null   float64\n",
      "dtypes: float64(5)\n",
      "memory usage: 386.7+ KB\n"
     ]
    }
   ],
   "source": [
    "node_features_df.info()"
   ]
  },
  {
   "cell_type": "markdown",
   "metadata": {},
   "source": [
    "### 2. Fill all missing alexa_rank and total_sites_linking_in with 0 "
   ]
  },
  {
   "cell_type": "code",
   "execution_count": 8,
   "metadata": {},
   "outputs": [
    {
     "name": "stdout",
     "output_type": "stream",
     "text": [
      "<class 'pandas.core.frame.DataFrame'>\n",
      "Index: 8250 entries, anh.com to animalmatters.org\n",
      "Data columns (total 5 columns):\n",
      " #   Column                       Non-Null Count  Dtype  \n",
      "---  ------                       --------------  -----  \n",
      " 0   alexa_rank                   8250 non-null   float64\n",
      " 1   daily_pageviews_per_visitor  6467 non-null   float64\n",
      " 2   daily_time_on_site           4976 non-null   float64\n",
      " 3   total_sites_linking_in       8250 non-null   float64\n",
      " 4   bounce_rate                  4667 non-null   float64\n",
      "dtypes: float64(5)\n",
      "memory usage: 386.7+ KB\n"
     ]
    }
   ],
   "source": [
    "node_features_df.alexa_rank = node_features_df.alexa_rank.fillna(0)\n",
    "node_features_df.total_sites_linking_in = node_features_df.total_sites_linking_in.fillna(0)\n",
    "node_features_df.info()"
   ]
  },
  {
   "cell_type": "markdown",
   "metadata": {},
   "source": [
    "### 3. Normalizing features"
   ]
  },
  {
   "cell_type": "code",
   "execution_count": 9,
   "metadata": {},
   "outputs": [],
   "source": [
    "import math\n",
    "\n",
    "node_features_df['normalized_alexa_rank'] = node_features_df['alexa_rank'].apply(lambda x: 1/x if x else 0)\n",
    "node_features_df['normalized_total_sites_linked_in'] = node_features_df['total_sites_linking_in'].apply(lambda x: math.log2(x) if x else 0)"
   ]
  },
  {
   "cell_type": "markdown",
   "metadata": {},
   "source": [
    "# Create Graph"
   ]
  },
  {
   "cell_type": "code",
   "execution_count": 10,
   "metadata": {},
   "outputs": [
    {
     "name": "stdout",
     "output_type": "stream",
     "text": [
      "StellarGraph: Undirected multigraph\n",
      " Nodes: 8250, Edges: 15066\n",
      "\n",
      " Node types:\n",
      "  default: [8250]\n",
      "    Features: float32 vector, length 2\n",
      "    Edge types: default-default->default\n",
      "\n",
      " Edge types:\n",
      "    default-default->default: [15066]\n",
      "        Weights: all 1 (default)\n",
      "        Features: none\n"
     ]
    }
   ],
   "source": [
    "import stellargraph as sg\n",
    "\n",
    "G = sg.StellarGraph(nodes=node_features_df.loc[nodes_in_edges, ['normalized_alexa_rank', 'normalized_total_sites_linked_in']], edges=edge_df)\n",
    "\n",
    "print(G.info())"
   ]
  },
  {
   "cell_type": "markdown",
   "metadata": {},
   "source": [
    "# Unsupervised GraphSAGE\n",
    "from stellargraph.mapper import GraphSAGELinkGenerator\n",
    "from stellargraph.layer import GraphSAGE, link_classification\n",
    "from stellargraph.data import UnsupervisedSampler\n",
    "\n",
    "from tensorflow import keras"
   ]
  },
  {
   "cell_type": "code",
   "execution_count": 11,
   "metadata": {},
   "outputs": [
    {
     "name": "stdout",
     "output_type": "stream",
     "text": [
      "link_classification: using 'ip' method to combine node embeddings into edge embeddings\n"
     ]
    }
   ],
   "source": [
    "from stellargraph.mapper import GraphSAGELinkGenerator\n",
    "from stellargraph.layer import GraphSAGE, link_classification\n",
    "from stellargraph.data import UnsupervisedSampler\n",
    "\n",
    "from tensorflow import keras\n",
    "\n",
    "# 1. Specify the other optional parameter values: root nodes, the number of walks to take per node, the length of each walk, and random seed.\n",
    "\n",
    "nodes = list(G.nodes())\n",
    "number_of_walks = 1\n",
    "length = 5\n",
    "\n",
    "# 2. Create the UnsupervisedSampler instance with the relevant parameters passed to it.\n",
    "unsupervised_samples = UnsupervisedSampler(G, nodes=nodes, length=length, number_of_walks=number_of_walks)\n",
    "\n",
    "# 3. Create a node pair generator:\n",
    "batch_size = 128\n",
    "epochs = 4\n",
    "num_samples = [10, 5]\n",
    "\n",
    "graphsage_link_generator = GraphSAGELinkGenerator(G, batch_size, num_samples)\n",
    "train_graphsage_link_gen = graphsage_link_generator.flow(unsupervised_samples)\n",
    "\n",
    "layer_sizes = [128, 512]\n",
    "graphsage = GraphSAGE(\n",
    "    layer_sizes=layer_sizes, generator=graphsage_link_generator, bias=True, dropout=0.0, normalize=\"l2\"\n",
    ")\n",
    "\n",
    "# Build the model and expose input and output sockets of graphsage, for node pair inputs:\n",
    "x_inp, x_out = graphsage.in_out_tensors()\n",
    "\n",
    "prediction = link_classification(\n",
    "    output_dim=1, output_act=\"sigmoid\", edge_embedding_method=\"ip\"\n",
    ")(x_out)\n",
    "\n",
    "graphsage_model = keras.Model(inputs=x_inp, outputs=prediction)\n",
    "\n",
    "graphsage_model.compile(\n",
    "    optimizer=keras.optimizers.Adam(lr=1e-3),\n",
    "    loss=keras.losses.categorical_crossentropy,\n",
    "    metrics=['acc'],\n",
    ")"
   ]
  },
  {
   "cell_type": "code",
   "execution_count": 12,
   "metadata": {},
   "outputs": [
    {
     "name": "stdout",
     "output_type": "stream",
     "text": [
      "Epoch 1/4\n",
      "516/516 [==============================] - 64s 121ms/step - loss: 5.9605e-08 - acc: 0.5002\n",
      "Epoch 2/4\n",
      "516/516 [==============================] - 61s 118ms/step - loss: 5.9605e-08 - acc: 0.5002\n",
      "Epoch 3/4\n",
      "516/516 [==============================] - 67s 128ms/step - loss: 5.9605e-08 - acc: 0.5003\n",
      "Epoch 4/4\n",
      "516/516 [==============================] - 64s 123ms/step - loss: 5.9605e-08 - acc: 0.5002\n"
     ]
    }
   ],
   "source": [
    "history = graphsage_model.fit(\n",
    "    train_graphsage_link_gen,\n",
    "    epochs=epochs,\n",
    "    verbose=1,\n",
    "    use_multiprocessing=False,\n",
    "    workers=4,\n",
    "    shuffle=True,\n",
    ")"
   ]
  },
  {
   "cell_type": "code",
   "execution_count": 13,
   "metadata": {},
   "outputs": [
    {
     "name": "stdout",
     "output_type": "stream",
     "text": [
      "65/65 [==============================] - 4s 58ms/step\n"
     ]
    }
   ],
   "source": [
    "embedding_model = keras.Model(inputs=x_inp[0::2], outputs=x_out[0])\n",
    "\n",
    "from stellargraph.mapper import GraphSAGENodeGenerator\n",
    "\n",
    "node_gen = GraphSAGENodeGenerator(G, batch_size, num_samples).flow(node_features_df.index)\n",
    "node_embeddings = embedding_model.predict(node_gen, workers=4, verbose=1)\n",
    "\n",
    "embeddings_wv = dict(zip(node_features_df.index.tolist(), node_embeddings.tolist()))\n",
    "\n",
    "# print('Sample:', embeddings_wv['crooked.com'][:10])"
   ]
  },
  {
   "cell_type": "markdown",
   "metadata": {},
   "source": [
    "# Export embeddings as feature"
   ]
  },
  {
   "cell_type": "code",
   "execution_count": 14,
   "metadata": {},
   "outputs": [
    {
     "data": {
      "text/plain": [
       "'/Users/panayot/Documents/News-Media-Peers/data/emnlp2018/features/graph_sage_referral_sites_level_1_epochs_4.json'"
      ]
     },
     "execution_count": 14,
     "metadata": {},
     "output_type": "execute_result"
    }
   ],
   "source": [
    "export_model_as_feature(embeddings_wv, f'graph_sage_referral_sites_level_{level}_epochs_{epochs}', data_year='2018')"
   ]
  },
  {
   "cell_type": "code",
   "execution_count": 15,
   "metadata": {},
   "outputs": [
    {
     "name": "stdout",
     "output_type": "stream",
     "text": [
      "+------+-----------+---------------------+---------------+--------------------+--------------------------------------------+\n",
      "| task |  dataset  | classification_mode | type_training | normalize_features |                  features                  |\n",
      "+------+-----------+---------------------+---------------+--------------------+--------------------------------------------+\n",
      "| fact | emnlp2018 |  single classifier  |    combine    |       False        | graph_sage_referral_sites_level_1_epochs_4 |\n",
      "+------+-----------+---------------------+---------------+--------------------+--------------------------------------------+\n"
     ]
    },
    {
     "name": "stderr",
     "output_type": "stream",
     "text": [
      "02-27 00:26:57 train        INFO     Start training...\n",
      "02-27 00:26:57 train        INFO     Fold: 0\n",
      "02-27 00:27:13 train        INFO     Fold: 1\n",
      "02-27 00:27:26 train        INFO     Fold: 2\n",
      "02-27 00:27:39 train        INFO     Fold: 3\n",
      "02-27 00:27:52 train        INFO     Fold: 4\n"
     ]
    },
    {
     "name": "stdout",
     "output_type": "stream",
     "text": [
      "+------+-----------+---------------------+---------------+--------------------+--------------------------------------------+--------------------+-------------------+--------------------+-------------------+\n",
      "| task |  dataset  | classification_mode | type_training | normalize_features |                  features                  |      Macro-F1      |      Accuracy     |  Flip error-rate   |        MAE        |\n",
      "+------+-----------+---------------------+---------------+--------------------+--------------------------------------------+--------------------+-------------------+--------------------+-------------------+\n",
      "| fact | emnlp2018 |  single classifier  |    combine    |       False        | graph_sage_referral_sites_level_1_epochs_4 | 28.271276285077107 | 51.74363807728558 | 22.431668237511783 | 0.706880301602262 |\n",
      "+------+-----------+---------------------+---------------+--------------------+--------------------------------------------+--------------------+-------------------+--------------------+-------------------+\n"
     ]
    }
   ],
   "source": [
    "run_experiment(features=f'graph_sage_referral_sites_level_{level}_epochs_{epochs}', dataset='emnlp2018')"
   ]
  },
  {
   "cell_type": "code",
   "execution_count": 16,
   "metadata": {},
   "outputs": [
    {
     "name": "stdout",
     "output_type": "stream",
     "text": [
      "+------+-----------+---------------------+---------------+--------------------+--------------------------------------------+\n",
      "| task |  dataset  | classification_mode | type_training | normalize_features |                  features                  |\n",
      "+------+-----------+---------------------+---------------+--------------------+--------------------------------------------+\n",
      "| bias | emnlp2018 |  single classifier  |    combine    |       False        | graph_sage_referral_sites_level_1_epochs_4 |\n",
      "+------+-----------+---------------------+---------------+--------------------+--------------------------------------------+\n"
     ]
    },
    {
     "name": "stderr",
     "output_type": "stream",
     "text": [
      "02-27 00:28:06 train        INFO     Start training...\n",
      "02-27 00:28:06 train        INFO     Fold: 0\n",
      "02-27 00:28:21 train        INFO     Fold: 1\n",
      "02-27 00:28:33 train        INFO     Fold: 2\n",
      "02-27 00:28:47 train        INFO     Fold: 3\n",
      "02-27 00:28:57 train        INFO     Fold: 4\n"
     ]
    },
    {
     "name": "stdout",
     "output_type": "stream",
     "text": [
      "+------+-----------+---------------------+---------------+--------------------+--------------------------------------------+-------------------+-------------------+--------------------+--------------------+\n",
      "| task |  dataset  | classification_mode | type_training | normalize_features |                  features                  |      Macro-F1     |      Accuracy     |  Flip error-rate   |        MAE         |\n",
      "+------+-----------+---------------------+---------------+--------------------+--------------------------------------------+-------------------+-------------------+--------------------+--------------------+\n",
      "| bias | emnlp2018 |  single classifier  |    combine    |       False        | graph_sage_referral_sites_level_1_epochs_4 | 26.58105927842221 | 52.30914231856739 | 1.0367577756833177 | 0.4872761545711593 |\n",
      "+------+-----------+---------------------+---------------+--------------------+--------------------------------------------+-------------------+-------------------+--------------------+--------------------+\n"
     ]
    }
   ],
   "source": [
    "run_experiment(features=f'graph_sage_referral_sites_level_{level}_epochs_{epochs}', dataset='emnlp2018', task='bias')"
   ]
  }
 ],
 "metadata": {
  "interpreter": {
   "hash": "940b4c110c3cebababd37dc6cec19477a44e469d32c41a0eaa8eeb689ff0386b"
  },
  "kernelspec": {
   "display_name": "Python 3.7.9 64-bit ('site_similarity': conda)",
   "language": "python",
   "name": "python3"
  },
  "language_info": {
   "codemirror_mode": {
    "name": "ipython",
    "version": 3
   },
   "file_extension": ".py",
   "mimetype": "text/x-python",
   "name": "python",
   "nbconvert_exporter": "python",
   "pygments_lexer": "ipython3",
   "version": "3.8.12"
  },
  "metadata": {
   "interpreter": {
    "hash": "72b3faef5542ae75c34eb0d3b11ce0fc432eb00b9ccfc309dfbebb58f482608a"
   }
  }
 },
 "nbformat": 4,
 "nbformat_minor": 4
}
