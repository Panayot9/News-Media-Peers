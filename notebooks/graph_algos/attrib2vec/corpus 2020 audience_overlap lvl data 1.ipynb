{
 "cells": [
  {
   "cell_type": "code",
   "execution_count": 1,
   "metadata": {},
   "outputs": [
    {
     "name": "stderr",
     "output_type": "stream",
     "text": [
      "2022-02-20 11:48:38.162559: I tensorflow/core/platform/cpu_feature_guard.cc:151] This TensorFlow binary is optimized with oneAPI Deep Neural Network Library (oneDNN) to use the following CPU instructions in performance-critical operations:  AVX2 FMA\n",
      "To enable them in other operations, rebuild TensorFlow with the appropriate compiler flags.\n"
     ]
    }
   ],
   "source": [
    "import pandas as pd\n",
    "import sys\n",
    "import os\n",
    "sys.path.insert(0, '../../../')\n",
    "\n",
    "from notebooks.utils import _ALEXA_DATA_PATH, load_node_features, load_level_data, create_audience_overlap_nodes, export_model_as_feature\n",
    "from train import run_experiment"
   ]
  },
  {
   "cell_type": "markdown",
   "metadata": {},
   "source": [
    "# Load audience overlap edges for level 1"
   ]
  },
  {
   "cell_type": "code",
   "execution_count": 2,
   "metadata": {},
   "outputs": [
    {
     "name": "stderr",
     "output_type": "stream",
     "text": [
      "02-20 11:48:39 notebooks.utils INFO     Loaded 3489 nodes with records level <= 1 and child size:16981\n"
     ]
    },
    {
     "name": "stdout",
     "output_type": "stream",
     "text": [
      "[('crooked.com', 'votesaveamerica.com'), ('crooked.com', 'art19.com'), ('crooked.com', 'promocodeportal.com'), ('crooked.com', 'mediamatters.org'), ('crooked.com', 'actblue.com')]\n"
     ]
    }
   ],
   "source": [
    "level = 1\n",
    "audience_overlap_sites = load_level_data(os.path.join(_ALEXA_DATA_PATH, 'corpus_2020_audience_overlap_sites_scrapping_result.json'), level=level)\n",
    "audience_overlap_sites_NODES = create_audience_overlap_nodes(audience_overlap_sites)\n",
    "\n",
    "print(audience_overlap_sites_NODES[:5])"
   ]
  },
  {
   "cell_type": "code",
   "execution_count": 3,
   "metadata": {},
   "outputs": [
    {
     "data": {
      "text/html": [
       "<div>\n",
       "<style scoped>\n",
       "    .dataframe tbody tr th:only-of-type {\n",
       "        vertical-align: middle;\n",
       "    }\n",
       "\n",
       "    .dataframe tbody tr th {\n",
       "        vertical-align: top;\n",
       "    }\n",
       "\n",
       "    .dataframe thead th {\n",
       "        text-align: right;\n",
       "    }\n",
       "</style>\n",
       "<table border=\"1\" class=\"dataframe\">\n",
       "  <thead>\n",
       "    <tr style=\"text-align: right;\">\n",
       "      <th></th>\n",
       "      <th>source</th>\n",
       "      <th>target</th>\n",
       "    </tr>\n",
       "  </thead>\n",
       "  <tbody>\n",
       "    <tr>\n",
       "      <th>0</th>\n",
       "      <td>crooked.com</td>\n",
       "      <td>votesaveamerica.com</td>\n",
       "    </tr>\n",
       "    <tr>\n",
       "      <th>1</th>\n",
       "      <td>crooked.com</td>\n",
       "      <td>art19.com</td>\n",
       "    </tr>\n",
       "    <tr>\n",
       "      <th>2</th>\n",
       "      <td>crooked.com</td>\n",
       "      <td>promocodeportal.com</td>\n",
       "    </tr>\n",
       "    <tr>\n",
       "      <th>3</th>\n",
       "      <td>crooked.com</td>\n",
       "      <td>mediamatters.org</td>\n",
       "    </tr>\n",
       "    <tr>\n",
       "      <th>4</th>\n",
       "      <td>crooked.com</td>\n",
       "      <td>actblue.com</td>\n",
       "    </tr>\n",
       "  </tbody>\n",
       "</table>\n",
       "</div>"
      ],
      "text/plain": [
       "        source               target\n",
       "0  crooked.com  votesaveamerica.com\n",
       "1  crooked.com            art19.com\n",
       "2  crooked.com  promocodeportal.com\n",
       "3  crooked.com     mediamatters.org\n",
       "4  crooked.com          actblue.com"
      ]
     },
     "execution_count": 3,
     "metadata": {},
     "output_type": "execute_result"
    }
   ],
   "source": [
    "edge_df = pd.DataFrame(audience_overlap_sites_NODES, columns=['source', 'target'])\n",
    "\n",
    "edge_df.head()"
   ]
  },
  {
   "cell_type": "markdown",
   "metadata": {},
   "source": [
    "### Find all unique nodes in edges"
   ]
  },
  {
   "cell_type": "code",
   "execution_count": 4,
   "metadata": {},
   "outputs": [
    {
     "name": "stdout",
     "output_type": "stream",
     "text": [
      "Number of unique nodes in edges: 10161 Sample: ['idsa.in', 'fuckyourpoliticalcorrectness.com', 'catholictradition.org', 'publicityhound.com', 'sandratrappen.com']\n"
     ]
    }
   ],
   "source": [
    "nodes_in_edges = list(set(edge_df.source.unique().tolist() + edge_df.target.unique().tolist()))\n",
    "print('Number of unique nodes in edges:', len(nodes_in_edges), 'Sample:', nodes_in_edges[:5])"
   ]
  },
  {
   "cell_type": "markdown",
   "metadata": {},
   "source": [
    "### 1. Load all node features"
   ]
  },
  {
   "cell_type": "code",
   "execution_count": 5,
   "metadata": {},
   "outputs": [
    {
     "data": {
      "text/html": [
       "<div>\n",
       "<style scoped>\n",
       "    .dataframe tbody tr th:only-of-type {\n",
       "        vertical-align: middle;\n",
       "    }\n",
       "\n",
       "    .dataframe tbody tr th {\n",
       "        vertical-align: top;\n",
       "    }\n",
       "\n",
       "    .dataframe thead th {\n",
       "        text-align: right;\n",
       "    }\n",
       "</style>\n",
       "<table border=\"1\" class=\"dataframe\">\n",
       "  <thead>\n",
       "    <tr style=\"text-align: right;\">\n",
       "      <th></th>\n",
       "      <th>alexa_rank</th>\n",
       "      <th>daily_pageviews_per_visitor</th>\n",
       "      <th>daily_time_on_site</th>\n",
       "      <th>total_sites_linking_in</th>\n",
       "      <th>bounce_rate</th>\n",
       "    </tr>\n",
       "    <tr>\n",
       "      <th>site</th>\n",
       "      <th></th>\n",
       "      <th></th>\n",
       "      <th></th>\n",
       "      <th></th>\n",
       "      <th></th>\n",
       "    </tr>\n",
       "  </thead>\n",
       "  <tbody>\n",
       "    <tr>\n",
       "      <th>whistleblowersandrelators.com</th>\n",
       "      <td>NaN</td>\n",
       "      <td>NaN</td>\n",
       "      <td>NaN</td>\n",
       "      <td>NaN</td>\n",
       "      <td>NaN</td>\n",
       "    </tr>\n",
       "    <tr>\n",
       "      <th>geokov.com</th>\n",
       "      <td>2238341.0</td>\n",
       "      <td>1.0</td>\n",
       "      <td>NaN</td>\n",
       "      <td>60.0</td>\n",
       "      <td>0.900</td>\n",
       "    </tr>\n",
       "    <tr>\n",
       "      <th>trainingandfacilitation.ca</th>\n",
       "      <td>NaN</td>\n",
       "      <td>NaN</td>\n",
       "      <td>NaN</td>\n",
       "      <td>NaN</td>\n",
       "      <td>NaN</td>\n",
       "    </tr>\n",
       "    <tr>\n",
       "      <th>plumsolutions.com.au</th>\n",
       "      <td>1023533.0</td>\n",
       "      <td>1.0</td>\n",
       "      <td>138.0</td>\n",
       "      <td>60.0</td>\n",
       "      <td>0.813</td>\n",
       "    </tr>\n",
       "    <tr>\n",
       "      <th>dbdailyupdate.com</th>\n",
       "      <td>145283.0</td>\n",
       "      <td>1.7</td>\n",
       "      <td>179.0</td>\n",
       "      <td>64.0</td>\n",
       "      <td>0.756</td>\n",
       "    </tr>\n",
       "  </tbody>\n",
       "</table>\n",
       "</div>"
      ],
      "text/plain": [
       "                               alexa_rank  daily_pageviews_per_visitor  \\\n",
       "site                                                                     \n",
       "whistleblowersandrelators.com         NaN                          NaN   \n",
       "geokov.com                      2238341.0                          1.0   \n",
       "trainingandfacilitation.ca            NaN                          NaN   \n",
       "plumsolutions.com.au            1023533.0                          1.0   \n",
       "dbdailyupdate.com                145283.0                          1.7   \n",
       "\n",
       "                               daily_time_on_site  total_sites_linking_in  \\\n",
       "site                                                                        \n",
       "whistleblowersandrelators.com                 NaN                     NaN   \n",
       "geokov.com                                    NaN                    60.0   \n",
       "trainingandfacilitation.ca                    NaN                     NaN   \n",
       "plumsolutions.com.au                        138.0                    60.0   \n",
       "dbdailyupdate.com                           179.0                    64.0   \n",
       "\n",
       "                               bounce_rate  \n",
       "site                                        \n",
       "whistleblowersandrelators.com          NaN  \n",
       "geokov.com                           0.900  \n",
       "trainingandfacilitation.ca             NaN  \n",
       "plumsolutions.com.au                 0.813  \n",
       "dbdailyupdate.com                    0.756  "
      ]
     },
     "execution_count": 5,
     "metadata": {},
     "output_type": "execute_result"
    }
   ],
   "source": [
    "node_features_df = load_node_features()\n",
    "node_features_df = node_features_df.set_index('site')\n",
    "node_features_df.head()"
   ]
  },
  {
   "cell_type": "markdown",
   "metadata": {},
   "source": [
    "# Subset node_features"
   ]
  },
  {
   "cell_type": "code",
   "execution_count": 6,
   "metadata": {},
   "outputs": [],
   "source": [
    "node_features_df = node_features_df.loc[nodes_in_edges]"
   ]
  },
  {
   "cell_type": "code",
   "execution_count": 7,
   "metadata": {},
   "outputs": [
    {
     "name": "stdout",
     "output_type": "stream",
     "text": [
      "<class 'pandas.core.frame.DataFrame'>\n",
      "Index: 10161 entries, idsa.in to gbtimes.com\n",
      "Data columns (total 5 columns):\n",
      " #   Column                       Non-Null Count  Dtype  \n",
      "---  ------                       --------------  -----  \n",
      " 0   alexa_rank                   7465 non-null   float64\n",
      " 1   daily_pageviews_per_visitor  7466 non-null   float64\n",
      " 2   daily_time_on_site           5566 non-null   float64\n",
      " 3   total_sites_linking_in       9861 non-null   float64\n",
      " 4   bounce_rate                  5179 non-null   float64\n",
      "dtypes: float64(5)\n",
      "memory usage: 476.3+ KB\n"
     ]
    }
   ],
   "source": [
    "node_features_df.info()"
   ]
  },
  {
   "cell_type": "markdown",
   "metadata": {},
   "source": [
    "### 2. Fill all missing alexa_rank and total_sites_linking_in with 0 "
   ]
  },
  {
   "cell_type": "code",
   "execution_count": 8,
   "metadata": {},
   "outputs": [
    {
     "name": "stdout",
     "output_type": "stream",
     "text": [
      "<class 'pandas.core.frame.DataFrame'>\n",
      "Index: 10161 entries, idsa.in to gbtimes.com\n",
      "Data columns (total 5 columns):\n",
      " #   Column                       Non-Null Count  Dtype  \n",
      "---  ------                       --------------  -----  \n",
      " 0   alexa_rank                   10161 non-null  float64\n",
      " 1   daily_pageviews_per_visitor  7466 non-null   float64\n",
      " 2   daily_time_on_site           5566 non-null   float64\n",
      " 3   total_sites_linking_in       10161 non-null  float64\n",
      " 4   bounce_rate                  5179 non-null   float64\n",
      "dtypes: float64(5)\n",
      "memory usage: 476.3+ KB\n"
     ]
    }
   ],
   "source": [
    "node_features_df.alexa_rank = node_features_df.alexa_rank.fillna(0)\n",
    "node_features_df.total_sites_linking_in = node_features_df.total_sites_linking_in.fillna(0)\n",
    "node_features_df.info()"
   ]
  },
  {
   "cell_type": "markdown",
   "metadata": {},
   "source": [
    "### 3. Normalizing features"
   ]
  },
  {
   "cell_type": "code",
   "execution_count": 9,
   "metadata": {},
   "outputs": [],
   "source": [
    "import math\n",
    "\n",
    "node_features_df['normalized_alexa_rank'] = node_features_df['alexa_rank'].apply(lambda x: 1/x if x else 0)\n",
    "node_features_df['normalized_total_sites_linked_in'] = node_features_df['total_sites_linking_in'].apply(lambda x: math.log2(x) if x else 0)"
   ]
  },
  {
   "cell_type": "markdown",
   "metadata": {},
   "source": [
    "# Create Graph"
   ]
  },
  {
   "cell_type": "code",
   "execution_count": 10,
   "metadata": {},
   "outputs": [
    {
     "name": "stdout",
     "output_type": "stream",
     "text": [
      "StellarGraph: Undirected multigraph\n",
      " Nodes: 10161, Edges: 17010\n",
      "\n",
      " Node types:\n",
      "  default: [10161]\n",
      "    Features: float32 vector, length 2\n",
      "    Edge types: default-default->default\n",
      "\n",
      " Edge types:\n",
      "    default-default->default: [17010]\n",
      "        Weights: all 1 (default)\n",
      "        Features: none\n"
     ]
    }
   ],
   "source": [
    "import stellargraph as sg\n",
    "\n",
    "G = sg.StellarGraph(nodes=node_features_df.loc[nodes_in_edges, ['normalized_alexa_rank', 'normalized_total_sites_linked_in']], edges=edge_df)\n",
    "\n",
    "print(G.info())"
   ]
  },
  {
   "cell_type": "markdown",
   "metadata": {},
   "source": [
    "# Unsupervised Attrib2Vec"
   ]
  },
  {
   "cell_type": "code",
   "execution_count": 11,
   "metadata": {},
   "outputs": [
    {
     "name": "stdout",
     "output_type": "stream",
     "text": [
      "link_classification: using 'ip' method to combine node embeddings into edge embeddings\n"
     ]
    }
   ],
   "source": [
    "from stellargraph.mapper import Attri2VecLinkGenerator, Attri2VecNodeGenerator\n",
    "from stellargraph.layer import Attri2Vec, link_classification\n",
    "from stellargraph.data import UnsupervisedSampler\n",
    "\n",
    "from tensorflow import keras\n",
    "\n",
    "# 1. Specify the other optional parameter values: root nodes, the number of walks to take per node, the length of each walk, and random seed.\n",
    "\n",
    "nodes = list(G.nodes())\n",
    "number_of_walks = 1\n",
    "length = 5\n",
    "\n",
    "# 2. Create the UnsupervisedSampler instance with the relevant parameters passed to it.\n",
    "unsupervised_samples = UnsupervisedSampler(G, nodes=nodes, length=length, number_of_walks=number_of_walks)\n",
    "\n",
    "# 3. Create a node pair generator:\n",
    "batch_size = 50\n",
    "epochs = 4\n",
    "num_samples = [10, 5]\n",
    "\n",
    "generator = Attri2VecLinkGenerator(G, batch_size)\n",
    "train_gen = generator.flow(unsupervised_samples)\n",
    "\n",
    "layer_sizes = [128]\n",
    "attri2vec = Attri2Vec(layer_sizes=layer_sizes, generator=generator, bias=False, normalize=None)\n",
    "\n",
    "# Build the model and expose input and output sockets of attri2vec, for node pair inputs:\n",
    "x_inp, x_out = attri2vec.in_out_tensors()\n",
    "\n",
    "prediction = link_classification(output_dim=1, output_act=\"sigmoid\", edge_embedding_method=\"ip\")(x_out)\n",
    "\n",
    "model = keras.Model(inputs=x_inp, outputs=prediction)\n",
    "\n",
    "model.compile(\n",
    "    optimizer=keras.optimizers.Adam(lr=1e-3),\n",
    "    loss=keras.losses.binary_crossentropy,\n",
    "    metrics=[keras.metrics.binary_accuracy],\n",
    ")"
   ]
  },
  {
   "cell_type": "code",
   "execution_count": 12,
   "metadata": {},
   "outputs": [
    {
     "name": "stdout",
     "output_type": "stream",
     "text": [
      "Epoch 1/32\n",
      "1626/1626 - 15s - loss: 0.6946 - binary_accuracy: 0.5256 - 15s/epoch - 9ms/step\n",
      "Epoch 2/32\n",
      "1626/1626 - 15s - loss: 0.6715 - binary_accuracy: 0.5395 - 15s/epoch - 9ms/step\n",
      "Epoch 3/32\n",
      "1626/1626 - 14s - loss: 0.6645 - binary_accuracy: 0.5394 - 14s/epoch - 9ms/step\n",
      "Epoch 4/32\n",
      "1626/1626 - 15s - loss: 0.6618 - binary_accuracy: 0.5364 - 15s/epoch - 9ms/step\n",
      "Epoch 5/32\n",
      "1626/1626 - 15s - loss: 0.6590 - binary_accuracy: 0.5404 - 15s/epoch - 9ms/step\n",
      "Epoch 6/32\n",
      "1626/1626 - 15s - loss: 0.6567 - binary_accuracy: 0.5432 - 15s/epoch - 9ms/step\n",
      "Epoch 7/32\n",
      "1626/1626 - 14s - loss: 0.6521 - binary_accuracy: 0.5440 - 14s/epoch - 8ms/step\n",
      "Epoch 8/32\n",
      "1626/1626 - 14s - loss: 0.6510 - binary_accuracy: 0.5484 - 14s/epoch - 9ms/step\n",
      "Epoch 9/32\n",
      "1626/1626 - 14s - loss: 0.6494 - binary_accuracy: 0.5506 - 14s/epoch - 9ms/step\n",
      "Epoch 10/32\n",
      "1626/1626 - 14s - loss: 0.6504 - binary_accuracy: 0.5516 - 14s/epoch - 9ms/step\n",
      "Epoch 11/32\n",
      "1626/1626 - 15s - loss: 0.6475 - binary_accuracy: 0.5524 - 15s/epoch - 9ms/step\n",
      "Epoch 12/32\n",
      "1626/1626 - 25s - loss: 0.6485 - binary_accuracy: 0.5547 - 25s/epoch - 15ms/step\n",
      "Epoch 13/32\n",
      "1626/1626 - 28s - loss: 0.6473 - binary_accuracy: 0.5575 - 28s/epoch - 17ms/step\n",
      "Epoch 14/32\n",
      "1626/1626 - 30s - loss: 0.6470 - binary_accuracy: 0.5559 - 30s/epoch - 18ms/step\n",
      "Epoch 15/32\n",
      "1626/1626 - 27s - loss: 0.6492 - binary_accuracy: 0.5625 - 27s/epoch - 17ms/step\n",
      "Epoch 16/32\n",
      "1626/1626 - 28s - loss: 0.6469 - binary_accuracy: 0.5627 - 28s/epoch - 17ms/step\n",
      "Epoch 17/32\n",
      "1626/1626 - 25s - loss: 0.6455 - binary_accuracy: 0.5677 - 25s/epoch - 15ms/step\n",
      "Epoch 18/32\n",
      "1626/1626 - 28s - loss: 0.6502 - binary_accuracy: 0.5698 - 28s/epoch - 17ms/step\n",
      "Epoch 19/32\n",
      "1626/1626 - 29s - loss: 0.6453 - binary_accuracy: 0.5745 - 29s/epoch - 18ms/step\n",
      "Epoch 20/32\n",
      "1626/1626 - 27s - loss: 0.6461 - binary_accuracy: 0.5765 - 27s/epoch - 17ms/step\n",
      "Epoch 21/32\n",
      "1626/1626 - 26s - loss: 0.6462 - binary_accuracy: 0.5804 - 26s/epoch - 16ms/step\n",
      "Epoch 22/32\n",
      "1626/1626 - 25s - loss: 0.6433 - binary_accuracy: 0.5861 - 25s/epoch - 15ms/step\n",
      "Epoch 23/32\n",
      "1626/1626 - 26s - loss: 0.6417 - binary_accuracy: 0.5880 - 26s/epoch - 16ms/step\n",
      "Epoch 24/32\n",
      "1626/1626 - 28s - loss: 0.6463 - binary_accuracy: 0.5895 - 28s/epoch - 17ms/step\n",
      "Epoch 25/32\n",
      "1626/1626 - 26s - loss: 0.6456 - binary_accuracy: 0.5959 - 26s/epoch - 16ms/step\n",
      "Epoch 26/32\n",
      "1626/1626 - 25s - loss: 0.6414 - binary_accuracy: 0.5988 - 25s/epoch - 16ms/step\n",
      "Epoch 27/32\n",
      "1626/1626 - 26s - loss: 0.6452 - binary_accuracy: 0.6007 - 26s/epoch - 16ms/step\n",
      "Epoch 28/32\n",
      "1626/1626 - 26s - loss: 0.6440 - binary_accuracy: 0.6063 - 26s/epoch - 16ms/step\n",
      "Epoch 29/32\n",
      "1626/1626 - 26s - loss: 0.6465 - binary_accuracy: 0.6100 - 26s/epoch - 16ms/step\n",
      "Epoch 30/32\n",
      "1626/1626 - 26s - loss: 0.6452 - binary_accuracy: 0.6121 - 26s/epoch - 16ms/step\n",
      "Epoch 31/32\n",
      "1626/1626 - 25s - loss: 0.6400 - binary_accuracy: 0.6184 - 25s/epoch - 15ms/step\n",
      "Epoch 32/32\n",
      "1626/1626 - 15s - loss: 0.6445 - binary_accuracy: 0.6227 - 15s/epoch - 9ms/step\n"
     ]
    }
   ],
   "source": [
    "history = model.fit(train_gen, epochs=32, verbose=2, use_multiprocessing=False, workers=1, shuffle=True)"
   ]
  },
  {
   "cell_type": "code",
   "execution_count": 13,
   "metadata": {},
   "outputs": [
    {
     "name": "stdout",
     "output_type": "stream",
     "text": [
      "204/204 [==============================] - 0s 1ms/step\n",
      "Sample: [0.024228185415267944, 0.0031242668628692627, 3.06463130073098e-06, 0.011180847883224487, 0.019945353269577026, 8.418160746259673e-07, 1.2754874489928625e-07, 0.013223797082901001, 7.395060947601451e-06, 0.0068540871143341064] 128\n"
     ]
    }
   ],
   "source": [
    "x_inp_src = x_inp[0]\n",
    "x_out_src = x_out[0]\n",
    "embedding_model = keras.Model(inputs=x_inp_src, outputs=x_out_src)\n",
    "\n",
    "node_gen = Attri2VecNodeGenerator(G, batch_size).flow(node_features_df.index.tolist())\n",
    "node_embeddings = embedding_model.predict(node_gen, workers=1, verbose=1)\n",
    "\n",
    "embeddings_wv = dict(zip(node_features_df.index.tolist(), node_embeddings.tolist()))\n",
    "\n",
    "print('Sample:', embeddings_wv['crooked.com'][:10], len(embeddings_wv['crooked.com']))"
   ]
  },
  {
   "cell_type": "markdown",
   "metadata": {},
   "source": [
    "# Export embeddings as feature"
   ]
  },
  {
   "cell_type": "code",
   "execution_count": 14,
   "metadata": {},
   "outputs": [
    {
     "data": {
      "text/plain": [
       "'/Users/panayot/Documents/News-Media-Peers/data/acl2020/features/attrib2vec_audience_overlap_level_1_epochs_4.json'"
      ]
     },
     "execution_count": 14,
     "metadata": {},
     "output_type": "execute_result"
    }
   ],
   "source": [
    "export_model_as_feature(embeddings_wv, f'attrib2vec_audience_overlap_level_{level}_epochs_{epochs}')"
   ]
  },
  {
   "cell_type": "code",
   "execution_count": 15,
   "metadata": {},
   "outputs": [
    {
     "name": "stdout",
     "output_type": "stream",
     "text": [
      "+------+---------+---------------------+---------------+--------------------+----------------------------------------------+\n",
      "| task | dataset | classification_mode | type_training | normalize_features |                   features                   |\n",
      "+------+---------+---------------------+---------------+--------------------+----------------------------------------------+\n",
      "| fact | acl2020 |  single classifier  |    combine    |       False        | attrib2vec_audience_overlap_level_1_epochs_4 |\n",
      "+------+---------+---------------------+---------------+--------------------+----------------------------------------------+\n"
     ]
    },
    {
     "name": "stderr",
     "output_type": "stream",
     "text": [
      "02-20 12:01:22 train        INFO     Start training...\n",
      "02-20 12:01:22 train        INFO     Fold: 0\n",
      "02-20 12:01:31 train        INFO     Fold: 1\n",
      "02-20 12:01:36 train        INFO     Fold: 2\n",
      "02-20 12:01:40 train        INFO     Fold: 3\n",
      "02-20 12:01:44 train        INFO     Fold: 4\n"
     ]
    },
    {
     "name": "stdout",
     "output_type": "stream",
     "text": [
      "+------+---------+---------------------+---------------+--------------------+----------------------------------------------+-------------------+--------------------+--------------------+-------------------+\n",
      "| task | dataset | classification_mode | type_training | normalize_features |                   features                   |      Macro-F1     |      Accuracy      |  Flip error-rate   |        MAE        |\n",
      "+------+---------+---------------------+---------------+--------------------+----------------------------------------------+-------------------+--------------------+--------------------+-------------------+\n",
      "| fact | acl2020 |  single classifier  |    combine    |       False        | attrib2vec_audience_overlap_level_1_epochs_4 | 33.69612663514097 | 54.249126891734576 | 15.250291036088475 | 0.610011641443539 |\n",
      "+------+---------+---------------------+---------------+--------------------+----------------------------------------------+-------------------+--------------------+--------------------+-------------------+\n"
     ]
    }
   ],
   "source": [
    "run_experiment(features=f'attrib2vec_audience_overlap_level_{level}_epochs_{epochs}')"
   ]
  },
  {
   "cell_type": "code",
   "execution_count": 16,
   "metadata": {},
   "outputs": [
    {
     "name": "stdout",
     "output_type": "stream",
     "text": [
      "+------+---------+---------------------+---------------+--------------------+----------------------------------------------+\n",
      "| task | dataset | classification_mode | type_training | normalize_features |                   features                   |\n",
      "+------+---------+---------------------+---------------+--------------------+----------------------------------------------+\n",
      "| bias | acl2020 |  single classifier  |    combine    |       False        | attrib2vec_audience_overlap_level_1_epochs_4 |\n",
      "+------+---------+---------------------+---------------+--------------------+----------------------------------------------+\n"
     ]
    },
    {
     "name": "stderr",
     "output_type": "stream",
     "text": [
      "02-20 12:01:50 train        INFO     Start training...\n",
      "02-20 12:01:50 train        INFO     Fold: 0\n",
      "02-20 12:01:55 train        INFO     Fold: 1\n",
      "02-20 12:02:00 train        INFO     Fold: 2\n",
      "02-20 12:02:04 train        INFO     Fold: 3\n",
      "02-20 12:02:08 train        INFO     Fold: 4\n"
     ]
    },
    {
     "name": "stdout",
     "output_type": "stream",
     "text": [
      "+------+---------+---------------------+---------------+--------------------+----------------------------------------------+-------------------+--------------------+--------------------+--------------------+\n",
      "| task | dataset | classification_mode | type_training | normalize_features |                   features                   |      Macro-F1     |      Accuracy      |  Flip error-rate   |        MAE         |\n",
      "+------+---------+---------------------+---------------+--------------------+----------------------------------------------+-------------------+--------------------+--------------------+--------------------+\n",
      "| bias | acl2020 |  single classifier  |    combine    |       False        | attrib2vec_audience_overlap_level_1_epochs_4 | 35.22845851931143 | 45.401629802095464 | 12.339930151338766 | 0.6693830034924331 |\n",
      "+------+---------+---------------------+---------------+--------------------+----------------------------------------------+-------------------+--------------------+--------------------+--------------------+\n"
     ]
    }
   ],
   "source": [
    "run_experiment(features=f'attrib2vec_audience_overlap_level_{level}_epochs_{epochs}', task='bias')"
   ]
  }
 ],
 "metadata": {
  "interpreter": {
   "hash": "940b4c110c3cebababd37dc6cec19477a44e469d32c41a0eaa8eeb689ff0386b"
  },
  "kernelspec": {
   "display_name": "Python 3.7.9 64-bit ('site_similarity': conda)",
   "language": "python",
   "name": "python3"
  },
  "language_info": {
   "codemirror_mode": {
    "name": "ipython",
    "version": 3
   },
   "file_extension": ".py",
   "mimetype": "text/x-python",
   "name": "python",
   "nbconvert_exporter": "python",
   "pygments_lexer": "ipython3",
   "version": "3.8.12"
  },
  "metadata": {
   "interpreter": {
    "hash": "72b3faef5542ae75c34eb0d3b11ce0fc432eb00b9ccfc309dfbebb58f482608a"
   }
  }
 },
 "nbformat": 4,
 "nbformat_minor": 4
}
