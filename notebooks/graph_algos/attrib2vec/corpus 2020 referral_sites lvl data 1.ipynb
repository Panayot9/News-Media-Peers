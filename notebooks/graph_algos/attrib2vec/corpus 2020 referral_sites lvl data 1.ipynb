{
 "cells": [
  {
   "cell_type": "code",
   "execution_count": 1,
   "metadata": {},
   "outputs": [
    {
     "name": "stderr",
     "output_type": "stream",
     "text": [
      "2022-02-26 23:53:18.391278: I tensorflow/core/platform/cpu_feature_guard.cc:151] This TensorFlow binary is optimized with oneAPI Deep Neural Network Library (oneDNN) to use the following CPU instructions in performance-critical operations:  AVX2 FMA\n",
      "To enable them in other operations, rebuild TensorFlow with the appropriate compiler flags.\n"
     ]
    }
   ],
   "source": [
    "import pandas as pd\n",
    "import sys\n",
    "sys.path.insert(0, '../../../')\n",
    "\n",
    "from notebooks.utils import load_node_features, get_referral_sites_edges, export_model_as_feature\n",
    "from train import run_experiment"
   ]
  },
  {
   "cell_type": "markdown",
   "metadata": {},
   "source": [
    "# Load referral sites edges for level 1"
   ]
  },
  {
   "cell_type": "code",
   "execution_count": 2,
   "metadata": {},
   "outputs": [
    {
     "name": "stderr",
     "output_type": "stream",
     "text": [
      "02-26 23:53:18 notebooks.utils INFO     Processing level 0\n",
      "02-26 23:53:18 notebooks.utils INFO     Node length: 3258\n",
      "02-26 23:53:18 notebooks.utils INFO     Distinct node length: 3258\n",
      "02-26 23:53:18 notebooks.utils INFO     Processing level 1\n",
      "02-26 23:53:18 notebooks.utils INFO     Node length: 9178\n",
      "02-26 23:53:18 notebooks.utils INFO     Distinct node length: 9178\n"
     ]
    },
    {
     "name": "stdout",
     "output_type": "stream",
     "text": [
      "[('stonecoldtruth.com', 'patriots4truth.org'), ('newnation.org', 'dailykenn.blogspot.com'), ('thenewcivilrightsmovement.com', 'joemygod.com'), ('imprimis.hillsdale.edu', 'winstonchurchill.org'), ('electronicintifada.net', 'mondoweiss.net')]\n"
     ]
    }
   ],
   "source": [
    "level = 1\n",
    "referral_sites_NODES = get_referral_sites_edges(data_year=2020, level=level)\n",
    "\n",
    "print(referral_sites_NODES[:5])"
   ]
  },
  {
   "cell_type": "code",
   "execution_count": 3,
   "metadata": {},
   "outputs": [
    {
     "data": {
      "text/html": [
       "<div>\n",
       "<style scoped>\n",
       "    .dataframe tbody tr th:only-of-type {\n",
       "        vertical-align: middle;\n",
       "    }\n",
       "\n",
       "    .dataframe tbody tr th {\n",
       "        vertical-align: top;\n",
       "    }\n",
       "\n",
       "    .dataframe thead th {\n",
       "        text-align: right;\n",
       "    }\n",
       "</style>\n",
       "<table border=\"1\" class=\"dataframe\">\n",
       "  <thead>\n",
       "    <tr style=\"text-align: right;\">\n",
       "      <th></th>\n",
       "      <th>source</th>\n",
       "      <th>target</th>\n",
       "    </tr>\n",
       "  </thead>\n",
       "  <tbody>\n",
       "    <tr>\n",
       "      <th>0</th>\n",
       "      <td>stonecoldtruth.com</td>\n",
       "      <td>patriots4truth.org</td>\n",
       "    </tr>\n",
       "    <tr>\n",
       "      <th>1</th>\n",
       "      <td>newnation.org</td>\n",
       "      <td>dailykenn.blogspot.com</td>\n",
       "    </tr>\n",
       "    <tr>\n",
       "      <th>2</th>\n",
       "      <td>thenewcivilrightsmovement.com</td>\n",
       "      <td>joemygod.com</td>\n",
       "    </tr>\n",
       "    <tr>\n",
       "      <th>3</th>\n",
       "      <td>imprimis.hillsdale.edu</td>\n",
       "      <td>winstonchurchill.org</td>\n",
       "    </tr>\n",
       "    <tr>\n",
       "      <th>4</th>\n",
       "      <td>electronicintifada.net</td>\n",
       "      <td>mondoweiss.net</td>\n",
       "    </tr>\n",
       "  </tbody>\n",
       "</table>\n",
       "</div>"
      ],
      "text/plain": [
       "                          source                  target\n",
       "0             stonecoldtruth.com      patriots4truth.org\n",
       "1                  newnation.org  dailykenn.blogspot.com\n",
       "2  thenewcivilrightsmovement.com            joemygod.com\n",
       "3         imprimis.hillsdale.edu    winstonchurchill.org\n",
       "4         electronicintifada.net          mondoweiss.net"
      ]
     },
     "execution_count": 3,
     "metadata": {},
     "output_type": "execute_result"
    }
   ],
   "source": [
    "edge_df = pd.DataFrame(referral_sites_NODES, columns=['source', 'target'])\n",
    "\n",
    "edge_df.head()"
   ]
  },
  {
   "cell_type": "markdown",
   "metadata": {},
   "source": [
    "### Find all unique nodes in edges"
   ]
  },
  {
   "cell_type": "code",
   "execution_count": 4,
   "metadata": {},
   "outputs": [
    {
     "name": "stdout",
     "output_type": "stream",
     "text": [
      "Number of unique nodes in edges: 6927 Sample: ['journalism.org', 'psychjobsearch.wikidot.com', 'iowahouserepublicans.com', 'aripaev.ee', 'mymanatee.org']\n"
     ]
    }
   ],
   "source": [
    "nodes_in_edges = list(set(edge_df.source.unique().tolist() + edge_df.target.unique().tolist()))\n",
    "print('Number of unique nodes in edges:', len(nodes_in_edges), 'Sample:', nodes_in_edges[:5])"
   ]
  },
  {
   "cell_type": "markdown",
   "metadata": {},
   "source": [
    "### 1. Load all node features"
   ]
  },
  {
   "cell_type": "code",
   "execution_count": 5,
   "metadata": {},
   "outputs": [
    {
     "data": {
      "text/html": [
       "<div>\n",
       "<style scoped>\n",
       "    .dataframe tbody tr th:only-of-type {\n",
       "        vertical-align: middle;\n",
       "    }\n",
       "\n",
       "    .dataframe tbody tr th {\n",
       "        vertical-align: top;\n",
       "    }\n",
       "\n",
       "    .dataframe thead th {\n",
       "        text-align: right;\n",
       "    }\n",
       "</style>\n",
       "<table border=\"1\" class=\"dataframe\">\n",
       "  <thead>\n",
       "    <tr style=\"text-align: right;\">\n",
       "      <th></th>\n",
       "      <th>alexa_rank</th>\n",
       "      <th>daily_pageviews_per_visitor</th>\n",
       "      <th>daily_time_on_site</th>\n",
       "      <th>total_sites_linking_in</th>\n",
       "      <th>bounce_rate</th>\n",
       "    </tr>\n",
       "    <tr>\n",
       "      <th>site</th>\n",
       "      <th></th>\n",
       "      <th></th>\n",
       "      <th></th>\n",
       "      <th></th>\n",
       "      <th></th>\n",
       "    </tr>\n",
       "  </thead>\n",
       "  <tbody>\n",
       "    <tr>\n",
       "      <th>whistleblowersandrelators.com</th>\n",
       "      <td>NaN</td>\n",
       "      <td>NaN</td>\n",
       "      <td>NaN</td>\n",
       "      <td>NaN</td>\n",
       "      <td>NaN</td>\n",
       "    </tr>\n",
       "    <tr>\n",
       "      <th>geokov.com</th>\n",
       "      <td>2238341.0</td>\n",
       "      <td>1.0</td>\n",
       "      <td>NaN</td>\n",
       "      <td>60.0</td>\n",
       "      <td>0.900</td>\n",
       "    </tr>\n",
       "    <tr>\n",
       "      <th>trainingandfacilitation.ca</th>\n",
       "      <td>NaN</td>\n",
       "      <td>NaN</td>\n",
       "      <td>NaN</td>\n",
       "      <td>NaN</td>\n",
       "      <td>NaN</td>\n",
       "    </tr>\n",
       "    <tr>\n",
       "      <th>plumsolutions.com.au</th>\n",
       "      <td>1023533.0</td>\n",
       "      <td>1.0</td>\n",
       "      <td>138.0</td>\n",
       "      <td>60.0</td>\n",
       "      <td>0.813</td>\n",
       "    </tr>\n",
       "    <tr>\n",
       "      <th>dbdailyupdate.com</th>\n",
       "      <td>145283.0</td>\n",
       "      <td>1.7</td>\n",
       "      <td>179.0</td>\n",
       "      <td>64.0</td>\n",
       "      <td>0.756</td>\n",
       "    </tr>\n",
       "  </tbody>\n",
       "</table>\n",
       "</div>"
      ],
      "text/plain": [
       "                               alexa_rank  daily_pageviews_per_visitor  \\\n",
       "site                                                                     \n",
       "whistleblowersandrelators.com         NaN                          NaN   \n",
       "geokov.com                      2238341.0                          1.0   \n",
       "trainingandfacilitation.ca            NaN                          NaN   \n",
       "plumsolutions.com.au            1023533.0                          1.0   \n",
       "dbdailyupdate.com                145283.0                          1.7   \n",
       "\n",
       "                               daily_time_on_site  total_sites_linking_in  \\\n",
       "site                                                                        \n",
       "whistleblowersandrelators.com                 NaN                     NaN   \n",
       "geokov.com                                    NaN                    60.0   \n",
       "trainingandfacilitation.ca                    NaN                     NaN   \n",
       "plumsolutions.com.au                        138.0                    60.0   \n",
       "dbdailyupdate.com                           179.0                    64.0   \n",
       "\n",
       "                               bounce_rate  \n",
       "site                                        \n",
       "whistleblowersandrelators.com          NaN  \n",
       "geokov.com                           0.900  \n",
       "trainingandfacilitation.ca             NaN  \n",
       "plumsolutions.com.au                 0.813  \n",
       "dbdailyupdate.com                    0.756  "
      ]
     },
     "execution_count": 5,
     "metadata": {},
     "output_type": "execute_result"
    }
   ],
   "source": [
    "node_features_df = load_node_features()\n",
    "node_features_df = node_features_df.set_index('site')\n",
    "node_features_df.head()"
   ]
  },
  {
   "cell_type": "markdown",
   "metadata": {},
   "source": [
    "# Subset node_features"
   ]
  },
  {
   "cell_type": "code",
   "execution_count": 6,
   "metadata": {},
   "outputs": [],
   "source": [
    "node_features_df = node_features_df.loc[nodes_in_edges]"
   ]
  },
  {
   "cell_type": "code",
   "execution_count": 7,
   "metadata": {},
   "outputs": [
    {
     "name": "stdout",
     "output_type": "stream",
     "text": [
      "<class 'pandas.core.frame.DataFrame'>\n",
      "Index: 6927 entries, journalism.org to meforum.org\n",
      "Data columns (total 5 columns):\n",
      " #   Column                       Non-Null Count  Dtype  \n",
      "---  ------                       --------------  -----  \n",
      " 0   alexa_rank                   5467 non-null   float64\n",
      " 1   daily_pageviews_per_visitor  5467 non-null   float64\n",
      " 2   daily_time_on_site           4197 non-null   float64\n",
      " 3   total_sites_linking_in       6826 non-null   float64\n",
      " 4   bounce_rate                  3913 non-null   float64\n",
      "dtypes: float64(5)\n",
      "memory usage: 324.7+ KB\n"
     ]
    }
   ],
   "source": [
    "node_features_df.info()"
   ]
  },
  {
   "cell_type": "markdown",
   "metadata": {},
   "source": [
    "### 2. Fill all missing alexa_rank and total_sites_linking_in with 0 "
   ]
  },
  {
   "cell_type": "code",
   "execution_count": 8,
   "metadata": {},
   "outputs": [
    {
     "name": "stdout",
     "output_type": "stream",
     "text": [
      "<class 'pandas.core.frame.DataFrame'>\n",
      "Index: 6927 entries, journalism.org to meforum.org\n",
      "Data columns (total 5 columns):\n",
      " #   Column                       Non-Null Count  Dtype  \n",
      "---  ------                       --------------  -----  \n",
      " 0   alexa_rank                   6927 non-null   float64\n",
      " 1   daily_pageviews_per_visitor  5467 non-null   float64\n",
      " 2   daily_time_on_site           4197 non-null   float64\n",
      " 3   total_sites_linking_in       6927 non-null   float64\n",
      " 4   bounce_rate                  3913 non-null   float64\n",
      "dtypes: float64(5)\n",
      "memory usage: 324.7+ KB\n"
     ]
    }
   ],
   "source": [
    "node_features_df.alexa_rank = node_features_df.alexa_rank.fillna(0)\n",
    "node_features_df.total_sites_linking_in = node_features_df.total_sites_linking_in.fillna(0)\n",
    "node_features_df.info()"
   ]
  },
  {
   "cell_type": "markdown",
   "metadata": {},
   "source": [
    "### 3. Normalizing features"
   ]
  },
  {
   "cell_type": "code",
   "execution_count": 9,
   "metadata": {},
   "outputs": [],
   "source": [
    "import math\n",
    "\n",
    "node_features_df['normalized_alexa_rank'] = node_features_df['alexa_rank'].apply(lambda x: 1/x if x else 0)\n",
    "node_features_df['normalized_total_sites_linked_in'] = node_features_df['total_sites_linking_in'].apply(lambda x: math.log2(x) if x else 0)"
   ]
  },
  {
   "cell_type": "markdown",
   "metadata": {},
   "source": [
    "# Create Graph"
   ]
  },
  {
   "cell_type": "code",
   "execution_count": 10,
   "metadata": {},
   "outputs": [
    {
     "name": "stdout",
     "output_type": "stream",
     "text": [
      "StellarGraph: Undirected multigraph\n",
      " Nodes: 6927, Edges: 12436\n",
      "\n",
      " Node types:\n",
      "  default: [6927]\n",
      "    Features: float32 vector, length 2\n",
      "    Edge types: default-default->default\n",
      "\n",
      " Edge types:\n",
      "    default-default->default: [12436]\n",
      "        Weights: all 1 (default)\n",
      "        Features: none\n"
     ]
    }
   ],
   "source": [
    "import stellargraph as sg\n",
    "\n",
    "G = sg.StellarGraph(nodes=node_features_df.loc[nodes_in_edges, ['normalized_alexa_rank', 'normalized_total_sites_linked_in']], edges=edge_df)\n",
    "\n",
    "print(G.info())"
   ]
  },
  {
   "cell_type": "markdown",
   "metadata": {},
   "source": [
    "# Unsupervised Attrib2Vec"
   ]
  },
  {
   "cell_type": "code",
   "execution_count": 11,
   "metadata": {},
   "outputs": [
    {
     "name": "stdout",
     "output_type": "stream",
     "text": [
      "link_classification: using 'ip' method to combine node embeddings into edge embeddings\n"
     ]
    }
   ],
   "source": [
    "from stellargraph.mapper import Attri2VecLinkGenerator, Attri2VecNodeGenerator\n",
    "from stellargraph.layer import Attri2Vec, link_classification\n",
    "from stellargraph.data import UnsupervisedSampler\n",
    "\n",
    "from tensorflow import keras\n",
    "\n",
    "# 1. Specify the other optional parameter values: root nodes, the number of walks to take per node, the length of each walk, and random seed.\n",
    "\n",
    "nodes = list(G.nodes())\n",
    "number_of_walks = 1\n",
    "length = 5\n",
    "\n",
    "# 2. Create the UnsupervisedSampler instance with the relevant parameters passed to it.\n",
    "unsupervised_samples = UnsupervisedSampler(G, nodes=nodes, length=length, number_of_walks=number_of_walks)\n",
    "\n",
    "# 3. Create a node pair generator:\n",
    "batch_size = 50\n",
    "epochs = 4\n",
    "num_samples = [10, 5]\n",
    "\n",
    "generator = Attri2VecLinkGenerator(G, batch_size)\n",
    "train_gen = generator.flow(unsupervised_samples)\n",
    "\n",
    "layer_sizes = [128]\n",
    "attri2vec = Attri2Vec(layer_sizes=layer_sizes, generator=generator, bias=False, normalize=None)\n",
    "\n",
    "# Build the model and expose input and output sockets of attri2vec, for node pair inputs:\n",
    "x_inp, x_out = attri2vec.in_out_tensors()\n",
    "\n",
    "prediction = link_classification(output_dim=1, output_act=\"sigmoid\", edge_embedding_method=\"ip\")(x_out)\n",
    "\n",
    "model = keras.Model(inputs=x_inp, outputs=prediction)\n",
    "\n",
    "model.compile(\n",
    "    optimizer=keras.optimizers.Adam(lr=1e-3),\n",
    "    loss=keras.losses.binary_crossentropy,\n",
    "    metrics=[keras.metrics.binary_accuracy],\n",
    ")"
   ]
  },
  {
   "cell_type": "code",
   "execution_count": 12,
   "metadata": {},
   "outputs": [
    {
     "name": "stdout",
     "output_type": "stream",
     "text": [
      "Epoch 1/32\n",
      "1109/1109 - 9s - loss: 0.6969 - binary_accuracy: 0.5309 - 9s/epoch - 8ms/step\n",
      "Epoch 2/32\n",
      "1109/1109 - 8s - loss: 0.6692 - binary_accuracy: 0.5450 - 8s/epoch - 7ms/step\n",
      "Epoch 3/32\n",
      "1109/1109 - 9s - loss: 0.6595 - binary_accuracy: 0.5435 - 9s/epoch - 8ms/step\n",
      "Epoch 4/32\n",
      "1109/1109 - 8s - loss: 0.6536 - binary_accuracy: 0.5458 - 8s/epoch - 7ms/step\n",
      "Epoch 5/32\n",
      "1109/1109 - 8s - loss: 0.6517 - binary_accuracy: 0.5457 - 8s/epoch - 7ms/step\n",
      "Epoch 6/32\n",
      "1109/1109 - 8s - loss: 0.6509 - binary_accuracy: 0.5441 - 8s/epoch - 7ms/step\n",
      "Epoch 7/32\n",
      "1109/1109 - 8s - loss: 0.6495 - binary_accuracy: 0.5431 - 8s/epoch - 7ms/step\n",
      "Epoch 8/32\n",
      "1109/1109 - 8s - loss: 0.6476 - binary_accuracy: 0.5455 - 8s/epoch - 7ms/step\n",
      "Epoch 9/32\n",
      "1109/1109 - 8s - loss: 0.6481 - binary_accuracy: 0.5489 - 8s/epoch - 7ms/step\n",
      "Epoch 10/32\n",
      "1109/1109 - 8s - loss: 0.6442 - binary_accuracy: 0.5507 - 8s/epoch - 7ms/step\n",
      "Epoch 11/32\n",
      "1109/1109 - 8s - loss: 0.6415 - binary_accuracy: 0.5523 - 8s/epoch - 8ms/step\n",
      "Epoch 12/32\n",
      "1109/1109 - 8s - loss: 0.6432 - binary_accuracy: 0.5581 - 8s/epoch - 7ms/step\n",
      "Epoch 13/32\n",
      "1109/1109 - 8s - loss: 0.6423 - binary_accuracy: 0.5561 - 8s/epoch - 7ms/step\n",
      "Epoch 14/32\n",
      "1109/1109 - 8s - loss: 0.6431 - binary_accuracy: 0.5569 - 8s/epoch - 7ms/step\n",
      "Epoch 15/32\n",
      "1109/1109 - 8s - loss: 0.6432 - binary_accuracy: 0.5582 - 8s/epoch - 7ms/step\n",
      "Epoch 16/32\n",
      "1109/1109 - 8s - loss: 0.6405 - binary_accuracy: 0.5580 - 8s/epoch - 7ms/step\n",
      "Epoch 17/32\n",
      "1109/1109 - 8s - loss: 0.6403 - binary_accuracy: 0.5604 - 8s/epoch - 7ms/step\n",
      "Epoch 18/32\n",
      "1109/1109 - 8s - loss: 0.6402 - binary_accuracy: 0.5608 - 8s/epoch - 7ms/step\n",
      "Epoch 19/32\n",
      "1109/1109 - 8s - loss: 0.6403 - binary_accuracy: 0.5628 - 8s/epoch - 7ms/step\n",
      "Epoch 20/32\n",
      "1109/1109 - 9s - loss: 0.6388 - binary_accuracy: 0.5640 - 9s/epoch - 8ms/step\n",
      "Epoch 21/32\n",
      "1109/1109 - 9s - loss: 0.6390 - binary_accuracy: 0.5629 - 9s/epoch - 8ms/step\n",
      "Epoch 22/32\n",
      "1109/1109 - 8s - loss: 0.6412 - binary_accuracy: 0.5661 - 8s/epoch - 7ms/step\n",
      "Epoch 23/32\n",
      "1109/1109 - 8s - loss: 0.6347 - binary_accuracy: 0.5683 - 8s/epoch - 7ms/step\n",
      "Epoch 24/32\n",
      "1109/1109 - 7s - loss: 0.6379 - binary_accuracy: 0.5675 - 7s/epoch - 6ms/step\n",
      "Epoch 25/32\n",
      "1109/1109 - 8s - loss: 0.6394 - binary_accuracy: 0.5701 - 8s/epoch - 7ms/step\n",
      "Epoch 26/32\n",
      "1109/1109 - 8s - loss: 0.6364 - binary_accuracy: 0.5717 - 8s/epoch - 7ms/step\n",
      "Epoch 27/32\n",
      "1109/1109 - 7s - loss: 0.6412 - binary_accuracy: 0.5735 - 7s/epoch - 6ms/step\n",
      "Epoch 28/32\n",
      "1109/1109 - 9s - loss: 0.6340 - binary_accuracy: 0.5769 - 9s/epoch - 8ms/step\n",
      "Epoch 29/32\n",
      "1109/1109 - 8s - loss: 0.6365 - binary_accuracy: 0.5762 - 8s/epoch - 7ms/step\n",
      "Epoch 30/32\n",
      "1109/1109 - 7s - loss: 0.6382 - binary_accuracy: 0.5767 - 7s/epoch - 7ms/step\n",
      "Epoch 31/32\n",
      "1109/1109 - 8s - loss: 0.6353 - binary_accuracy: 0.5820 - 8s/epoch - 8ms/step\n",
      "Epoch 32/32\n",
      "1109/1109 - 7s - loss: 0.6346 - binary_accuracy: 0.5811 - 7s/epoch - 6ms/step\n"
     ]
    }
   ],
   "source": [
    "history = model.fit(train_gen, epochs=32, verbose=2, use_multiprocessing=False, workers=1, shuffle=True)"
   ]
  },
  {
   "cell_type": "code",
   "execution_count": 13,
   "metadata": {},
   "outputs": [
    {
     "name": "stdout",
     "output_type": "stream",
     "text": [
      "139/139 [==============================] - 0s 967us/step\n",
      "Sample: [0.0014454424381256104, 0.0002391338348388672, 0.004812151193618774, 6.138326625659829e-06, 0.058870404958724976, 0.0015165209770202637, 0.04176586866378784, 0.005881279706954956, 0.05572184920310974, 0.004107058048248291] 128\n"
     ]
    }
   ],
   "source": [
    "x_inp_src = x_inp[0]\n",
    "x_out_src = x_out[0]\n",
    "embedding_model = keras.Model(inputs=x_inp_src, outputs=x_out_src)\n",
    "\n",
    "node_gen = Attri2VecNodeGenerator(G, batch_size).flow(node_features_df.index.tolist())\n",
    "node_embeddings = embedding_model.predict(node_gen, workers=1, verbose=1)\n",
    "\n",
    "embeddings_wv = dict(zip(node_features_df.index.tolist(), node_embeddings.tolist()))\n",
    "\n",
    "print('Sample:', embeddings_wv['crooked.com'][:10], len(embeddings_wv['crooked.com']))"
   ]
  },
  {
   "cell_type": "markdown",
   "metadata": {},
   "source": [
    "# Export embeddings as feature"
   ]
  },
  {
   "cell_type": "code",
   "execution_count": 14,
   "metadata": {},
   "outputs": [
    {
     "data": {
      "text/plain": [
       "'/Users/panayot/Documents/News-Media-Peers/data/acl2020/features/attrib2vec_referral_sites_level_1_epochs_4.json'"
      ]
     },
     "execution_count": 14,
     "metadata": {},
     "output_type": "execute_result"
    }
   ],
   "source": [
    "export_model_as_feature(embeddings_wv, f'attrib2vec_referral_sites_level_{level}_epochs_{epochs}')"
   ]
  },
  {
   "cell_type": "code",
   "execution_count": 15,
   "metadata": {},
   "outputs": [
    {
     "name": "stdout",
     "output_type": "stream",
     "text": [
      "+------+---------+---------------------+---------------+--------------------+--------------------------------------------+\n",
      "| task | dataset | classification_mode | type_training | normalize_features |                  features                  |\n",
      "+------+---------+---------------------+---------------+--------------------+--------------------------------------------+\n",
      "| fact | acl2020 |  single classifier  |    combine    |       False        | attrib2vec_referral_sites_level_1_epochs_4 |\n",
      "+------+---------+---------------------+---------------+--------------------+--------------------------------------------+\n"
     ]
    },
    {
     "name": "stderr",
     "output_type": "stream",
     "text": [
      "02-26 23:58:06 train        INFO     Start training...\n",
      "02-26 23:58:06 train        INFO     Fold: 0\n",
      "02-26 23:58:12 train        INFO     Fold: 1\n",
      "02-26 23:58:18 train        INFO     Fold: 2\n",
      "02-26 23:58:22 train        INFO     Fold: 3\n",
      "02-26 23:58:26 train        INFO     Fold: 4\n"
     ]
    },
    {
     "name": "stdout",
     "output_type": "stream",
     "text": [
      "+------+---------+---------------------+---------------+--------------------+--------------------------------------------+-------------------+-------------------+--------------------+--------------------+\n",
      "| task | dataset | classification_mode | type_training | normalize_features |                  features                  |      Macro-F1     |      Accuracy     |  Flip error-rate   |        MAE         |\n",
      "+------+---------+---------------------+---------------+--------------------+--------------------------------------------+-------------------+-------------------+--------------------+--------------------+\n",
      "| fact | acl2020 |  single classifier  |    combine    |       False        | attrib2vec_referral_sites_level_1_epochs_4 | 35.10440172331013 | 54.59837019790454 | 15.133876600698487 | 0.6053550640279395 |\n",
      "+------+---------+---------------------+---------------+--------------------+--------------------------------------------+-------------------+-------------------+--------------------+--------------------+\n"
     ]
    }
   ],
   "source": [
    "run_experiment(features=f'attrib2vec_referral_sites_level_{level}_epochs_{epochs}')"
   ]
  },
  {
   "cell_type": "code",
   "execution_count": 16,
   "metadata": {},
   "outputs": [
    {
     "name": "stdout",
     "output_type": "stream",
     "text": [
      "+------+---------+---------------------+---------------+--------------------+--------------------------------------------+\n",
      "| task | dataset | classification_mode | type_training | normalize_features |                  features                  |\n",
      "+------+---------+---------------------+---------------+--------------------+--------------------------------------------+\n",
      "| bias | acl2020 |  single classifier  |    combine    |       False        | attrib2vec_referral_sites_level_1_epochs_4 |\n",
      "+------+---------+---------------------+---------------+--------------------+--------------------------------------------+\n"
     ]
    },
    {
     "name": "stderr",
     "output_type": "stream",
     "text": [
      "02-26 23:58:31 train        INFO     Start training...\n",
      "02-26 23:58:31 train        INFO     Fold: 0\n",
      "02-26 23:58:36 train        INFO     Fold: 1\n",
      "02-26 23:58:41 train        INFO     Fold: 2\n",
      "02-26 23:58:46 train        INFO     Fold: 3\n",
      "02-26 23:58:50 train        INFO     Fold: 4\n"
     ]
    },
    {
     "name": "stdout",
     "output_type": "stream",
     "text": [
      "+------+---------+---------------------+---------------+--------------------+--------------------------------------------+--------------------+-------------------+--------------------+--------------------+\n",
      "| task | dataset | classification_mode | type_training | normalize_features |                  features                  |      Macro-F1      |      Accuracy     |  Flip error-rate   |        MAE         |\n",
      "+------+---------+---------------------+---------------+--------------------+--------------------------------------------+--------------------+-------------------+--------------------+--------------------+\n",
      "| bias | acl2020 |  single classifier  |    combine    |       False        | attrib2vec_referral_sites_level_1_epochs_4 | 35.441893292750166 | 45.75087310826543 | 13.038416763678695 | 0.6728754365541327 |\n",
      "+------+---------+---------------------+---------------+--------------------+--------------------------------------------+--------------------+-------------------+--------------------+--------------------+\n"
     ]
    }
   ],
   "source": [
    "run_experiment(features=f'attrib2vec_referral_sites_level_{level}_epochs_{epochs}', task='bias')"
   ]
  }
 ],
 "metadata": {
  "interpreter": {
   "hash": "940b4c110c3cebababd37dc6cec19477a44e469d32c41a0eaa8eeb689ff0386b"
  },
  "kernelspec": {
   "display_name": "Python 3.7.9 64-bit ('site_similarity': conda)",
   "language": "python",
   "name": "python3"
  },
  "language_info": {
   "codemirror_mode": {
    "name": "ipython",
    "version": 3
   },
   "file_extension": ".py",
   "mimetype": "text/x-python",
   "name": "python",
   "nbconvert_exporter": "python",
   "pygments_lexer": "ipython3",
   "version": "3.8.12"
  },
  "metadata": {
   "interpreter": {
    "hash": "72b3faef5542ae75c34eb0d3b11ce0fc432eb00b9ccfc309dfbebb58f482608a"
   }
  }
 },
 "nbformat": 4,
 "nbformat_minor": 4
}
