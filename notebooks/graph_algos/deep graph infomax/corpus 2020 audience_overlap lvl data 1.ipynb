{
 "cells": [
  {
   "cell_type": "code",
   "execution_count": 1,
   "metadata": {},
   "outputs": [
    {
     "name": "stderr",
     "output_type": "stream",
     "text": [
      "2022-01-30 12:12:03.918590: I tensorflow/core/platform/cpu_feature_guard.cc:151] This TensorFlow binary is optimized with oneAPI Deep Neural Network Library (oneDNN) to use the following CPU instructions in performance-critical operations:  AVX2 FMA\n",
      "To enable them in other operations, rebuild TensorFlow with the appropriate compiler flags.\n"
     ]
    }
   ],
   "source": [
    "import pandas as pd\n",
    "import sys\n",
    "import os\n",
    "sys.path.insert(0, '../../../')\n",
    "\n",
    "from notebooks.utils import _ALEXA_DATA_PATH, load_node_features, load_level_data, create_audience_overlap_nodes, export_model_as_feature\n",
    "from train import run_experiment"
   ]
  },
  {
   "cell_type": "markdown",
   "metadata": {},
   "source": [
    "# Load audience overlap edges for level 1"
   ]
  },
  {
   "cell_type": "code",
   "execution_count": 2,
   "metadata": {},
   "outputs": [
    {
     "name": "stderr",
     "output_type": "stream",
     "text": [
      "01-30 12:12:05 notebooks.utils INFO     Loaded 3489 nodes with records level <= 1 and child size:16981\n"
     ]
    },
    {
     "name": "stdout",
     "output_type": "stream",
     "text": [
      "[('crooked.com', 'votesaveamerica.com'), ('crooked.com', 'art19.com'), ('crooked.com', 'promocodeportal.com'), ('crooked.com', 'mediamatters.org'), ('crooked.com', 'actblue.com')]\n"
     ]
    }
   ],
   "source": [
    "level = 1\n",
    "\n",
    "audience_overlap_sites = load_level_data(os.path.join(_ALEXA_DATA_PATH, 'corpus_2020_audience_overlap_sites_scrapping_result.json'), level=level)\n",
    "audience_overlap_sites_NODES = create_audience_overlap_nodes(audience_overlap_sites)\n",
    "\n",
    "print(audience_overlap_sites_NODES[:5])"
   ]
  },
  {
   "cell_type": "code",
   "execution_count": 3,
   "metadata": {},
   "outputs": [
    {
     "data": {
      "text/html": [
       "<div>\n",
       "<style scoped>\n",
       "    .dataframe tbody tr th:only-of-type {\n",
       "        vertical-align: middle;\n",
       "    }\n",
       "\n",
       "    .dataframe tbody tr th {\n",
       "        vertical-align: top;\n",
       "    }\n",
       "\n",
       "    .dataframe thead th {\n",
       "        text-align: right;\n",
       "    }\n",
       "</style>\n",
       "<table border=\"1\" class=\"dataframe\">\n",
       "  <thead>\n",
       "    <tr style=\"text-align: right;\">\n",
       "      <th></th>\n",
       "      <th>source</th>\n",
       "      <th>target</th>\n",
       "    </tr>\n",
       "  </thead>\n",
       "  <tbody>\n",
       "    <tr>\n",
       "      <th>0</th>\n",
       "      <td>crooked.com</td>\n",
       "      <td>votesaveamerica.com</td>\n",
       "    </tr>\n",
       "    <tr>\n",
       "      <th>1</th>\n",
       "      <td>crooked.com</td>\n",
       "      <td>art19.com</td>\n",
       "    </tr>\n",
       "    <tr>\n",
       "      <th>2</th>\n",
       "      <td>crooked.com</td>\n",
       "      <td>promocodeportal.com</td>\n",
       "    </tr>\n",
       "    <tr>\n",
       "      <th>3</th>\n",
       "      <td>crooked.com</td>\n",
       "      <td>mediamatters.org</td>\n",
       "    </tr>\n",
       "    <tr>\n",
       "      <th>4</th>\n",
       "      <td>crooked.com</td>\n",
       "      <td>actblue.com</td>\n",
       "    </tr>\n",
       "  </tbody>\n",
       "</table>\n",
       "</div>"
      ],
      "text/plain": [
       "        source               target\n",
       "0  crooked.com  votesaveamerica.com\n",
       "1  crooked.com            art19.com\n",
       "2  crooked.com  promocodeportal.com\n",
       "3  crooked.com     mediamatters.org\n",
       "4  crooked.com          actblue.com"
      ]
     },
     "execution_count": 3,
     "metadata": {},
     "output_type": "execute_result"
    }
   ],
   "source": [
    "edge_df = pd.DataFrame(audience_overlap_sites_NODES, columns=['source', 'target'])\n",
    "\n",
    "edge_df.head()"
   ]
  },
  {
   "cell_type": "markdown",
   "metadata": {},
   "source": [
    "### Find all unique nodes in edges"
   ]
  },
  {
   "cell_type": "code",
   "execution_count": 4,
   "metadata": {},
   "outputs": [
    {
     "name": "stdout",
     "output_type": "stream",
     "text": [
      "Number of unique nodes in edges: 10161 Sample: ['commonwealthfund.org', 'freedomradiogambia.com', 'flixxy.com', 'hongkongbusiness.hk', 'cato-unbound.org']\n"
     ]
    }
   ],
   "source": [
    "nodes_in_edges = list(set(edge_df.source.unique().tolist() + edge_df.target.unique().tolist()))\n",
    "print('Number of unique nodes in edges:', len(nodes_in_edges), 'Sample:', nodes_in_edges[:5])"
   ]
  },
  {
   "cell_type": "markdown",
   "metadata": {},
   "source": [
    "### 1. Load all node features"
   ]
  },
  {
   "cell_type": "code",
   "execution_count": 5,
   "metadata": {},
   "outputs": [
    {
     "data": {
      "text/html": [
       "<div>\n",
       "<style scoped>\n",
       "    .dataframe tbody tr th:only-of-type {\n",
       "        vertical-align: middle;\n",
       "    }\n",
       "\n",
       "    .dataframe tbody tr th {\n",
       "        vertical-align: top;\n",
       "    }\n",
       "\n",
       "    .dataframe thead th {\n",
       "        text-align: right;\n",
       "    }\n",
       "</style>\n",
       "<table border=\"1\" class=\"dataframe\">\n",
       "  <thead>\n",
       "    <tr style=\"text-align: right;\">\n",
       "      <th></th>\n",
       "      <th>alexa_rank</th>\n",
       "      <th>daily_pageviews_per_visitor</th>\n",
       "      <th>daily_time_on_site</th>\n",
       "      <th>total_sites_linking_in</th>\n",
       "      <th>bounce_rate</th>\n",
       "    </tr>\n",
       "    <tr>\n",
       "      <th>site</th>\n",
       "      <th></th>\n",
       "      <th></th>\n",
       "      <th></th>\n",
       "      <th></th>\n",
       "      <th></th>\n",
       "    </tr>\n",
       "  </thead>\n",
       "  <tbody>\n",
       "    <tr>\n",
       "      <th>whistleblowersandrelators.com</th>\n",
       "      <td>NaN</td>\n",
       "      <td>NaN</td>\n",
       "      <td>NaN</td>\n",
       "      <td>NaN</td>\n",
       "      <td>NaN</td>\n",
       "    </tr>\n",
       "    <tr>\n",
       "      <th>geokov.com</th>\n",
       "      <td>2238341.0</td>\n",
       "      <td>1.0</td>\n",
       "      <td>NaN</td>\n",
       "      <td>60.0</td>\n",
       "      <td>0.900</td>\n",
       "    </tr>\n",
       "    <tr>\n",
       "      <th>trainingandfacilitation.ca</th>\n",
       "      <td>NaN</td>\n",
       "      <td>NaN</td>\n",
       "      <td>NaN</td>\n",
       "      <td>NaN</td>\n",
       "      <td>NaN</td>\n",
       "    </tr>\n",
       "    <tr>\n",
       "      <th>plumsolutions.com.au</th>\n",
       "      <td>1023533.0</td>\n",
       "      <td>1.0</td>\n",
       "      <td>138.0</td>\n",
       "      <td>60.0</td>\n",
       "      <td>0.813</td>\n",
       "    </tr>\n",
       "    <tr>\n",
       "      <th>dbdailyupdate.com</th>\n",
       "      <td>145283.0</td>\n",
       "      <td>1.7</td>\n",
       "      <td>179.0</td>\n",
       "      <td>64.0</td>\n",
       "      <td>0.756</td>\n",
       "    </tr>\n",
       "  </tbody>\n",
       "</table>\n",
       "</div>"
      ],
      "text/plain": [
       "                               alexa_rank  daily_pageviews_per_visitor  \\\n",
       "site                                                                     \n",
       "whistleblowersandrelators.com         NaN                          NaN   \n",
       "geokov.com                      2238341.0                          1.0   \n",
       "trainingandfacilitation.ca            NaN                          NaN   \n",
       "plumsolutions.com.au            1023533.0                          1.0   \n",
       "dbdailyupdate.com                145283.0                          1.7   \n",
       "\n",
       "                               daily_time_on_site  total_sites_linking_in  \\\n",
       "site                                                                        \n",
       "whistleblowersandrelators.com                 NaN                     NaN   \n",
       "geokov.com                                    NaN                    60.0   \n",
       "trainingandfacilitation.ca                    NaN                     NaN   \n",
       "plumsolutions.com.au                        138.0                    60.0   \n",
       "dbdailyupdate.com                           179.0                    64.0   \n",
       "\n",
       "                               bounce_rate  \n",
       "site                                        \n",
       "whistleblowersandrelators.com          NaN  \n",
       "geokov.com                           0.900  \n",
       "trainingandfacilitation.ca             NaN  \n",
       "plumsolutions.com.au                 0.813  \n",
       "dbdailyupdate.com                    0.756  "
      ]
     },
     "execution_count": 5,
     "metadata": {},
     "output_type": "execute_result"
    }
   ],
   "source": [
    "node_features_df = load_node_features()\n",
    "node_features_df = node_features_df.set_index('site')\n",
    "node_features_df.head()"
   ]
  },
  {
   "cell_type": "markdown",
   "metadata": {},
   "source": [
    "# Subset node_features"
   ]
  },
  {
   "cell_type": "code",
   "execution_count": 6,
   "metadata": {},
   "outputs": [],
   "source": [
    "node_features_df = node_features_df.loc[nodes_in_edges]"
   ]
  },
  {
   "cell_type": "code",
   "execution_count": 7,
   "metadata": {},
   "outputs": [
    {
     "name": "stdout",
     "output_type": "stream",
     "text": [
      "<class 'pandas.core.frame.DataFrame'>\n",
      "Index: 10161 entries, commonwealthfund.org to stcdems.org\n",
      "Data columns (total 5 columns):\n",
      " #   Column                       Non-Null Count  Dtype  \n",
      "---  ------                       --------------  -----  \n",
      " 0   alexa_rank                   7465 non-null   float64\n",
      " 1   daily_pageviews_per_visitor  7466 non-null   float64\n",
      " 2   daily_time_on_site           5566 non-null   float64\n",
      " 3   total_sites_linking_in       9861 non-null   float64\n",
      " 4   bounce_rate                  5179 non-null   float64\n",
      "dtypes: float64(5)\n",
      "memory usage: 476.3+ KB\n"
     ]
    }
   ],
   "source": [
    "node_features_df.info()"
   ]
  },
  {
   "cell_type": "markdown",
   "metadata": {},
   "source": [
    "### 2. Fill all missing alexa_rank and total_sites_linking_in with 0 "
   ]
  },
  {
   "cell_type": "code",
   "execution_count": 8,
   "metadata": {},
   "outputs": [
    {
     "name": "stdout",
     "output_type": "stream",
     "text": [
      "<class 'pandas.core.frame.DataFrame'>\n",
      "Index: 10161 entries, commonwealthfund.org to stcdems.org\n",
      "Data columns (total 5 columns):\n",
      " #   Column                       Non-Null Count  Dtype  \n",
      "---  ------                       --------------  -----  \n",
      " 0   alexa_rank                   10161 non-null  float64\n",
      " 1   daily_pageviews_per_visitor  7466 non-null   float64\n",
      " 2   daily_time_on_site           5566 non-null   float64\n",
      " 3   total_sites_linking_in       10161 non-null  float64\n",
      " 4   bounce_rate                  5179 non-null   float64\n",
      "dtypes: float64(5)\n",
      "memory usage: 476.3+ KB\n"
     ]
    }
   ],
   "source": [
    "node_features_df.alexa_rank = node_features_df.alexa_rank.fillna(0)\n",
    "node_features_df.total_sites_linking_in = node_features_df.total_sites_linking_in.fillna(0)\n",
    "node_features_df.info()"
   ]
  },
  {
   "cell_type": "markdown",
   "metadata": {},
   "source": [
    "### 3. Normalizing features"
   ]
  },
  {
   "cell_type": "code",
   "execution_count": 9,
   "metadata": {},
   "outputs": [],
   "source": [
    "import math\n",
    "\n",
    "node_features_df['normalized_alexa_rank'] = node_features_df['alexa_rank'].apply(lambda x: 1/x if x else 0)\n",
    "node_features_df['normalized_total_sites_linked_in'] = node_features_df['total_sites_linking_in'].apply(lambda x: math.log2(x) if x else 0)"
   ]
  },
  {
   "cell_type": "markdown",
   "metadata": {},
   "source": [
    "# Create Graph"
   ]
  },
  {
   "cell_type": "code",
   "execution_count": 10,
   "metadata": {},
   "outputs": [
    {
     "name": "stdout",
     "output_type": "stream",
     "text": [
      "StellarGraph: Undirected multigraph\n",
      " Nodes: 10161, Edges: 17010\n",
      "\n",
      " Node types:\n",
      "  default: [10161]\n",
      "    Features: float32 vector, length 2\n",
      "    Edge types: default-default->default\n",
      "\n",
      " Edge types:\n",
      "    default-default->default: [17010]\n",
      "        Weights: all 1 (default)\n",
      "        Features: none\n"
     ]
    }
   ],
   "source": [
    "import stellargraph as sg\n",
    "\n",
    "G = sg.StellarGraph(node_features_df[['normalized_alexa_rank', 'normalized_total_sites_linked_in']], edge_df)\n",
    "\n",
    "print(G.info())"
   ]
  },
  {
   "cell_type": "markdown",
   "metadata": {},
   "source": [
    "# Unsupervised Deep Graph Infomax"
   ]
  },
  {
   "cell_type": "code",
   "execution_count": 11,
   "metadata": {},
   "outputs": [
    {
     "name": "stdout",
     "output_type": "stream",
     "text": [
      "Using GCN (local pooling) filters...\n"
     ]
    }
   ],
   "source": [
    "from stellargraph.mapper import (\n",
    "    CorruptedGenerator,\n",
    "    FullBatchNodeGenerator\n",
    ")\n",
    "from stellargraph.layer import GCN, DeepGraphInfomax\n",
    "\n",
    "from tensorflow.keras import Model\n",
    "import tensorflow as tf\n",
    "from tensorflow.keras.optimizers import Adam\n",
    "from tensorflow.keras.callbacks import EarlyStopping\n",
    "\n",
    "# 1. Specify the other optional parameter values: root nodes, the number of walks to take per node, the length of each walk, and random seed.\n",
    "\n",
    "nodes = list(G.nodes())\n",
    "number_of_walks = 1\n",
    "length = 5\n",
    "\n",
    "# 2. Create the UnsupervisedSampler instance with the relevant parameters passed to it.\n",
    "\n",
    "fullbatch_generator = FullBatchNodeGenerator(G, sparse=False)\n",
    "gcn_model = GCN(layer_sizes=[128], activations=[\"relu\"], generator=fullbatch_generator)\n",
    "\n",
    "corrupted_generator = CorruptedGenerator(fullbatch_generator)\n",
    "gen = corrupted_generator.flow(G.nodes())\n",
    "\n",
    "# 3. Create a node pair generator:\n",
    "\n",
    "infomax = DeepGraphInfomax(gcn_model, corrupted_generator)\n",
    "x_in, x_out = infomax.in_out_tensors()\n",
    "\n",
    "deep_graph_infomax_model = Model(inputs=x_in, outputs=x_out)\n",
    "deep_graph_infomax_model.compile(loss=tf.nn.sigmoid_cross_entropy_with_logits, optimizer=Adam(lr=1e-3))\n"
   ]
  },
  {
   "cell_type": "code",
   "execution_count": 12,
   "metadata": {},
   "outputs": [
    {
     "name": "stdout",
     "output_type": "stream",
     "text": [
      "Sample: [0.0, 0.0, 1.1236499547958374, 0.0, 0.0, 0.2768782377243042, 0.2025298923254013, 0.0, 0.0, 0.0]\n"
     ]
    },
    {
     "data": {
      "image/png": "[encoded data removed]",
      "text/plain": [
       "<Figure size 504x288 with 1 Axes>"
      ]
     },
     "metadata": {
      "needs_background": "light"
     },
     "output_type": "display_data"
    }
   ],
   "source": [
    "from stellargraph.utils import plot_history\n",
    "\n",
    "epochs = 100\n",
    "\n",
    "es = EarlyStopping(monitor=\"loss\", min_delta=0, patience=20)\n",
    "history = deep_graph_infomax_model.fit(gen, epochs=epochs, verbose=0, callbacks=[es])\n",
    "plot_history(history)\n",
    "\n",
    "x_emb_in, x_emb_out = gcn_model.in_out_tensors()\n",
    "\n",
    "# for full batch models, squeeze out the batch dim (which is 1)\n",
    "x_out = tf.squeeze(x_emb_out, axis=0)\n",
    "emb_model = Model(inputs=x_emb_in, outputs=x_out)\n",
    "\n",
    "node_features_fullbactch_generator = fullbatch_generator.flow(node_features_df.index)\n",
    "node_embeddings = emb_model.predict(node_features_fullbactch_generator)\n",
    "\n",
    "embeddings_wv = dict(zip(node_features_df.index.tolist(), node_embeddings.tolist()))\n",
    "\n",
    "print('Sample:', embeddings_wv['crooked.com'][:10])"
   ]
  },
  {
   "cell_type": "markdown",
   "metadata": {},
   "source": [
    "# Export embeddings as feature"
   ]
  },
  {
   "cell_type": "code",
   "execution_count": 13,
   "metadata": {},
   "outputs": [
    {
     "data": {
      "text/plain": [
       "'/Users/panayot/Documents/News-Media-Peers/data/acl2020/features/deep_graph_infomax_level_1_epochs_100.json'"
      ]
     },
     "execution_count": 13,
     "metadata": {},
     "output_type": "execute_result"
    }
   ],
   "source": [
    "export_model_as_feature(embeddings_wv, f'deep_graph_infomax_level_{level}_epochs_{epochs}')"
   ]
  },
  {
   "cell_type": "code",
   "execution_count": 14,
   "metadata": {},
   "outputs": [
    {
     "name": "stdout",
     "output_type": "stream",
     "text": [
      "+------+---------+---------------------+---------------+--------------------+---------------------------------------+\n",
      "| task | dataset | classification_mode | type_training | normalize_features |                features               |\n",
      "+------+---------+---------------------+---------------+--------------------+---------------------------------------+\n",
      "| fact | acl2020 |  single classifier  |    combine    |       False        | deep_graph_infomax_level_1_epochs_100 |\n",
      "+------+---------+---------------------+---------------+--------------------+---------------------------------------+\n"
     ]
    },
    {
     "name": "stderr",
     "output_type": "stream",
     "text": [
      "01-30 12:12:37 train        INFO     Start training...\n",
      "01-30 12:12:37 train        INFO     Fold: 0\n",
      "01-30 12:12:44 train        INFO     Fold: 1\n",
      "01-30 12:12:49 train        INFO     Fold: 2\n",
      "01-30 12:12:54 train        INFO     Fold: 3\n",
      "01-30 12:12:58 train        INFO     Fold: 4\n"
     ]
    },
    {
     "name": "stdout",
     "output_type": "stream",
     "text": [
      "+------+---------+---------------------+---------------+--------------------+---------------------------------------+--------------------+-------------------+--------------------+--------------------+\n",
      "| task | dataset | classification_mode | type_training | normalize_features |                features               |      Macro-F1      |      Accuracy     |  Flip error-rate   |        MAE         |\n",
      "+------+---------+---------------------+---------------+--------------------+---------------------------------------+--------------------+-------------------+--------------------+--------------------+\n",
      "| fact | acl2020 |  single classifier  |    combine    |       False        | deep_graph_infomax_level_1_epochs_100 | 42.823924017950105 | 54.13271245634459 | 13.736903376018628 | 0.5960419091967404 |\n",
      "+------+---------+---------------------+---------------+--------------------+---------------------------------------+--------------------+-------------------+--------------------+--------------------+\n"
     ]
    }
   ],
   "source": [
    "run_experiment(features=f'deep_graph_infomax_level_{level}_epochs_{epochs}')"
   ]
  },
  {
   "cell_type": "code",
   "execution_count": 15,
   "metadata": {},
   "outputs": [
    {
     "name": "stdout",
     "output_type": "stream",
     "text": [
      "+------+---------+---------------------+---------------+--------------------+---------------------------------------+\n",
      "| task | dataset | classification_mode | type_training | normalize_features |                features               |\n",
      "+------+---------+---------------------+---------------+--------------------+---------------------------------------+\n",
      "| bias | acl2020 |  single classifier  |    combine    |       False        | deep_graph_infomax_level_1_epochs_100 |\n",
      "+------+---------+---------------------+---------------+--------------------+---------------------------------------+\n"
     ]
    },
    {
     "name": "stderr",
     "output_type": "stream",
     "text": [
      "01-30 12:13:02 train        INFO     Start training...\n",
      "01-30 12:13:02 train        INFO     Fold: 0\n",
      "01-30 12:13:08 train        INFO     Fold: 1\n",
      "01-30 12:13:13 train        INFO     Fold: 2\n",
      "01-30 12:13:19 train        INFO     Fold: 3\n",
      "01-30 12:13:26 train        INFO     Fold: 4\n"
     ]
    },
    {
     "name": "stdout",
     "output_type": "stream",
     "text": [
      "+------+---------+---------------------+---------------+--------------------+---------------------------------------+-------------------+--------------------+-------------------+--------------------+\n",
      "| task | dataset | classification_mode | type_training | normalize_features |                features               |      Macro-F1     |      Accuracy      |  Flip error-rate  |        MAE         |\n",
      "+------+---------+---------------------+---------------+--------------------+---------------------------------------+-------------------+--------------------+-------------------+--------------------+\n",
      "| bias | acl2020 |  single classifier  |    combine    |       False        | deep_graph_infomax_level_1_epochs_100 | 38.95789061311508 | 46.216530849825375 | 15.48311990686845 | 0.6926658905704307 |\n",
      "+------+---------+---------------------+---------------+--------------------+---------------------------------------+-------------------+--------------------+-------------------+--------------------+\n"
     ]
    }
   ],
   "source": [
    "run_experiment(features=f'deep_graph_infomax_level_{level}_epochs_{epochs}', task='bias')"
   ]
  }
 ],
 "metadata": {
  "kernelspec": {
   "display_name": "Python 3.7.9 64-bit ('site_similarity': conda)",
   "metadata": {
    "interpreter": {
     "hash": "72b3faef5542ae75c34eb0d3b11ce0fc432eb00b9ccfc309dfbebb58f482608a"
    }
   },
   "name": "python3"
  },
  "language_info": {
   "codemirror_mode": {
    "name": "ipython",
    "version": 3
   },
   "file_extension": ".py",
   "mimetype": "text/x-python",
   "name": "python",
   "nbconvert_exporter": "python",
   "pygments_lexer": "ipython3",
   "version": "3.8.12"
  }
 },
 "nbformat": 4,
 "nbformat_minor": 4
}
