{
 "cells": [
  {
   "cell_type": "code",
   "execution_count": 1,
   "metadata": {},
   "outputs": [],
   "source": [
    "import sys\n",
    "sys.path.insert(0, '../../../')\n",
    "\n",
    "from train import run_experiment"
   ]
  },
  {
   "cell_type": "markdown",
   "metadata": {},
   "source": [
    "### Factuality"
   ]
  },
  {
   "cell_type": "code",
   "execution_count": 2,
   "metadata": {},
   "outputs": [
    {
     "name": "stdout",
     "output_type": "stream",
     "text": [
      "+------+-----------+---------------------+---------------+--------------------+---------------------------------+\n",
      "| task |  dataset  | classification_mode | type_training | normalize_features |             features            |\n",
      "+------+-----------+---------------------+---------------+--------------------+---------------------------------+\n",
      "| fact | emnlp2018 |  single classifier  |    combine    |       False        | emnlp2018_fact_level3_sageunsup |\n",
      "+------+-----------+---------------------+---------------+--------------------+---------------------------------+\n"
     ]
    },
    {
     "name": "stderr",
     "output_type": "stream",
     "text": [
      "06-23 02:01:17 train        INFO     Start training... ['themaven.net']\n",
      "06-23 02:01:17 train        INFO     Fold: 0\n",
      "06-23 02:01:23 train        INFO     Fold: 1\n",
      "06-23 02:01:26 train        INFO     Fold: 2\n",
      "06-23 02:01:29 train        INFO     Fold: 3\n",
      "06-23 02:01:32 train        INFO     Fold: 4\n"
     ]
    },
    {
     "name": "stdout",
     "output_type": "stream",
     "text": [
      "+------+-----------+---------------------+---------------+--------------------+---------------------------------+-------------------+--------------------+-------------------+--------------------+\n",
      "| task |  dataset  | classification_mode | type_training | normalize_features |             features            |      Macro-F1     |      Accuracy      |  Flip error-rate  |        MAE         |\n",
      "+------+-----------+---------------------+---------------+--------------------+---------------------------------+-------------------+--------------------+-------------------+--------------------+\n",
      "| fact | emnlp2018 |  single classifier  |    combine    |       False        | emnlp2018_fact_level3_sageunsup | 49.90400031833913 | 59.339622641509436 | 11.79245283018868 | 0.5245283018867924 |\n",
      "+------+-----------+---------------------+---------------+--------------------+---------------------------------+-------------------+--------------------+-------------------+--------------------+\n"
     ]
    }
   ],
   "source": [
    "run_experiment(features=f'emnlp2018_fact_level3_sageunsup', dataset='emnlp2018', task='fact', skip_sites='themaven.net')"
   ]
  },
  {
   "cell_type": "code",
   "execution_count": 3,
   "metadata": {},
   "outputs": [
    {
     "name": "stdout",
     "output_type": "stream",
     "text": [
      "+------+-----------+---------------------+---------------+--------------------+---------------------------------+\n",
      "| task |  dataset  | classification_mode | type_training | normalize_features |             features            |\n",
      "+------+-----------+---------------------+---------------+--------------------+---------------------------------+\n",
      "| fact | emnlp2018 |  single classifier  |    combine    |        True        | emnlp2018_fact_level3_sageunsup |\n",
      "+------+-----------+---------------------+---------------+--------------------+---------------------------------+\n"
     ]
    },
    {
     "name": "stderr",
     "output_type": "stream",
     "text": [
      "06-23 02:01:40 train        INFO     Start training... ['themaven.net']\n",
      "06-23 02:01:40 train        INFO     Fold: 0\n",
      "06-23 02:01:44 train        INFO     Fold: 1\n",
      "06-23 02:01:47 train        INFO     Fold: 2\n",
      "06-23 02:01:51 train        INFO     Fold: 3\n",
      "06-23 02:01:54 train        INFO     Fold: 4\n"
     ]
    },
    {
     "name": "stdout",
     "output_type": "stream",
     "text": [
      "+------+-----------+---------------------+---------------+--------------------+---------------------------------+--------------------+------------------+--------------------+--------------------+\n",
      "| task |  dataset  | classification_mode | type_training | normalize_features |             features            |      Macro-F1      |     Accuracy     |  Flip error-rate   |        MAE         |\n",
      "+------+-----------+---------------------+---------------+--------------------+---------------------------------+--------------------+------------------+--------------------+--------------------+\n",
      "| fact | emnlp2018 |  single classifier  |    combine    |        True        | emnlp2018_fact_level3_sageunsup | 48.515198892319376 | 58.9622641509434 | 12.264150943396226 | 0.5330188679245284 |\n",
      "+------+-----------+---------------------+---------------+--------------------+---------------------------------+--------------------+------------------+--------------------+--------------------+\n"
     ]
    }
   ],
   "source": [
    "run_experiment(features=f'emnlp2018_fact_level3_sageunsup', dataset='emnlp2018', task='fact', skip_sites='themaven.net', normalize_features=True)"
   ]
  },
  {
   "cell_type": "markdown",
   "metadata": {},
   "source": [
    "### Bias"
   ]
  },
  {
   "cell_type": "code",
   "execution_count": 4,
   "metadata": {},
   "outputs": [
    {
     "name": "stdout",
     "output_type": "stream",
     "text": [
      "+------+-----------+---------------------+---------------+--------------------+---------------------------------+\n",
      "| task |  dataset  | classification_mode | type_training | normalize_features |             features            |\n",
      "+------+-----------+---------------------+---------------+--------------------+---------------------------------+\n",
      "| bias | emnlp2018 |  single classifier  |    combine    |       False        | emnlp2018_bias_level3_sageunsup |\n",
      "+------+-----------+---------------------+---------------+--------------------+---------------------------------+\n"
     ]
    },
    {
     "name": "stderr",
     "output_type": "stream",
     "text": [
      "06-23 02:02:02 train        INFO     Start training... ['themaven.net']\n",
      "06-23 02:02:02 train        INFO     Fold: 0\n",
      "06-23 02:02:07 train        INFO     Fold: 1\n",
      "06-23 02:02:11 train        INFO     Fold: 2\n",
      "06-23 02:02:15 train        INFO     Fold: 3\n",
      "06-23 02:02:18 train        INFO     Fold: 4\n"
     ]
    },
    {
     "name": "stdout",
     "output_type": "stream",
     "text": [
      "+------+-----------+---------------------+---------------+--------------------+---------------------------------+-------------------+-------------------+-------------------+--------------------+\n",
      "| task |  dataset  | classification_mode | type_training | normalize_features |             features            |      Macro-F1     |      Accuracy     |  Flip error-rate  |        MAE         |\n",
      "+------+-----------+---------------------+---------------+--------------------+---------------------------------+-------------------+-------------------+-------------------+--------------------+\n",
      "| bias | emnlp2018 |  single classifier  |    combine    |       False        | emnlp2018_bias_level3_sageunsup | 49.21385126829706 | 60.37735849056604 | 8.679245283018867 | 0.4830188679245283 |\n",
      "+------+-----------+---------------------+---------------+--------------------+---------------------------------+-------------------+-------------------+-------------------+--------------------+\n"
     ]
    }
   ],
   "source": [
    "run_experiment(features=f'emnlp2018_bias_level3_sageunsup', dataset='emnlp2018', task='bias', skip_sites='themaven.net')"
   ]
  },
  {
   "cell_type": "code",
   "execution_count": 5,
   "metadata": {},
   "outputs": [
    {
     "name": "stdout",
     "output_type": "stream",
     "text": [
      "+------+-----------+---------------------+---------------+--------------------+---------------------------------+\n",
      "| task |  dataset  | classification_mode | type_training | normalize_features |             features            |\n",
      "+------+-----------+---------------------+---------------+--------------------+---------------------------------+\n",
      "| bias | emnlp2018 |  single classifier  |    combine    |        True        | emnlp2018_bias_level3_sageunsup |\n",
      "+------+-----------+---------------------+---------------+--------------------+---------------------------------+\n"
     ]
    },
    {
     "name": "stderr",
     "output_type": "stream",
     "text": [
      "06-23 02:02:26 train        INFO     Start training... ['themaven.net']\n",
      "06-23 02:02:26 train        INFO     Fold: 0\n",
      "06-23 02:02:31 train        INFO     Fold: 1\n",
      "06-23 02:02:37 train        INFO     Fold: 2\n",
      "06-23 02:02:46 train        INFO     Fold: 3\n",
      "06-23 02:02:59 train        INFO     Fold: 4\n"
     ]
    },
    {
     "name": "stdout",
     "output_type": "stream",
     "text": [
      "+------+-----------+---------------------+---------------+--------------------+---------------------------------+-------------------+-------------------+-------------------+-------------------+\n",
      "| task |  dataset  | classification_mode | type_training | normalize_features |             features            |      Macro-F1     |      Accuracy     |  Flip error-rate  |        MAE        |\n",
      "+------+-----------+---------------------+---------------+--------------------+---------------------------------+-------------------+-------------------+-------------------+-------------------+\n",
      "| bias | emnlp2018 |  single classifier  |    combine    |        True        | emnlp2018_bias_level3_sageunsup | 46.88017460072677 | 57.45283018867925 | 9.433962264150944 | 0.519811320754717 |\n",
      "+------+-----------+---------------------+---------------+--------------------+---------------------------------+-------------------+-------------------+-------------------+-------------------+\n"
     ]
    }
   ],
   "source": [
    "run_experiment(features=f'emnlp2018_bias_level3_sageunsup', dataset='emnlp2018', task='bias', skip_sites='themaven.net', normalize_features=True)"
   ]
  }
 ],
 "metadata": {
  "kernelspec": {
   "display_name": "Python 3.8.12 ('mediapeers')",
   "language": "python",
   "name": "python3"
  },
  "language_info": {
   "codemirror_mode": {
    "name": "ipython",
    "version": 3
   },
   "file_extension": ".py",
   "mimetype": "text/x-python",
   "name": "python",
   "nbconvert_exporter": "python",
   "pygments_lexer": "ipython3",
   "version": "3.8.12"
  },
  "orig_nbformat": 4,
  "vscode": {
   "interpreter": {
    "hash": "940b4c110c3cebababd37dc6cec19477a44e469d32c41a0eaa8eeb689ff0386b"
   }
  }
 },
 "nbformat": 4,
 "nbformat_minor": 2
}
