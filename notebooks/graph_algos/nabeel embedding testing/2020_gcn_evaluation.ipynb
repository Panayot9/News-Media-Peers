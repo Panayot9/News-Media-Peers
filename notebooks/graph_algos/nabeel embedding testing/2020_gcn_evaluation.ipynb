{
 "cells": [
  {
   "cell_type": "code",
   "execution_count": 2,
   "metadata": {},
   "outputs": [],
   "source": [
    "import sys\n",
    "sys.path.insert(0, '../../../')\n",
    "\n",
    "from train import run_experiment"
   ]
  },
  {
   "cell_type": "markdown",
   "metadata": {},
   "source": [
    "### Factuality"
   ]
  },
  {
   "cell_type": "code",
   "execution_count": 4,
   "metadata": {},
   "outputs": [
    {
     "name": "stdout",
     "output_type": "stream",
     "text": [
      "+------+---------+---------------------+---------------+--------------------+-------------------------+\n",
      "| task | dataset | classification_mode | type_training | normalize_features |         features        |\n",
      "+------+---------+---------------------+---------------+--------------------+-------------------------+\n",
      "| fact | acl2020 |  single classifier  |    combine    |       False        | acl2020_fact_level3_gcn |\n",
      "+------+---------+---------------------+---------------+--------------------+-------------------------+\n"
     ]
    },
    {
     "name": "stderr",
     "output_type": "stream",
     "text": [
      "06-19 07:54:14 train        INFO     Start training...\n",
      "06-19 07:54:14 train        INFO     Fold: 0\n",
      "06-19 07:54:19 train        INFO     Fold: 1\n",
      "06-19 07:54:21 train        INFO     Fold: 2\n",
      "06-19 07:54:23 train        INFO     Fold: 3\n",
      "06-19 07:54:24 train        INFO     Fold: 4\n"
     ]
    },
    {
     "name": "stdout",
     "output_type": "stream",
     "text": [
      "+------+---------+---------------------+---------------+--------------------+-------------------------+-------------------+-------------------+-------------------+--------------------+\n",
      "| task | dataset | classification_mode | type_training | normalize_features |         features        |      Macro-F1     |      Accuracy     |  Flip error-rate  |        MAE         |\n",
      "+------+---------+---------------------+---------------+--------------------+-------------------------+-------------------+-------------------+-------------------+--------------------+\n",
      "| fact | acl2020 |  single classifier  |    combine    |       False        | acl2020_fact_level3_gcn | 53.75784362443555 | 61.46682188591386 | 6.286379511059372 | 0.4481955762514552 |\n",
      "+------+---------+---------------------+---------------+--------------------+-------------------------+-------------------+-------------------+-------------------+--------------------+\n"
     ]
    }
   ],
   "source": [
    "run_experiment(features=f'acl2020_fact_level3_gcn', dataset='acl2020', task='fact')"
   ]
  },
  {
   "cell_type": "markdown",
   "metadata": {},
   "source": [
    "### Bias"
   ]
  },
  {
   "cell_type": "code",
   "execution_count": 5,
   "metadata": {},
   "outputs": [
    {
     "name": "stdout",
     "output_type": "stream",
     "text": [
      "+------+---------+---------------------+---------------+--------------------+-------------------------+\n",
      "| task | dataset | classification_mode | type_training | normalize_features |         features        |\n",
      "+------+---------+---------------------+---------------+--------------------+-------------------------+\n",
      "| bias | acl2020 |  single classifier  |    combine    |       False        | acl2020_bias_level3_gcn |\n",
      "+------+---------+---------------------+---------------+--------------------+-------------------------+\n"
     ]
    },
    {
     "name": "stderr",
     "output_type": "stream",
     "text": [
      "06-19 07:55:36 train        INFO     Start training...\n",
      "06-19 07:55:36 train        INFO     Fold: 0\n",
      "06-19 07:55:38 train        INFO     Fold: 1\n",
      "06-19 07:55:40 train        INFO     Fold: 2\n",
      "06-19 07:55:42 train        INFO     Fold: 3\n",
      "06-19 07:55:44 train        INFO     Fold: 4\n"
     ]
    },
    {
     "name": "stdout",
     "output_type": "stream",
     "text": [
      "+------+---------+---------------------+---------------+--------------------+-------------------------+-------------------+-------------------+-------------------+--------------------+\n",
      "| task | dataset | classification_mode | type_training | normalize_features |         features        |      Macro-F1     |      Accuracy     |  Flip error-rate  |        MAE         |\n",
      "+------+---------+---------------------+---------------+--------------------+-------------------------+-------------------+-------------------+-------------------+--------------------+\n",
      "| bias | acl2020 |  single classifier  |    combine    |       False        | acl2020_bias_level3_gcn | 77.80680620802414 | 78.81257275902212 | 9.545983701979045 | 0.3073341094295693 |\n",
      "+------+---------+---------------------+---------------+--------------------+-------------------------+-------------------+-------------------+-------------------+--------------------+\n"
     ]
    }
   ],
   "source": [
    "run_experiment(features=f'acl2020_bias_level3_gcn', dataset='acl2020', task='bias')"
   ]
  }
 ],
 "metadata": {
  "kernelspec": {
   "display_name": "Python 3.8.12 ('mediapeers')",
   "language": "python",
   "name": "python3"
  },
  "language_info": {
   "codemirror_mode": {
    "name": "ipython",
    "version": 3
   },
   "file_extension": ".py",
   "mimetype": "text/x-python",
   "name": "python",
   "nbconvert_exporter": "python",
   "pygments_lexer": "ipython3",
   "version": "3.8.12"
  },
  "orig_nbformat": 4,
  "vscode": {
   "interpreter": {
    "hash": "940b4c110c3cebababd37dc6cec19477a44e469d32c41a0eaa8eeb689ff0386b"
   }
  }
 },
 "nbformat": 4,
 "nbformat_minor": 2
}
