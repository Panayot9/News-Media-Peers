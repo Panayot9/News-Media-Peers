{
 "cells": [
  {
   "cell_type": "code",
   "execution_count": 1,
   "metadata": {},
   "outputs": [],
   "source": [
    "import sys\n",
    "sys.path.insert(0, '../../../')\n",
    "\n",
    "from train import run_experiment"
   ]
  },
  {
   "cell_type": "markdown",
   "metadata": {},
   "source": [
    "### Factuality"
   ]
  },
  {
   "cell_type": "code",
   "execution_count": 2,
   "metadata": {},
   "outputs": [
    {
     "name": "stdout",
     "output_type": "stream",
     "text": [
      "+------+-----------+---------------------+---------------+--------------------+-------------------------------+\n",
      "| task |  dataset  | classification_mode | type_training | normalize_features |            features           |\n",
      "+------+-----------+---------------------+---------------+--------------------+-------------------------------+\n",
      "| fact | emnlp2018 |  single classifier  |    combine    |       False        | emnlp2018_fact_level3_sagesup |\n",
      "+------+-----------+---------------------+---------------+--------------------+-------------------------------+\n"
     ]
    },
    {
     "name": "stderr",
     "output_type": "stream",
     "text": [
      "06-23 01:44:25 train        INFO     Start training... ['themaven.net']\n",
      "06-23 01:44:25 train        INFO     Fold: 0\n",
      "06-23 01:44:31 train        INFO     Fold: 1\n",
      "06-23 01:44:33 train        INFO     Fold: 2\n",
      "06-23 01:44:36 train        INFO     Fold: 3\n",
      "06-23 01:44:38 train        INFO     Fold: 4\n"
     ]
    },
    {
     "name": "stdout",
     "output_type": "stream",
     "text": [
      "+------+-----------+---------------------+---------------+--------------------+-------------------------------+-------------------+-------------------+-------------------+------+\n",
      "| task |  dataset  | classification_mode | type_training | normalize_features |            features           |      Macro-F1     |      Accuracy     |  Flip error-rate  | MAE  |\n",
      "+------+-----------+---------------------+---------------+--------------------+-------------------------------+-------------------+-------------------+-------------------+------+\n",
      "| fact | emnlp2018 |  single classifier  |    combine    |       False        | emnlp2018_fact_level3_sagesup | 86.03536448252137 | 87.54716981132076 | 2.547169811320755 | 0.15 |\n",
      "+------+-----------+---------------------+---------------+--------------------+-------------------------------+-------------------+-------------------+-------------------+------+\n"
     ]
    }
   ],
   "source": [
    "run_experiment(features=f'emnlp2018_fact_level3_sagesup', dataset='emnlp2018', task='fact', skip_sites='themaven.net')"
   ]
  },
  {
   "cell_type": "code",
   "execution_count": 3,
   "metadata": {},
   "outputs": [
    {
     "name": "stdout",
     "output_type": "stream",
     "text": [
      "+------+-----------+---------------------+---------------+--------------------+-------------------------------+\n",
      "| task |  dataset  | classification_mode | type_training | normalize_features |            features           |\n",
      "+------+-----------+---------------------+---------------+--------------------+-------------------------------+\n",
      "| fact | emnlp2018 |  single classifier  |    combine    |        True        | emnlp2018_fact_level3_sagesup |\n",
      "+------+-----------+---------------------+---------------+--------------------+-------------------------------+\n"
     ]
    },
    {
     "name": "stderr",
     "output_type": "stream",
     "text": [
      "06-23 01:44:44 train        INFO     Start training... ['themaven.net']\n",
      "06-23 01:44:44 train        INFO     Fold: 0\n",
      "06-23 01:44:48 train        INFO     Fold: 1\n",
      "06-23 01:44:50 train        INFO     Fold: 2\n",
      "06-23 01:44:53 train        INFO     Fold: 3\n",
      "06-23 01:44:56 train        INFO     Fold: 4\n"
     ]
    },
    {
     "name": "stdout",
     "output_type": "stream",
     "text": [
      "+------+-----------+---------------------+---------------+--------------------+-------------------------------+-------------------+-------------------+--------------------+---------------------+\n",
      "| task |  dataset  | classification_mode | type_training | normalize_features |            features           |      Macro-F1     |      Accuracy     |  Flip error-rate   |         MAE         |\n",
      "+------+-----------+---------------------+---------------+--------------------+-------------------------------+-------------------+-------------------+--------------------+---------------------+\n",
      "| fact | emnlp2018 |  single classifier  |    combine    |        True        | emnlp2018_fact_level3_sagesup | 85.63566141217377 | 87.16981132075472 | 2.9245283018867925 | 0.15754716981132075 |\n",
      "+------+-----------+---------------------+---------------+--------------------+-------------------------------+-------------------+-------------------+--------------------+---------------------+\n"
     ]
    }
   ],
   "source": [
    "run_experiment(features=f'emnlp2018_fact_level3_sagesup', dataset='emnlp2018', task='fact', skip_sites='themaven.net', normalize_features=True)"
   ]
  },
  {
   "cell_type": "markdown",
   "metadata": {},
   "source": [
    "### Bias"
   ]
  },
  {
   "cell_type": "code",
   "execution_count": 4,
   "metadata": {},
   "outputs": [
    {
     "name": "stdout",
     "output_type": "stream",
     "text": [
      "+------+-----------+---------------------+---------------+--------------------+-------------------------------+\n",
      "| task |  dataset  | classification_mode | type_training | normalize_features |            features           |\n",
      "+------+-----------+---------------------+---------------+--------------------+-------------------------------+\n",
      "| bias | emnlp2018 |  single classifier  |    combine    |       False        | emnlp2018_bias_level3_sagesup |\n",
      "+------+-----------+---------------------+---------------+--------------------+-------------------------------+\n"
     ]
    },
    {
     "name": "stderr",
     "output_type": "stream",
     "text": [
      "06-23 01:45:01 train        INFO     Start training... ['themaven.net']\n",
      "06-23 01:45:01 train        INFO     Fold: 0\n",
      "06-23 01:45:06 train        INFO     Fold: 1\n",
      "06-23 01:45:10 train        INFO     Fold: 2\n",
      "06-23 01:45:13 train        INFO     Fold: 3\n",
      "06-23 01:45:17 train        INFO     Fold: 4\n"
     ]
    },
    {
     "name": "stdout",
     "output_type": "stream",
     "text": [
      "+------+-----------+---------------------+---------------+--------------------+-------------------------------+-------------------+-------------------+-------------------+-------------------+\n",
      "| task |  dataset  | classification_mode | type_training | normalize_features |            features           |      Macro-F1     |      Accuracy     |  Flip error-rate  |        MAE        |\n",
      "+------+-----------+---------------------+---------------+--------------------+-------------------------------+-------------------+-------------------+-------------------+-------------------+\n",
      "| bias | emnlp2018 |  single classifier  |    combine    |       False        | emnlp2018_bias_level3_sagesup | 52.17762735006634 | 64.81132075471699 | 8.773584905660377 | 0.439622641509434 |\n",
      "+------+-----------+---------------------+---------------+--------------------+-------------------------------+-------------------+-------------------+-------------------+-------------------+\n"
     ]
    }
   ],
   "source": [
    "run_experiment(features=f'emnlp2018_bias_level3_sagesup', dataset='emnlp2018', task='bias', skip_sites='themaven.net')"
   ]
  },
  {
   "cell_type": "code",
   "execution_count": 5,
   "metadata": {},
   "outputs": [
    {
     "name": "stdout",
     "output_type": "stream",
     "text": [
      "+------+-----------+---------------------+---------------+--------------------+-------------------------------+\n",
      "| task |  dataset  | classification_mode | type_training | normalize_features |            features           |\n",
      "+------+-----------+---------------------+---------------+--------------------+-------------------------------+\n",
      "| bias | emnlp2018 |  single classifier  |    combine    |        True        | emnlp2018_bias_level3_sagesup |\n",
      "+------+-----------+---------------------+---------------+--------------------+-------------------------------+\n"
     ]
    },
    {
     "name": "stderr",
     "output_type": "stream",
     "text": [
      "06-23 01:45:23 train        INFO     Start training... ['themaven.net']\n",
      "06-23 01:45:23 train        INFO     Fold: 0\n",
      "06-23 01:45:28 train        INFO     Fold: 1\n",
      "06-23 01:45:31 train        INFO     Fold: 2\n",
      "06-23 01:45:35 train        INFO     Fold: 3\n",
      "06-23 01:45:38 train        INFO     Fold: 4\n"
     ]
    },
    {
     "name": "stdout",
     "output_type": "stream",
     "text": [
      "+------+-----------+---------------------+---------------+--------------------+-------------------------------+------------------+-------------------+--------------------+---------------------+\n",
      "| task |  dataset  | classification_mode | type_training | normalize_features |            features           |     Macro-F1     |      Accuracy     |  Flip error-rate   |         MAE         |\n",
      "+------+-----------+---------------------+---------------+--------------------+-------------------------------+------------------+-------------------+--------------------+---------------------+\n",
      "| bias | emnlp2018 |  single classifier  |    combine    |        True        | emnlp2018_bias_level3_sagesup | 51.6582681443457 | 62.64150943396226 | 10.283018867924529 | 0.47641509433962265 |\n",
      "+------+-----------+---------------------+---------------+--------------------+-------------------------------+------------------+-------------------+--------------------+---------------------+\n"
     ]
    }
   ],
   "source": [
    "run_experiment(features=f'emnlp2018_bias_level3_sagesup', dataset='emnlp2018', task='bias', skip_sites='themaven.net', normalize_features=True)"
   ]
  },
  {
   "cell_type": "code",
   "execution_count": null,
   "metadata": {},
   "outputs": [],
   "source": []
  }
 ],
 "metadata": {
  "kernelspec": {
   "display_name": "Python 3.8.12 ('mediapeers')",
   "language": "python",
   "name": "python3"
  },
  "language_info": {
   "codemirror_mode": {
    "name": "ipython",
    "version": 3
   },
   "file_extension": ".py",
   "mimetype": "text/x-python",
   "name": "python",
   "nbconvert_exporter": "python",
   "pygments_lexer": "ipython3",
   "version": "3.8.12"
  },
  "orig_nbformat": 4,
  "vscode": {
   "interpreter": {
    "hash": "940b4c110c3cebababd37dc6cec19477a44e469d32c41a0eaa8eeb689ff0386b"
   }
  }
 },
 "nbformat": 4,
 "nbformat_minor": 2
}
