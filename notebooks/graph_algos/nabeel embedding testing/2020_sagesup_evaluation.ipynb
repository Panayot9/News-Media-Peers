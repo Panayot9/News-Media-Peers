{
 "cells": [
  {
   "cell_type": "code",
   "execution_count": 1,
   "metadata": {},
   "outputs": [],
   "source": [
    "import sys\n",
    "sys.path.insert(0, '../../../')\n",
    "\n",
    "from train import run_experiment"
   ]
  },
  {
   "cell_type": "markdown",
   "metadata": {},
   "source": [
    "### Factuality"
   ]
  },
  {
   "cell_type": "code",
   "execution_count": 2,
   "metadata": {},
   "outputs": [
    {
     "name": "stdout",
     "output_type": "stream",
     "text": [
      "+------+---------+---------------------+---------------+--------------------+-----------------------------+\n",
      "| task | dataset | classification_mode | type_training | normalize_features |           features          |\n",
      "+------+---------+---------------------+---------------+--------------------+-----------------------------+\n",
      "| fact | acl2020 |  single classifier  |    combine    |        True        | acl2020_fact_level3_sagesup |\n",
      "+------+---------+---------------------+---------------+--------------------+-----------------------------+\n"
     ]
    },
    {
     "name": "stderr",
     "output_type": "stream",
     "text": [
      "06-24 10:32:25 train        INFO     Start training... \n",
      "06-24 10:32:25 train        INFO     Fold: 0\n",
      "06-24 10:32:32 train        INFO     Fold: 1\n",
      "06-24 10:32:34 train        INFO     Fold: 2\n",
      "06-24 10:32:37 train        INFO     Fold: 3\n",
      "06-24 10:32:39 train        INFO     Fold: 4\n"
     ]
    },
    {
     "name": "stdout",
     "output_type": "stream",
     "text": [
      "+------+---------+---------------------+---------------+--------------------+-----------------------------+-------------------+-------------------+-------------------+--------------------+\n",
      "| task | dataset | classification_mode | type_training | normalize_features |           features          |      Macro-F1     |      Accuracy     |  Flip error-rate  |        MAE         |\n",
      "+------+---------+---------------------+---------------+--------------------+-----------------------------+-------------------+-------------------+-------------------+--------------------+\n",
      "| fact | acl2020 |  single classifier  |    combine    |        True        | acl2020_fact_level3_sagesup | 52.96716602710294 | 61.58323632130384 | 6.053550640279394 | 0.4447031431897555 |\n",
      "+------+---------+---------------------+---------------+--------------------+-----------------------------+-------------------+-------------------+-------------------+--------------------+\n"
     ]
    }
   ],
   "source": [
    "run_experiment(features=f'acl2020_fact_level3_sagesup', dataset='acl2020', task='fact', normalize_features=True)"
   ]
  },
  {
   "cell_type": "code",
   "execution_count": 3,
   "metadata": {},
   "outputs": [
    {
     "name": "stdout",
     "output_type": "stream",
     "text": [
      "+------+---------+---------------------+---------------+--------------------+-----------------------------+\n",
      "| task | dataset | classification_mode | type_training | normalize_features |           features          |\n",
      "+------+---------+---------------------+---------------+--------------------+-----------------------------+\n",
      "| fact | acl2020 |  single classifier  |    combine    |       False        | acl2020_fact_level3_sagesup |\n",
      "+------+---------+---------------------+---------------+--------------------+-----------------------------+\n"
     ]
    },
    {
     "name": "stderr",
     "output_type": "stream",
     "text": [
      "06-24 10:32:44 train        INFO     Start training... \n",
      "06-24 10:32:44 train        INFO     Fold: 0\n",
      "06-24 10:32:48 train        INFO     Fold: 1\n",
      "06-24 10:32:50 train        INFO     Fold: 2\n",
      "06-24 10:32:53 train        INFO     Fold: 3\n",
      "06-24 10:32:55 train        INFO     Fold: 4\n"
     ]
    },
    {
     "name": "stdout",
     "output_type": "stream",
     "text": [
      "+------+---------+---------------------+---------------+--------------------+-----------------------------+-------------------+--------------------+-------------------+--------------------+\n",
      "| task | dataset | classification_mode | type_training | normalize_features |           features          |      Macro-F1     |      Accuracy      |  Flip error-rate  |        MAE         |\n",
      "+------+---------+---------------------+---------------+--------------------+-----------------------------+-------------------+--------------------+-------------------+--------------------+\n",
      "| fact | acl2020 |  single classifier  |    combine    |       False        | acl2020_fact_level3_sagesup | 56.22186048762842 | 63.445867287543656 | 5.238649592549476 | 0.4179278230500582 |\n",
      "+------+---------+---------------------+---------------+--------------------+-----------------------------+-------------------+--------------------+-------------------+--------------------+\n"
     ]
    }
   ],
   "source": [
    "run_experiment(features=f'acl2020_fact_level3_sagesup', dataset='acl2020', task='fact')"
   ]
  },
  {
   "cell_type": "markdown",
   "metadata": {},
   "source": [
    "### Bias"
   ]
  },
  {
   "cell_type": "code",
   "execution_count": 4,
   "metadata": {},
   "outputs": [
    {
     "name": "stdout",
     "output_type": "stream",
     "text": [
      "+------+---------+---------------------+---------------+--------------------+-----------------------------+\n",
      "| task | dataset | classification_mode | type_training | normalize_features |           features          |\n",
      "+------+---------+---------------------+---------------+--------------------+-----------------------------+\n",
      "| bias | acl2020 |  single classifier  |    combine    |        True        | acl2020_bias_level3_sagesup |\n",
      "+------+---------+---------------------+---------------+--------------------+-----------------------------+\n"
     ]
    },
    {
     "name": "stderr",
     "output_type": "stream",
     "text": [
      "06-24 10:33:00 train        INFO     Start training... \n",
      "06-24 10:33:00 train        INFO     Fold: 0\n",
      "06-24 10:33:03 train        INFO     Fold: 1\n",
      "06-24 10:33:06 train        INFO     Fold: 2\n",
      "06-24 10:33:09 train        INFO     Fold: 3\n",
      "06-24 10:33:11 train        INFO     Fold: 4\n"
     ]
    },
    {
     "name": "stdout",
     "output_type": "stream",
     "text": [
      "+------+---------+---------------------+---------------+--------------------+-----------------------------+-------------------+-------------------+-------------------+---------------------+\n",
      "| task | dataset | classification_mode | type_training | normalize_features |           features          |      Macro-F1     |      Accuracy     |  Flip error-rate  |         MAE         |\n",
      "+------+---------+---------------------+---------------+--------------------+-----------------------------+-------------------+-------------------+-------------------+---------------------+\n",
      "| bias | acl2020 |  single classifier  |    combine    |        True        | acl2020_bias_level3_sagesup | 86.77327728342972 | 86.84516880093132 | 5.005820721769499 | 0.18160651920838183 |\n",
      "+------+---------+---------------------+---------------+--------------------+-----------------------------+-------------------+-------------------+-------------------+---------------------+\n"
     ]
    }
   ],
   "source": [
    "run_experiment(features=f'acl2020_bias_level3_sagesup', dataset='acl2020', task='bias', normalize_features=True)"
   ]
  },
  {
   "cell_type": "code",
   "execution_count": 5,
   "metadata": {},
   "outputs": [
    {
     "name": "stdout",
     "output_type": "stream",
     "text": [
      "+------+---------+---------------------+---------------+--------------------+-----------------------------+\n",
      "| task | dataset | classification_mode | type_training | normalize_features |           features          |\n",
      "+------+---------+---------------------+---------------+--------------------+-----------------------------+\n",
      "| bias | acl2020 |  single classifier  |    combine    |       False        | acl2020_bias_level3_sagesup |\n",
      "+------+---------+---------------------+---------------+--------------------+-----------------------------+\n"
     ]
    },
    {
     "name": "stderr",
     "output_type": "stream",
     "text": [
      "06-24 10:33:18 train        INFO     Start training... \n",
      "06-24 10:33:18 train        INFO     Fold: 0\n",
      "06-24 10:33:22 train        INFO     Fold: 1\n",
      "06-24 10:33:26 train        INFO     Fold: 2\n",
      "06-24 10:33:29 train        INFO     Fold: 3\n",
      "06-24 10:33:32 train        INFO     Fold: 4\n"
     ]
    },
    {
     "name": "stdout",
     "output_type": "stream",
     "text": [
      "+------+---------+---------------------+---------------+--------------------+-----------------------------+-------------------+-------------------+-------------------+--------------------+\n",
      "| task | dataset | classification_mode | type_training | normalize_features |           features          |      Macro-F1     |      Accuracy     |  Flip error-rate  |        MAE         |\n",
      "+------+---------+---------------------+---------------+--------------------+-----------------------------+-------------------+-------------------+-------------------+--------------------+\n",
      "| bias | acl2020 |  single classifier  |    combine    |       False        | acl2020_bias_level3_sagesup | 88.50470571709509 | 88.59138533178114 | 4.190919674039581 | 0.1559953434225844 |\n",
      "+------+---------+---------------------+---------------+--------------------+-----------------------------+-------------------+-------------------+-------------------+--------------------+\n"
     ]
    }
   ],
   "source": [
    "run_experiment(features=f'acl2020_bias_level3_sagesup', dataset='acl2020', task='bias')"
   ]
  },
  {
   "cell_type": "code",
   "execution_count": null,
   "metadata": {},
   "outputs": [],
   "source": []
  }
 ],
 "metadata": {
  "kernelspec": {
   "display_name": "Python 3.8.12 ('mediapeers')",
   "language": "python",
   "name": "python3"
  },
  "language_info": {
   "codemirror_mode": {
    "name": "ipython",
    "version": 3
   },
   "file_extension": ".py",
   "mimetype": "text/x-python",
   "name": "python",
   "nbconvert_exporter": "python",
   "pygments_lexer": "ipython3",
   "version": "3.8.12"
  },
  "orig_nbformat": 4,
  "vscode": {
   "interpreter": {
    "hash": "940b4c110c3cebababd37dc6cec19477a44e469d32c41a0eaa8eeb689ff0386b"
   }
  }
 },
 "nbformat": 4,
 "nbformat_minor": 2
}
