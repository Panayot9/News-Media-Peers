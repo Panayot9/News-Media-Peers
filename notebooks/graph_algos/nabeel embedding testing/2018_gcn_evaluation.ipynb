{
 "cells": [
  {
   "cell_type": "code",
   "execution_count": 1,
   "metadata": {},
   "outputs": [],
   "source": [
    "import sys\n",
    "sys.path.insert(0, '../../../')\n",
    "\n",
    "from train import run_experiment"
   ]
  },
  {
   "cell_type": "markdown",
   "metadata": {},
   "source": [
    "### Factuality"
   ]
  },
  {
   "cell_type": "code",
   "execution_count": 3,
   "metadata": {},
   "outputs": [
    {
     "name": "stdout",
     "output_type": "stream",
     "text": [
      "+------+-----------+---------------------+---------------+--------------------+---------------------------+\n",
      "| task |  dataset  | classification_mode | type_training | normalize_features |          features         |\n",
      "+------+-----------+---------------------+---------------+--------------------+---------------------------+\n",
      "| fact | emnlp2018 |  single classifier  |    combine    |       False        | emnlp2018_fact_level3_gcn |\n",
      "+------+-----------+---------------------+---------------+--------------------+---------------------------+\n"
     ]
    },
    {
     "name": "stderr",
     "output_type": "stream",
     "text": [
      "06-23 01:35:24 train        INFO     Start training... ['themaven.net']\n",
      "06-23 01:35:24 train        INFO     Fold: 0\n",
      "06-23 01:35:31 train        INFO     Fold: 1\n",
      "06-23 01:35:35 train        INFO     Fold: 2\n",
      "06-23 01:35:38 train        INFO     Fold: 3\n",
      "06-23 01:35:41 train        INFO     Fold: 4\n"
     ]
    },
    {
     "name": "stdout",
     "output_type": "stream",
     "text": [
      "+------+-----------+---------------------+---------------+--------------------+---------------------------+------------------+-------------------+-------------------+--------------------+\n",
      "| task |  dataset  | classification_mode | type_training | normalize_features |          features         |     Macro-F1     |      Accuracy     |  Flip error-rate  |        MAE         |\n",
      "+------+-----------+---------------------+---------------+--------------------+---------------------------+------------------+-------------------+-------------------+--------------------+\n",
      "| fact | emnlp2018 |  single classifier  |    combine    |       False        | emnlp2018_fact_level3_gcn | 72.2299753797691 | 75.94339622641509 | 5.754716981132075 | 0.2981132075471698 |\n",
      "+------+-----------+---------------------+---------------+--------------------+---------------------------+------------------+-------------------+-------------------+--------------------+\n"
     ]
    }
   ],
   "source": [
    "run_experiment(features=f'emnlp2018_fact_level3_gcn', dataset='emnlp2018', task='fact', skip_sites='themaven.net')"
   ]
  },
  {
   "cell_type": "code",
   "execution_count": 4,
   "metadata": {},
   "outputs": [
    {
     "name": "stdout",
     "output_type": "stream",
     "text": [
      "+------+-----------+---------------------+---------------+--------------------+---------------------------+\n",
      "| task |  dataset  | classification_mode | type_training | normalize_features |          features         |\n",
      "+------+-----------+---------------------+---------------+--------------------+---------------------------+\n",
      "| fact | emnlp2018 |  single classifier  |    combine    |        True        | emnlp2018_fact_level3_gcn |\n",
      "+------+-----------+---------------------+---------------+--------------------+---------------------------+\n"
     ]
    },
    {
     "name": "stderr",
     "output_type": "stream",
     "text": [
      "06-23 01:36:27 train        INFO     Start training... ['themaven.net']\n",
      "06-23 01:36:27 train        INFO     Fold: 0\n",
      "06-23 01:36:31 train        INFO     Fold: 1\n",
      "06-23 01:36:34 train        INFO     Fold: 2\n",
      "06-23 01:36:37 train        INFO     Fold: 3\n",
      "06-23 01:36:40 train        INFO     Fold: 4\n"
     ]
    },
    {
     "name": "stdout",
     "output_type": "stream",
     "text": [
      "+------+-----------+---------------------+---------------+--------------------+---------------------------+-------------------+-------------------+-------------------+---------------------+\n",
      "| task |  dataset  | classification_mode | type_training | normalize_features |          features         |      Macro-F1     |      Accuracy     |  Flip error-rate  |         MAE         |\n",
      "+------+-----------+---------------------+---------------+--------------------+---------------------------+-------------------+-------------------+-------------------+---------------------+\n",
      "| fact | emnlp2018 |  single classifier  |    combine    |        True        | emnlp2018_fact_level3_gcn | 72.71877137952755 | 76.60377358490567 | 5.377358490566038 | 0.28773584905660377 |\n",
      "+------+-----------+---------------------+---------------+--------------------+---------------------------+-------------------+-------------------+-------------------+---------------------+\n"
     ]
    }
   ],
   "source": [
    "run_experiment(features=f'emnlp2018_fact_level3_gcn', dataset='emnlp2018', task='fact', skip_sites='themaven.net', normalize_features=True)"
   ]
  },
  {
   "cell_type": "markdown",
   "metadata": {},
   "source": [
    "### Bias"
   ]
  },
  {
   "cell_type": "code",
   "execution_count": 5,
   "metadata": {},
   "outputs": [
    {
     "name": "stdout",
     "output_type": "stream",
     "text": [
      "+------+-----------+---------------------+---------------+--------------------+---------------------------+\n",
      "| task |  dataset  | classification_mode | type_training | normalize_features |          features         |\n",
      "+------+-----------+---------------------+---------------+--------------------+---------------------------+\n",
      "| bias | emnlp2018 |  single classifier  |    combine    |       False        | emnlp2018_bias_level3_gcn |\n",
      "+------+-----------+---------------------+---------------+--------------------+---------------------------+\n"
     ]
    },
    {
     "name": "stderr",
     "output_type": "stream",
     "text": [
      "06-23 01:37:12 train        INFO     Start training... ['themaven.net']\n",
      "06-23 01:37:12 train        INFO     Fold: 0\n",
      "06-23 01:37:16 train        INFO     Fold: 1\n",
      "06-23 01:37:19 train        INFO     Fold: 2\n",
      "06-23 01:37:22 train        INFO     Fold: 3\n",
      "06-23 01:37:26 train        INFO     Fold: 4\n"
     ]
    },
    {
     "name": "stdout",
     "output_type": "stream",
     "text": [
      "+------+-----------+---------------------+---------------+--------------------+---------------------------+-------------------+-------------------+-------------------+---------------------+\n",
      "| task |  dataset  | classification_mode | type_training | normalize_features |          features         |      Macro-F1     |      Accuracy     |  Flip error-rate  |         MAE         |\n",
      "+------+-----------+---------------------+---------------+--------------------+---------------------------+-------------------+-------------------+-------------------+---------------------+\n",
      "| bias | emnlp2018 |  single classifier  |    combine    |       False        | emnlp2018_bias_level3_gcn | 52.52840993338849 | 60.18867924528302 | 9.339622641509433 | 0.49150943396226415 |\n",
      "+------+-----------+---------------------+---------------+--------------------+---------------------------+-------------------+-------------------+-------------------+---------------------+\n"
     ]
    }
   ],
   "source": [
    "run_experiment(features=f'emnlp2018_bias_level3_gcn', dataset='emnlp2018', task='bias', skip_sites='themaven.net')"
   ]
  },
  {
   "cell_type": "code",
   "execution_count": 6,
   "metadata": {},
   "outputs": [
    {
     "name": "stdout",
     "output_type": "stream",
     "text": [
      "+------+-----------+---------------------+---------------+--------------------+---------------------------+\n",
      "| task |  dataset  | classification_mode | type_training | normalize_features |          features         |\n",
      "+------+-----------+---------------------+---------------+--------------------+---------------------------+\n",
      "| bias | emnlp2018 |  single classifier  |    combine    |        True        | emnlp2018_bias_level3_gcn |\n",
      "+------+-----------+---------------------+---------------+--------------------+---------------------------+\n"
     ]
    },
    {
     "name": "stderr",
     "output_type": "stream",
     "text": [
      "06-23 01:37:42 train        INFO     Start training... ['themaven.net']\n",
      "06-23 01:37:42 train        INFO     Fold: 0\n",
      "06-23 01:37:46 train        INFO     Fold: 1\n",
      "06-23 01:37:49 train        INFO     Fold: 2\n",
      "06-23 01:37:53 train        INFO     Fold: 3\n",
      "06-23 01:37:57 train        INFO     Fold: 4\n"
     ]
    },
    {
     "name": "stdout",
     "output_type": "stream",
     "text": [
      "+------+-----------+---------------------+---------------+--------------------+---------------------------+-------------------+-------------------+-------------------+---------------------+\n",
      "| task |  dataset  | classification_mode | type_training | normalize_features |          features         |      Macro-F1     |      Accuracy     |  Flip error-rate  |         MAE         |\n",
      "+------+-----------+---------------------+---------------+--------------------+---------------------------+-------------------+-------------------+-------------------+---------------------+\n",
      "| bias | emnlp2018 |  single classifier  |    combine    |        True        | emnlp2018_bias_level3_gcn | 52.61710583748764 | 60.28301886792453 | 9.150943396226415 | 0.48867924528301887 |\n",
      "+------+-----------+---------------------+---------------+--------------------+---------------------------+-------------------+-------------------+-------------------+---------------------+\n"
     ]
    }
   ],
   "source": [
    "run_experiment(features=f'emnlp2018_bias_level3_gcn', dataset='emnlp2018', task='bias', skip_sites='themaven.net', normalize_features=True)"
   ]
  }
 ],
 "metadata": {
  "kernelspec": {
   "display_name": "Python 3.8.12 ('mediapeers')",
   "language": "python",
   "name": "python3"
  },
  "language_info": {
   "codemirror_mode": {
    "name": "ipython",
    "version": 3
   },
   "file_extension": ".py",
   "mimetype": "text/x-python",
   "name": "python",
   "nbconvert_exporter": "python",
   "pygments_lexer": "ipython3",
   "version": "3.8.12"
  },
  "orig_nbformat": 4,
  "vscode": {
   "interpreter": {
    "hash": "940b4c110c3cebababd37dc6cec19477a44e469d32c41a0eaa8eeb689ff0386b"
   }
  }
 },
 "nbformat": 4,
 "nbformat_minor": 2
}
