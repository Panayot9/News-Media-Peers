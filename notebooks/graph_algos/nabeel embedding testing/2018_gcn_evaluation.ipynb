{
 "cells": [
  {
   "cell_type": "code",
   "execution_count": 1,
   "metadata": {},
   "outputs": [],
   "source": [
    "import sys\n",
    "sys.path.insert(0, '../../../')\n",
    "\n",
    "from train import run_experiment"
   ]
  },
  {
   "cell_type": "markdown",
   "metadata": {},
   "source": [
    "### Factuality"
   ]
  },
  {
   "cell_type": "code",
   "execution_count": 2,
   "metadata": {},
   "outputs": [
    {
     "name": "stdout",
     "output_type": "stream",
     "text": [
      "+------+-----------+---------------------+---------------+--------------------+---------------------------+\n",
      "| task |  dataset  | classification_mode | type_training | normalize_features |          features         |\n",
      "+------+-----------+---------------------+---------------+--------------------+---------------------------+\n",
      "| fact | emnlp2018 |  single classifier  |    combine    |       False        | emnlp2018_fact_level3_gcn |\n",
      "+------+-----------+---------------------+---------------+--------------------+---------------------------+\n"
     ]
    },
    {
     "name": "stderr",
     "output_type": "stream",
     "text": [
      "06-19 13:58:58 train        INFO     Start training...\n",
      "06-19 13:58:58 train        INFO     Fold: 0\n",
      "06-19 13:59:06 train        INFO     Fold: 1\n",
      "06-19 13:59:09 train        INFO     Fold: 2\n",
      "06-19 13:59:12 train        INFO     Fold: 3\n",
      "06-19 13:59:17 train        INFO     Fold: 4\n"
     ]
    },
    {
     "name": "stdout",
     "output_type": "stream",
     "text": [
      "all_urls 1061 actual 1060 predicted 1060\n",
      "+------+-----------+---------------------+---------------+--------------------+---------------------------+------------------+-------------------+-------------------+--------------------+\n",
      "| task |  dataset  | classification_mode | type_training | normalize_features |          features         |     Macro-F1     |      Accuracy     |  Flip error-rate  |        MAE         |\n",
      "+------+-----------+---------------------+---------------+--------------------+---------------------------+------------------+-------------------+-------------------+--------------------+\n",
      "| fact | emnlp2018 |  single classifier  |    combine    |       False        | emnlp2018_fact_level3_gcn | 72.2299753797691 | 75.94339622641509 | 5.754716981132075 | 0.2981132075471698 |\n",
      "+------+-----------+---------------------+---------------+--------------------+---------------------------+------------------+-------------------+-------------------+--------------------+\n"
     ]
    }
   ],
   "source": [
    "run_experiment(features=f'emnlp2018_fact_level3_gcn', dataset='emnlp2018', task='fact', skip_sites=['themaven.net'])"
   ]
  },
  {
   "cell_type": "markdown",
   "metadata": {},
   "source": [
    "### Bias"
   ]
  },
  {
   "cell_type": "code",
   "execution_count": 3,
   "metadata": {},
   "outputs": [
    {
     "name": "stdout",
     "output_type": "stream",
     "text": [
      "+------+-----------+---------------------+---------------+--------------------+---------------------------+\n",
      "| task |  dataset  | classification_mode | type_training | normalize_features |          features         |\n",
      "+------+-----------+---------------------+---------------+--------------------+---------------------------+\n",
      "| bias | emnlp2018 |  single classifier  |    combine    |       False        | emnlp2018_bias_level3_gcn |\n",
      "+------+-----------+---------------------+---------------+--------------------+---------------------------+\n"
     ]
    },
    {
     "name": "stderr",
     "output_type": "stream",
     "text": [
      "06-19 13:59:36 train        INFO     Start training...\n",
      "06-19 13:59:36 train        INFO     Fold: 0\n",
      "06-19 13:59:43 train        INFO     Fold: 1\n",
      "06-19 13:59:50 train        INFO     Fold: 2\n",
      "06-19 13:59:55 train        INFO     Fold: 3\n",
      "06-19 14:00:02 train        INFO     Fold: 4\n"
     ]
    },
    {
     "name": "stdout",
     "output_type": "stream",
     "text": [
      "all_urls 1061 actual 1060 predicted 1060\n",
      "+------+-----------+---------------------+---------------+--------------------+---------------------------+-------------------+-------------------+-------------------+---------------------+\n",
      "| task |  dataset  | classification_mode | type_training | normalize_features |          features         |      Macro-F1     |      Accuracy     |  Flip error-rate  |         MAE         |\n",
      "+------+-----------+---------------------+---------------+--------------------+---------------------------+-------------------+-------------------+-------------------+---------------------+\n",
      "| bias | emnlp2018 |  single classifier  |    combine    |       False        | emnlp2018_bias_level3_gcn | 52.52840993338849 | 60.18867924528302 | 9.339622641509433 | 0.49150943396226415 |\n",
      "+------+-----------+---------------------+---------------+--------------------+---------------------------+-------------------+-------------------+-------------------+---------------------+\n"
     ]
    }
   ],
   "source": [
    "run_experiment(features=f'emnlp2018_bias_level3_gcn', dataset='emnlp2018', task='bias', skip_sites=['themaven.net'])"
   ]
  },
  {
   "cell_type": "code",
   "execution_count": null,
   "metadata": {},
   "outputs": [],
   "source": []
  }
 ],
 "metadata": {
  "kernelspec": {
   "display_name": "Python 3.8.12 ('mediapeers')",
   "language": "python",
   "name": "python3"
  },
  "language_info": {
   "codemirror_mode": {
    "name": "ipython",
    "version": 3
   },
   "file_extension": ".py",
   "mimetype": "text/x-python",
   "name": "python",
   "nbconvert_exporter": "python",
   "pygments_lexer": "ipython3",
   "version": "3.8.12"
  },
  "orig_nbformat": 4,
  "vscode": {
   "interpreter": {
    "hash": "940b4c110c3cebababd37dc6cec19477a44e469d32c41a0eaa8eeb689ff0386b"
   }
  }
 },
 "nbformat": 4,
 "nbformat_minor": 2
}
