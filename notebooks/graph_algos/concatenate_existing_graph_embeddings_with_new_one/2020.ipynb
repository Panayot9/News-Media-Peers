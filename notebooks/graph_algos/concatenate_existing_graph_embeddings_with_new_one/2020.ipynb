{
 "cells": [
  {
   "cell_type": "code",
   "execution_count": 5,
   "metadata": {},
   "outputs": [],
   "source": [
    "import json\n",
    "import sys\n",
    "import os\n",
    "sys.path.insert(0, '../../../')\n",
    "\n",
    "from train import PROJECT_DIR, load_json, run_experiment"
   ]
  },
  {
   "cell_type": "code",
   "execution_count": 2,
   "metadata": {},
   "outputs": [],
   "source": [
    "existing_features = ['node2vec_mixed_unweighted_512D', 'node2vec_mixed_unweighted_1024D']\n",
    "\n",
    "new_features = [\n",
    "    'acl2020_fact_level3_gcn',\n",
    "    'acl2020_fact_level3_sagesup',\n",
    "    'acl2020_bias_level3_gcn',\n",
    "    'acl2020_bias_level3_sagesup',\n",
    "]"
   ]
  },
  {
   "cell_type": "code",
   "execution_count": 4,
   "metadata": {},
   "outputs": [
    {
     "name": "stdout",
     "output_type": "stream",
     "text": [
      "Successfully exported concat feature: /Users/panayot/Documents/News-Media-Peers/data/acl2020/features/concat_node2vec_mixed_unweighted_512D_acl2020_fact_level3_gcn.json\n",
      "Successfully exported concat feature: /Users/panayot/Documents/News-Media-Peers/data/acl2020/features/concat_node2vec_mixed_unweighted_512D_acl2020_fact_level3_sagesup.json\n",
      "Successfully exported concat feature: /Users/panayot/Documents/News-Media-Peers/data/acl2020/features/concat_node2vec_mixed_unweighted_512D_acl2020_bias_level3_gcn.json\n",
      "Successfully exported concat feature: /Users/panayot/Documents/News-Media-Peers/data/acl2020/features/concat_node2vec_mixed_unweighted_512D_acl2020_bias_level3_sagesup.json\n",
      "Successfully exported concat feature: /Users/panayot/Documents/News-Media-Peers/data/acl2020/features/concat_node2vec_mixed_unweighted_1024D_acl2020_fact_level3_gcn.json\n",
      "Successfully exported concat feature: /Users/panayot/Documents/News-Media-Peers/data/acl2020/features/concat_node2vec_mixed_unweighted_1024D_acl2020_fact_level3_sagesup.json\n",
      "Successfully exported concat feature: /Users/panayot/Documents/News-Media-Peers/data/acl2020/features/concat_node2vec_mixed_unweighted_1024D_acl2020_bias_level3_gcn.json\n",
      "Successfully exported concat feature: /Users/panayot/Documents/News-Media-Peers/data/acl2020/features/concat_node2vec_mixed_unweighted_1024D_acl2020_bias_level3_sagesup.json\n"
     ]
    }
   ],
   "source": [
    "for old_feature in existing_features:\n",
    "    old_graph_feature = load_json(os.path.join(PROJECT_DIR, 'data', 'acl2020', 'features', f'{old_feature}.json'))\n",
    "    for new_feature in new_features:\n",
    "        new_graph_feature = load_json(os.path.join(PROJECT_DIR, 'data', 'acl2020', 'features', f'{new_feature}.json'))\n",
    "\n",
    "        combined_feature = {site: old_graph_feature[site] + new_graph_feature[site]\n",
    "                            for site in old_graph_feature if site != 'themaven.net'}\n",
    "\n",
    "        concat_feature_path = os.path.join(PROJECT_DIR, 'data', 'acl2020', 'features', f'concat_{old_feature}_{new_feature}.json')\n",
    "        with open(concat_feature_path, 'w') as f:\n",
    "            json.dump(combined_feature, f)\n",
    "\n",
    "        print(f'Successfully exported concat feature: {concat_feature_path}')"
   ]
  },
  {
   "cell_type": "code",
   "execution_count": 7,
   "metadata": {},
   "outputs": [
    {
     "name": "stdout",
     "output_type": "stream",
     "text": [
      "Evaluating feauture: concat_node2vec_mixed_unweighted_512D_acl2020_fact_level3_gcn\n",
      "+------+---------+---------------------+---------------+--------------------+---------------------------------------------------------------+\n",
      "| task | dataset | classification_mode | type_training | normalize_features |                            features                           |\n",
      "+------+---------+---------------------+---------------+--------------------+---------------------------------------------------------------+\n",
      "| fact | acl2020 |  single classifier  |    combine    |       False        | concat_node2vec_mixed_unweighted_512D_acl2020_fact_level3_gcn |\n",
      "+------+---------+---------------------+---------------+--------------------+---------------------------------------------------------------+\n"
     ]
    },
    {
     "name": "stderr",
     "output_type": "stream",
     "text": [
      "06-23 02:44:13 train        INFO     Start training... ['themaven.net']\n",
      "06-23 02:44:13 train        INFO     Fold: 0\n",
      "06-23 02:44:27 train        INFO     Fold: 1\n",
      "06-23 02:44:36 train        INFO     Fold: 2\n",
      "06-23 02:44:44 train        INFO     Fold: 3\n",
      "06-23 02:44:51 train        INFO     Fold: 4\n",
      "06-23 02:45:00 train        INFO     Start training... ['themaven.net']\n",
      "06-23 02:45:00 train        INFO     Fold: 0\n"
     ]
    },
    {
     "name": "stdout",
     "output_type": "stream",
     "text": [
      "+------+---------+---------------------+---------------+--------------------+---------------------------------------------------------------+-------------------+-------------------+-------------------+---------------------+\n",
      "| task | dataset | classification_mode | type_training | normalize_features |                            features                           |      Macro-F1     |      Accuracy     |  Flip error-rate  |         MAE         |\n",
      "+------+---------+---------------------+---------------+--------------------+---------------------------------------------------------------+-------------------+-------------------+-------------------+---------------------+\n",
      "| fact | acl2020 |  single classifier  |    combine    |       False        | concat_node2vec_mixed_unweighted_512D_acl2020_fact_level3_gcn | 63.44913329995862 | 68.45168800931314 | 5.122235157159487 | 0.36670547147846333 |\n",
      "+------+---------+---------------------+---------------+--------------------+---------------------------------------------------------------+-------------------+-------------------+-------------------+---------------------+\n",
      "+------+---------+---------------------+---------------+--------------------+---------------------------------------------------------------+\n",
      "| task | dataset | classification_mode | type_training | normalize_features |                            features                           |\n",
      "+------+---------+---------------------+---------------+--------------------+---------------------------------------------------------------+\n",
      "| fact | acl2020 |  single classifier  |    combine    |        True        | concat_node2vec_mixed_unweighted_512D_acl2020_fact_level3_gcn |\n",
      "+------+---------+---------------------+---------------+--------------------+---------------------------------------------------------------+\n"
     ]
    },
    {
     "name": "stderr",
     "output_type": "stream",
     "text": [
      "06-23 02:45:10 train        INFO     Fold: 1\n",
      "06-23 02:45:19 train        INFO     Fold: 2\n",
      "06-23 02:45:29 train        INFO     Fold: 3\n",
      "06-23 02:45:44 train        INFO     Fold: 4\n"
     ]
    },
    {
     "name": "stdout",
     "output_type": "stream",
     "text": [
      "+------+---------+---------------------+---------------+--------------------+---------------------------------------------------------------+-------------------+-----------------+-------------------+--------------------+\n",
      "| task | dataset | classification_mode | type_training | normalize_features |                            features                           |      Macro-F1     |     Accuracy    |  Flip error-rate  |        MAE         |\n",
      "+------+---------+---------------------+---------------+--------------------+---------------------------------------------------------------+-------------------+-----------------+-------------------+--------------------+\n",
      "| fact | acl2020 |  single classifier  |    combine    |        True        | concat_node2vec_mixed_unweighted_512D_acl2020_fact_level3_gcn | 64.48665592303655 | 70.081490104773 | 5.005820721769499 | 0.3492433061699651 |\n",
      "+------+---------+---------------------+---------------+--------------------+---------------------------------------------------------------+-------------------+-----------------+-------------------+--------------------+\n",
      "Evaluating feauture: concat_node2vec_mixed_unweighted_512D_acl2020_fact_level3_sagesup\n",
      "+------+---------+---------------------+---------------+--------------------+-------------------------------------------------------------------+\n",
      "| task | dataset | classification_mode | type_training | normalize_features |                              features                             |\n",
      "+------+---------+---------------------+---------------+--------------------+-------------------------------------------------------------------+\n",
      "| fact | acl2020 |  single classifier  |    combine    |       False        | concat_node2vec_mixed_unweighted_512D_acl2020_fact_level3_sagesup |\n",
      "+------+---------+---------------------+---------------+--------------------+-------------------------------------------------------------------+\n"
     ]
    },
    {
     "name": "stderr",
     "output_type": "stream",
     "text": [
      "06-23 02:46:08 train        INFO     Start training... ['themaven.net']\n",
      "06-23 02:46:08 train        INFO     Fold: 0\n",
      "06-23 02:46:25 train        INFO     Fold: 1\n",
      "06-23 02:46:35 train        INFO     Fold: 2\n",
      "06-23 02:46:44 train        INFO     Fold: 3\n",
      "06-23 02:46:53 train        INFO     Fold: 4\n"
     ]
    },
    {
     "name": "stdout",
     "output_type": "stream",
     "text": [
      "+------+---------+---------------------+---------------+--------------------+-------------------------------------------------------------------+-------------------+-------------------+-------------------+-------------------+\n",
      "| task | dataset | classification_mode | type_training | normalize_features |                              features                             |      Macro-F1     |      Accuracy     |  Flip error-rate  |        MAE        |\n",
      "+------+---------+---------------------+---------------+--------------------+-------------------------------------------------------------------+-------------------+-------------------+-------------------+-------------------+\n",
      "| fact | acl2020 |  single classifier  |    combine    |       False        | concat_node2vec_mixed_unweighted_512D_acl2020_fact_level3_sagesup | 61.63263126075326 | 67.52037252619326 | 4.540162980209546 | 0.370197904540163 |\n",
      "+------+---------+---------------------+---------------+--------------------+-------------------------------------------------------------------+-------------------+-------------------+-------------------+-------------------+\n",
      "+------+---------+---------------------+---------------+--------------------+-------------------------------------------------------------------+\n",
      "| task | dataset | classification_mode | type_training | normalize_features |                              features                             |\n",
      "+------+---------+---------------------+---------------+--------------------+-------------------------------------------------------------------+\n",
      "| fact | acl2020 |  single classifier  |    combine    |        True        | concat_node2vec_mixed_unweighted_512D_acl2020_fact_level3_sagesup |\n",
      "+------+---------+---------------------+---------------+--------------------+-------------------------------------------------------------------+\n"
     ]
    },
    {
     "name": "stderr",
     "output_type": "stream",
     "text": [
      "06-23 02:47:01 train        INFO     Start training... ['themaven.net']\n",
      "06-23 02:47:01 train        INFO     Fold: 0\n",
      "06-23 02:47:13 train        INFO     Fold: 1\n",
      "06-23 02:47:22 train        INFO     Fold: 2\n",
      "06-23 02:47:31 train        INFO     Fold: 3\n",
      "06-23 02:47:41 train        INFO     Fold: 4\n"
     ]
    },
    {
     "name": "stdout",
     "output_type": "stream",
     "text": [
      "+------+---------+---------------------+---------------+--------------------+-------------------------------------------------------------------+-------------------+-------------------+-------------------+---------------------+\n",
      "| task | dataset | classification_mode | type_training | normalize_features |                              features                             |      Macro-F1     |      Accuracy     |  Flip error-rate  |         MAE         |\n",
      "+------+---------+---------------------+---------------+--------------------+-------------------------------------------------------------------+-------------------+-------------------+-------------------+---------------------+\n",
      "| fact | acl2020 |  single classifier  |    combine    |        True        | concat_node2vec_mixed_unweighted_512D_acl2020_fact_level3_sagesup | 61.76603879476655 | 68.10244470314319 | 5.587892898719441 | 0.37485448195576254 |\n",
      "+------+---------+---------------------+---------------+--------------------+-------------------------------------------------------------------+-------------------+-------------------+-------------------+---------------------+\n",
      "Evaluating feauture: concat_node2vec_mixed_unweighted_512D_acl2020_bias_level3_gcn\n",
      "+------+---------+---------------------+---------------+--------------------+---------------------------------------------------------------+\n",
      "| task | dataset | classification_mode | type_training | normalize_features |                            features                           |\n",
      "+------+---------+---------------------+---------------+--------------------+---------------------------------------------------------------+\n",
      "| bias | acl2020 |  single classifier  |    combine    |       False        | concat_node2vec_mixed_unweighted_512D_acl2020_bias_level3_gcn |\n",
      "+------+---------+---------------------+---------------+--------------------+---------------------------------------------------------------+\n"
     ]
    },
    {
     "name": "stderr",
     "output_type": "stream",
     "text": [
      "06-23 02:47:51 train        INFO     Start training... ['themaven.net']\n",
      "06-23 02:47:51 train        INFO     Fold: 0\n",
      "06-23 02:48:04 train        INFO     Fold: 1\n",
      "06-23 02:48:14 train        INFO     Fold: 2\n",
      "06-23 02:48:24 train        INFO     Fold: 3\n",
      "06-23 02:48:33 train        INFO     Fold: 4\n"
     ]
    },
    {
     "name": "stdout",
     "output_type": "stream",
     "text": [
      "+------+---------+---------------------+---------------+--------------------+---------------------------------------------------------------+-------------------+-------------------+-------------------+--------------------+\n",
      "| task | dataset | classification_mode | type_training | normalize_features |                            features                           |      Macro-F1     |      Accuracy     |  Flip error-rate  |        MAE         |\n",
      "+------+---------+---------------------+---------------+--------------------+---------------------------------------------------------------+-------------------+-------------------+-------------------+--------------------+\n",
      "| bias | acl2020 |  single classifier  |    combine    |       False        | concat_node2vec_mixed_unweighted_512D_acl2020_bias_level3_gcn | 79.53147626029401 | 80.44237485448195 | 7.566938300349244 | 0.2712456344586729 |\n",
      "+------+---------+---------------------+---------------+--------------------+---------------------------------------------------------------+-------------------+-------------------+-------------------+--------------------+\n",
      "+------+---------+---------------------+---------------+--------------------+---------------------------------------------------------------+\n",
      "| task | dataset | classification_mode | type_training | normalize_features |                            features                           |\n",
      "+------+---------+---------------------+---------------+--------------------+---------------------------------------------------------------+\n",
      "| bias | acl2020 |  single classifier  |    combine    |        True        | concat_node2vec_mixed_unweighted_512D_acl2020_bias_level3_gcn |\n",
      "+------+---------+---------------------+---------------+--------------------+---------------------------------------------------------------+\n"
     ]
    },
    {
     "name": "stderr",
     "output_type": "stream",
     "text": [
      "06-23 02:48:43 train        INFO     Start training... ['themaven.net']\n",
      "06-23 02:48:43 train        INFO     Fold: 0\n",
      "06-23 02:48:54 train        INFO     Fold: 1\n",
      "06-23 02:49:04 train        INFO     Fold: 2\n",
      "06-23 02:49:14 train        INFO     Fold: 3\n",
      "06-23 02:49:24 train        INFO     Fold: 4\n"
     ]
    },
    {
     "name": "stdout",
     "output_type": "stream",
     "text": [
      "+------+---------+---------------------+---------------+--------------------+---------------------------------------------------------------+-------------------+-------------------+-------------------+--------------------+\n",
      "| task | dataset | classification_mode | type_training | normalize_features |                            features                           |      Macro-F1     |      Accuracy     |  Flip error-rate  |        MAE         |\n",
      "+------+---------+---------------------+---------------+--------------------+---------------------------------------------------------------+-------------------+-------------------+-------------------+--------------------+\n",
      "| bias | acl2020 |  single classifier  |    combine    |        True        | concat_node2vec_mixed_unweighted_512D_acl2020_bias_level3_gcn | 80.45421576275129 | 81.14086146682189 | 6.752037252619325 | 0.2561117578579744 |\n",
      "+------+---------+---------------------+---------------+--------------------+---------------------------------------------------------------+-------------------+-------------------+-------------------+--------------------+\n",
      "Evaluating feauture: concat_node2vec_mixed_unweighted_512D_acl2020_bias_level3_sagesup\n",
      "+------+---------+---------------------+---------------+--------------------+-------------------------------------------------------------------+\n",
      "| task | dataset | classification_mode | type_training | normalize_features |                              features                             |\n",
      "+------+---------+---------------------+---------------+--------------------+-------------------------------------------------------------------+\n",
      "| bias | acl2020 |  single classifier  |    combine    |       False        | concat_node2vec_mixed_unweighted_512D_acl2020_bias_level3_sagesup |\n",
      "+------+---------+---------------------+---------------+--------------------+-------------------------------------------------------------------+\n"
     ]
    },
    {
     "name": "stderr",
     "output_type": "stream",
     "text": [
      "06-23 02:49:34 train        INFO     Start training... ['themaven.net']\n",
      "06-23 02:49:34 train        INFO     Fold: 0\n",
      "06-23 02:49:46 train        INFO     Fold: 1\n",
      "06-23 02:49:55 train        INFO     Fold: 2\n",
      "06-23 02:50:03 train        INFO     Fold: 3\n",
      "06-23 02:50:12 train        INFO     Fold: 4\n"
     ]
    },
    {
     "name": "stdout",
     "output_type": "stream",
     "text": [
      "+------+---------+---------------------+---------------+--------------------+-------------------------------------------------------------------+-------------------+-------------------+-------------------+---------------------+\n",
      "| task | dataset | classification_mode | type_training | normalize_features |                              features                             |      Macro-F1     |      Accuracy     |  Flip error-rate  |         MAE         |\n",
      "+------+---------+---------------------+---------------+--------------------+-------------------------------------------------------------------+-------------------+-------------------+-------------------+---------------------+\n",
      "| bias | acl2020 |  single classifier  |    combine    |       False        | concat_node2vec_mixed_unweighted_512D_acl2020_bias_level3_sagesup | 82.26103575841535 | 82.88707799767171 | 6.752037252619325 | 0.23864959254947612 |\n",
      "+------+---------+---------------------+---------------+--------------------+-------------------------------------------------------------------+-------------------+-------------------+-------------------+---------------------+\n",
      "+------+---------+---------------------+---------------+--------------------+-------------------------------------------------------------------+\n",
      "| task | dataset | classification_mode | type_training | normalize_features |                              features                             |\n",
      "+------+---------+---------------------+---------------+--------------------+-------------------------------------------------------------------+\n",
      "| bias | acl2020 |  single classifier  |    combine    |        True        | concat_node2vec_mixed_unweighted_512D_acl2020_bias_level3_sagesup |\n",
      "+------+---------+---------------------+---------------+--------------------+-------------------------------------------------------------------+\n"
     ]
    },
    {
     "name": "stderr",
     "output_type": "stream",
     "text": [
      "06-23 02:50:21 train        INFO     Start training... ['themaven.net']\n",
      "06-23 02:50:21 train        INFO     Fold: 0\n",
      "06-23 02:50:33 train        INFO     Fold: 1\n",
      "06-23 02:50:42 train        INFO     Fold: 2\n",
      "06-23 02:50:51 train        INFO     Fold: 3\n",
      "06-23 02:51:00 train        INFO     Fold: 4\n"
     ]
    },
    {
     "name": "stdout",
     "output_type": "stream",
     "text": [
      "+------+---------+---------------------+---------------+--------------------+-------------------------------------------------------------------+-------------------+------------------+-------------------+--------------------+\n",
      "| task | dataset | classification_mode | type_training | normalize_features |                              features                             |      Macro-F1     |     Accuracy     |  Flip error-rate  |        MAE         |\n",
      "+------+---------+---------------------+---------------+--------------------+-------------------------------------------------------------------+-------------------+------------------+-------------------+--------------------+\n",
      "| bias | acl2020 |  single classifier  |    combine    |        True        | concat_node2vec_mixed_unweighted_512D_acl2020_bias_level3_sagesup | 82.46458028704873 | 83.0034924330617 | 6.519208381839348 | 0.2351571594877765 |\n",
      "+------+---------+---------------------+---------------+--------------------+-------------------------------------------------------------------+-------------------+------------------+-------------------+--------------------+\n",
      "Evaluating feauture: concat_node2vec_mixed_unweighted_1024D_acl2020_fact_level3_gcn\n",
      "+------+---------+---------------------+---------------+--------------------+----------------------------------------------------------------+\n",
      "| task | dataset | classification_mode | type_training | normalize_features |                            features                            |\n",
      "+------+---------+---------------------+---------------+--------------------+----------------------------------------------------------------+\n",
      "| fact | acl2020 |  single classifier  |    combine    |       False        | concat_node2vec_mixed_unweighted_1024D_acl2020_fact_level3_gcn |\n",
      "+------+---------+---------------------+---------------+--------------------+----------------------------------------------------------------+\n"
     ]
    },
    {
     "name": "stderr",
     "output_type": "stream",
     "text": [
      "06-23 02:51:09 train        INFO     Start training... ['themaven.net']\n",
      "06-23 02:51:09 train        INFO     Fold: 0\n",
      "06-23 02:51:34 train        INFO     Fold: 1\n",
      "06-23 02:51:54 train        INFO     Fold: 2\n",
      "06-23 02:52:15 train        INFO     Fold: 3\n",
      "06-23 02:52:37 train        INFO     Fold: 4\n"
     ]
    },
    {
     "name": "stdout",
     "output_type": "stream",
     "text": [
      "+------+---------+---------------------+---------------+--------------------+----------------------------------------------------------------+-------------------+-------------------+-------------------+---------------------+\n",
      "| task | dataset | classification_mode | type_training | normalize_features |                            features                            |      Macro-F1     |      Accuracy     |  Flip error-rate  |         MAE         |\n",
      "+------+---------+---------------------+---------------+--------------------+----------------------------------------------------------------+-------------------+-------------------+-------------------+---------------------+\n",
      "| fact | acl2020 |  single classifier  |    combine    |       False        | concat_node2vec_mixed_unweighted_1024D_acl2020_fact_level3_gcn | 65.19931832926052 | 70.19790454016298 | 4.423748544819558 | 0.34225844004656575 |\n",
      "+------+---------+---------------------+---------------+--------------------+----------------------------------------------------------------+-------------------+-------------------+-------------------+---------------------+\n",
      "+------+---------+---------------------+---------------+--------------------+----------------------------------------------------------------+\n",
      "| task | dataset | classification_mode | type_training | normalize_features |                            features                            |\n",
      "+------+---------+---------------------+---------------+--------------------+----------------------------------------------------------------+\n",
      "| fact | acl2020 |  single classifier  |    combine    |        True        | concat_node2vec_mixed_unweighted_1024D_acl2020_fact_level3_gcn |\n",
      "+------+---------+---------------------+---------------+--------------------+----------------------------------------------------------------+\n"
     ]
    },
    {
     "name": "stderr",
     "output_type": "stream",
     "text": [
      "06-23 02:52:57 train        INFO     Start training... ['themaven.net']\n",
      "06-23 02:52:57 train        INFO     Fold: 0\n",
      "06-23 02:53:22 train        INFO     Fold: 1\n",
      "06-23 02:53:43 train        INFO     Fold: 2\n",
      "06-23 02:54:05 train        INFO     Fold: 3\n",
      "06-23 02:54:27 train        INFO     Fold: 4\n"
     ]
    },
    {
     "name": "stdout",
     "output_type": "stream",
     "text": [
      "+------+---------+---------------------+---------------+--------------------+----------------------------------------------------------------+--------------------+-------------------+-------------------+--------------------+\n",
      "| task | dataset | classification_mode | type_training | normalize_features |                            features                            |      Macro-F1      |      Accuracy     |  Flip error-rate  |        MAE         |\n",
      "+------+---------+---------------------+---------------+--------------------+----------------------------------------------------------------+--------------------+-------------------+-------------------+--------------------+\n",
      "| fact | acl2020 |  single classifier  |    combine    |        True        | concat_node2vec_mixed_unweighted_1024D_acl2020_fact_level3_gcn | 63.511222055715166 | 68.45168800931314 | 5.355064027939465 | 0.3690337601862631 |\n",
      "+------+---------+---------------------+---------------+--------------------+----------------------------------------------------------------+--------------------+-------------------+-------------------+--------------------+\n",
      "Evaluating feauture: concat_node2vec_mixed_unweighted_1024D_acl2020_fact_level3_sagesup\n",
      "+------+---------+---------------------+---------------+--------------------+--------------------------------------------------------------------+\n",
      "| task | dataset | classification_mode | type_training | normalize_features |                              features                              |\n",
      "+------+---------+---------------------+---------------+--------------------+--------------------------------------------------------------------+\n",
      "| fact | acl2020 |  single classifier  |    combine    |       False        | concat_node2vec_mixed_unweighted_1024D_acl2020_fact_level3_sagesup |\n",
      "+------+---------+---------------------+---------------+--------------------+--------------------------------------------------------------------+\n"
     ]
    },
    {
     "name": "stderr",
     "output_type": "stream",
     "text": [
      "06-23 02:54:48 train        INFO     Start training... ['themaven.net']\n",
      "06-23 02:54:48 train        INFO     Fold: 0\n",
      "06-23 02:55:12 train        INFO     Fold: 1\n",
      "06-23 02:55:33 train        INFO     Fold: 2\n",
      "06-23 02:55:54 train        INFO     Fold: 3\n",
      "06-23 02:56:16 train        INFO     Fold: 4\n"
     ]
    },
    {
     "name": "stdout",
     "output_type": "stream",
     "text": [
      "+------+---------+---------------------+---------------+--------------------+--------------------------------------------------------------------+------------------+-------------------+-------------------+--------------------+\n",
      "| task | dataset | classification_mode | type_training | normalize_features |                              features                              |     Macro-F1     |      Accuracy     |  Flip error-rate  |        MAE         |\n",
      "+------+---------+---------------------+---------------+--------------------+--------------------------------------------------------------------+------------------+-------------------+-------------------+--------------------+\n",
      "| fact | acl2020 |  single classifier  |    combine    |       False        | concat_node2vec_mixed_unweighted_1024D_acl2020_fact_level3_sagesup | 64.3560039201196 | 69.38300349243306 | 3.958090803259604 | 0.3457508731082654 |\n",
      "+------+---------+---------------------+---------------+--------------------+--------------------------------------------------------------------+------------------+-------------------+-------------------+--------------------+\n",
      "+------+---------+---------------------+---------------+--------------------+--------------------------------------------------------------------+\n",
      "| task | dataset | classification_mode | type_training | normalize_features |                              features                              |\n",
      "+------+---------+---------------------+---------------+--------------------+--------------------------------------------------------------------+\n",
      "| fact | acl2020 |  single classifier  |    combine    |        True        | concat_node2vec_mixed_unweighted_1024D_acl2020_fact_level3_sagesup |\n",
      "+------+---------+---------------------+---------------+--------------------+--------------------------------------------------------------------+\n"
     ]
    },
    {
     "name": "stderr",
     "output_type": "stream",
     "text": [
      "06-23 02:56:38 train        INFO     Start training... ['themaven.net']\n",
      "06-23 02:56:38 train        INFO     Fold: 0\n",
      "06-23 02:57:01 train        INFO     Fold: 1\n",
      "06-23 02:57:22 train        INFO     Fold: 2\n",
      "06-23 02:57:44 train        INFO     Fold: 3\n",
      "06-23 02:58:05 train        INFO     Fold: 4\n"
     ]
    },
    {
     "name": "stdout",
     "output_type": "stream",
     "text": [
      "+------+---------+---------------------+---------------+--------------------+--------------------------------------------------------------------+-------------------+-------------------+-------------------+--------------------+\n",
      "| task | dataset | classification_mode | type_training | normalize_features |                              features                              |      Macro-F1     |      Accuracy     |  Flip error-rate  |        MAE         |\n",
      "+------+---------+---------------------+---------------+--------------------+--------------------------------------------------------------------+-------------------+-------------------+-------------------+--------------------+\n",
      "| fact | acl2020 |  single classifier  |    combine    |        True        | concat_node2vec_mixed_unweighted_1024D_acl2020_fact_level3_sagesup | 64.23577627523885 | 69.15017462165308 | 3.958090803259604 | 0.3480791618160652 |\n",
      "+------+---------+---------------------+---------------+--------------------+--------------------------------------------------------------------+-------------------+-------------------+-------------------+--------------------+\n",
      "Evaluating feauture: concat_node2vec_mixed_unweighted_1024D_acl2020_bias_level3_gcn\n",
      "+------+---------+---------------------+---------------+--------------------+----------------------------------------------------------------+\n",
      "| task | dataset | classification_mode | type_training | normalize_features |                            features                            |\n",
      "+------+---------+---------------------+---------------+--------------------+----------------------------------------------------------------+\n",
      "| bias | acl2020 |  single classifier  |    combine    |       False        | concat_node2vec_mixed_unweighted_1024D_acl2020_bias_level3_gcn |\n",
      "+------+---------+---------------------+---------------+--------------------+----------------------------------------------------------------+\n"
     ]
    },
    {
     "name": "stderr",
     "output_type": "stream",
     "text": [
      "06-23 02:58:27 train        INFO     Start training... ['themaven.net']\n",
      "06-23 02:58:27 train        INFO     Fold: 0\n",
      "06-23 02:58:52 train        INFO     Fold: 1\n",
      "06-23 02:59:14 train        INFO     Fold: 2\n",
      "06-23 02:59:38 train        INFO     Fold: 3\n",
      "06-23 03:00:01 train        INFO     Fold: 4\n"
     ]
    },
    {
     "name": "stdout",
     "output_type": "stream",
     "text": [
      "+------+---------+---------------------+---------------+--------------------+----------------------------------------------------------------+-------------------+-------------------+-------------------+---------------------+\n",
      "| task | dataset | classification_mode | type_training | normalize_features |                            features                            |      Macro-F1     |      Accuracy     |  Flip error-rate  |         MAE         |\n",
      "+------+---------+---------------------+---------------+--------------------+----------------------------------------------------------------+-------------------+-------------------+-------------------+---------------------+\n",
      "| bias | acl2020 |  single classifier  |    combine    |       False        | concat_node2vec_mixed_unweighted_1024D_acl2020_bias_level3_gcn | 79.44257014923613 | 80.44237485448195 | 7.217694994179278 | 0.26775320139697323 |\n",
      "+------+---------+---------------------+---------------+--------------------+----------------------------------------------------------------+-------------------+-------------------+-------------------+---------------------+\n",
      "+------+---------+---------------------+---------------+--------------------+----------------------------------------------------------------+\n",
      "| task | dataset | classification_mode | type_training | normalize_features |                            features                            |\n",
      "+------+---------+---------------------+---------------+--------------------+----------------------------------------------------------------+\n",
      "| bias | acl2020 |  single classifier  |    combine    |        True        | concat_node2vec_mixed_unweighted_1024D_acl2020_bias_level3_gcn |\n",
      "+------+---------+---------------------+---------------+--------------------+----------------------------------------------------------------+\n"
     ]
    },
    {
     "name": "stderr",
     "output_type": "stream",
     "text": [
      "06-23 03:00:23 train        INFO     Start training... ['themaven.net']\n",
      "06-23 03:00:23 train        INFO     Fold: 0\n",
      "06-23 03:00:48 train        INFO     Fold: 1\n",
      "06-23 03:01:10 train        INFO     Fold: 2\n",
      "06-23 03:01:32 train        INFO     Fold: 3\n",
      "06-23 03:01:54 train        INFO     Fold: 4\n"
     ]
    },
    {
     "name": "stdout",
     "output_type": "stream",
     "text": [
      "+------+---------+---------------------+---------------+--------------------+----------------------------------------------------------------+-------------------+-------------------+-------------------+---------------------+\n",
      "| task | dataset | classification_mode | type_training | normalize_features |                            features                            |      Macro-F1     |      Accuracy     |  Flip error-rate  |         MAE         |\n",
      "+------+---------+---------------------+---------------+--------------------+----------------------------------------------------------------+-------------------+-------------------+-------------------+---------------------+\n",
      "| bias | acl2020 |  single classifier  |    combine    |        True        | concat_node2vec_mixed_unweighted_1024D_acl2020_bias_level3_gcn | 76.15418700361866 | 76.94994179278231 | 8.381839348079161 | 0.31431897555296856 |\n",
      "+------+---------+---------------------+---------------+--------------------+----------------------------------------------------------------+-------------------+-------------------+-------------------+---------------------+\n",
      "Evaluating feauture: concat_node2vec_mixed_unweighted_1024D_acl2020_bias_level3_sagesup\n",
      "+------+---------+---------------------+---------------+--------------------+--------------------------------------------------------------------+\n",
      "| task | dataset | classification_mode | type_training | normalize_features |                              features                              |\n",
      "+------+---------+---------------------+---------------+--------------------+--------------------------------------------------------------------+\n",
      "| bias | acl2020 |  single classifier  |    combine    |       False        | concat_node2vec_mixed_unweighted_1024D_acl2020_bias_level3_sagesup |\n",
      "+------+---------+---------------------+---------------+--------------------+--------------------------------------------------------------------+\n"
     ]
    },
    {
     "name": "stderr",
     "output_type": "stream",
     "text": [
      "06-23 03:02:17 train        INFO     Start training... ['themaven.net']\n",
      "06-23 03:02:17 train        INFO     Fold: 0\n",
      "06-23 03:02:42 train        INFO     Fold: 1\n",
      "06-23 03:03:03 train        INFO     Fold: 2\n",
      "06-23 03:03:25 train        INFO     Fold: 3\n",
      "06-23 03:03:48 train        INFO     Fold: 4\n"
     ]
    },
    {
     "name": "stdout",
     "output_type": "stream",
     "text": [
      "+------+---------+---------------------+---------------+--------------------+--------------------------------------------------------------------+-------------------+-------------------+--------------------+---------------------+\n",
      "| task | dataset | classification_mode | type_training | normalize_features |                              features                              |      Macro-F1     |      Accuracy     |  Flip error-rate   |         MAE         |\n",
      "+------+---------+---------------------+---------------+--------------------+--------------------------------------------------------------------+-------------------+-------------------+--------------------+---------------------+\n",
      "| bias | acl2020 |  single classifier  |    combine    |       False        | concat_node2vec_mixed_unweighted_1024D_acl2020_bias_level3_sagesup | 82.79498024571184 | 83.35273573923166 | 5.9371362048894065 | 0.22584400465657742 |\n",
      "+------+---------+---------------------+---------------+--------------------+--------------------------------------------------------------------+-------------------+-------------------+--------------------+---------------------+\n",
      "+------+---------+---------------------+---------------+--------------------+--------------------------------------------------------------------+\n",
      "| task | dataset | classification_mode | type_training | normalize_features |                              features                              |\n",
      "+------+---------+---------------------+---------------+--------------------+--------------------------------------------------------------------+\n",
      "| bias | acl2020 |  single classifier  |    combine    |        True        | concat_node2vec_mixed_unweighted_1024D_acl2020_bias_level3_sagesup |\n",
      "+------+---------+---------------------+---------------+--------------------+--------------------------------------------------------------------+\n"
     ]
    },
    {
     "name": "stderr",
     "output_type": "stream",
     "text": [
      "06-23 03:04:09 train        INFO     Start training... ['themaven.net']\n",
      "06-23 03:04:09 train        INFO     Fold: 0\n",
      "06-23 03:04:34 train        INFO     Fold: 1\n",
      "06-23 03:04:56 train        INFO     Fold: 2\n",
      "06-23 03:05:19 train        INFO     Fold: 3\n",
      "06-23 03:05:41 train        INFO     Fold: 4\n"
     ]
    },
    {
     "name": "stdout",
     "output_type": "stream",
     "text": [
      "+------+---------+---------------------+---------------+--------------------+--------------------------------------------------------------------+-------------------+-------------------+-------------------+---------------------+\n",
      "| task | dataset | classification_mode | type_training | normalize_features |                              features                              |      Macro-F1     |      Accuracy     |  Flip error-rate  |         MAE         |\n",
      "+------+---------+---------------------+---------------+--------------------+--------------------------------------------------------------------+-------------------+-------------------+-------------------+---------------------+\n",
      "| bias | acl2020 |  single classifier  |    combine    |        True        | concat_node2vec_mixed_unweighted_1024D_acl2020_bias_level3_sagesup | 81.92040770083474 | 82.30500582072176 | 7.334109429569266 | 0.25029103608847497 |\n",
      "+------+---------+---------------------+---------------+--------------------+--------------------------------------------------------------------+-------------------+-------------------+-------------------+---------------------+\n"
     ]
    }
   ],
   "source": [
    "features = [\n",
    "    'concat_node2vec_mixed_unweighted_512D_acl2020_fact_level3_gcn',\n",
    "    'concat_node2vec_mixed_unweighted_512D_acl2020_fact_level3_sagesup',\n",
    "    'concat_node2vec_mixed_unweighted_512D_acl2020_bias_level3_gcn',\n",
    "    'concat_node2vec_mixed_unweighted_512D_acl2020_bias_level3_sagesup',\n",
    "    'concat_node2vec_mixed_unweighted_1024D_acl2020_fact_level3_gcn',\n",
    "    'concat_node2vec_mixed_unweighted_1024D_acl2020_fact_level3_sagesup',\n",
    "    'concat_node2vec_mixed_unweighted_1024D_acl2020_bias_level3_gcn',\n",
    "    'concat_node2vec_mixed_unweighted_1024D_acl2020_bias_level3_sagesup',\n",
    "]\n",
    "\n",
    "for feature in features:\n",
    "    print('Evaluating feauture:', feature)\n",
    "    if 'fact' in feature:\n",
    "        run_experiment(features=feature, dataset='acl2020', task='fact', skip_sites='themaven.net')\n",
    "        run_experiment(features=feature, dataset='acl2020', task='fact', skip_sites='themaven.net', normalize_features=True)\n",
    "    else:\n",
    "        run_experiment(features=feature, dataset='acl2020', task='bias', skip_sites='themaven.net')\n",
    "        run_experiment(features=feature, dataset='acl2020', task='bias', skip_sites='themaven.net', normalize_features=True)"
   ]
  }
 ],
 "metadata": {
  "kernelspec": {
   "display_name": "Python 3.8.12 ('mediapeers')",
   "language": "python",
   "name": "python3"
  },
  "language_info": {
   "codemirror_mode": {
    "name": "ipython",
    "version": 3
   },
   "file_extension": ".py",
   "mimetype": "text/x-python",
   "name": "python",
   "nbconvert_exporter": "python",
   "pygments_lexer": "ipython3",
   "version": "3.8.12"
  },
  "orig_nbformat": 4,
  "vscode": {
   "interpreter": {
    "hash": "940b4c110c3cebababd37dc6cec19477a44e469d32c41a0eaa8eeb689ff0386b"
   }
  }
 },
 "nbformat": 4,
 "nbformat_minor": 2
}
