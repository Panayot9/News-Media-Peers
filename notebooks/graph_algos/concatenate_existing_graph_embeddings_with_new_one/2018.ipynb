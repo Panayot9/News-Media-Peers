{
 "cells": [
  {
   "cell_type": "code",
   "execution_count": 1,
   "metadata": {},
   "outputs": [],
   "source": [
    "import json\n",
    "import sys\n",
    "import os\n",
    "sys.path.insert(0, '../../../')\n",
    "\n",
    "from train import PROJECT_DIR, load_json, run_experiment, corpus_2018_corpus_correction"
   ]
  },
  {
   "cell_type": "code",
   "execution_count": 2,
   "metadata": {},
   "outputs": [],
   "source": [
    "existing_features = ['corpus_2018_mixed_unweighted_512D', 'corpus_2018_mixed_unweighted_1024D']\n",
    "\n",
    "new_features = [\n",
    "    'emnlp2018_fact_level3_gcn',\n",
    "    'emnlp2018_fact_level3_sagesup',\n",
    "    'emnlp2018_bias_level3_gcn',\n",
    "    'emnlp2018_bias_level3_sagesup',\n",
    "]"
   ]
  },
  {
   "cell_type": "code",
   "execution_count": 4,
   "metadata": {},
   "outputs": [
    {
     "name": "stdout",
     "output_type": "stream",
     "text": [
      "Successfully exported concat feature: /Users/panayot/Documents/News-Media-Peers/data/emnlp2018/features/concat_corpus_2018_mixed_unweighted_512D_emnlp2018_fact_level3_gcn.json\n",
      "Successfully exported concat feature: /Users/panayot/Documents/News-Media-Peers/data/emnlp2018/features/concat_corpus_2018_mixed_unweighted_512D_emnlp2018_fact_level3_sagesup.json\n",
      "Successfully exported concat feature: /Users/panayot/Documents/News-Media-Peers/data/emnlp2018/features/concat_corpus_2018_mixed_unweighted_512D_emnlp2018_bias_level3_gcn.json\n",
      "Successfully exported concat feature: /Users/panayot/Documents/News-Media-Peers/data/emnlp2018/features/concat_corpus_2018_mixed_unweighted_512D_emnlp2018_bias_level3_sagesup.json\n",
      "Successfully exported concat feature: /Users/panayot/Documents/News-Media-Peers/data/emnlp2018/features/concat_corpus_2018_mixed_unweighted_1024D_emnlp2018_fact_level3_gcn.json\n",
      "Successfully exported concat feature: /Users/panayot/Documents/News-Media-Peers/data/emnlp2018/features/concat_corpus_2018_mixed_unweighted_1024D_emnlp2018_fact_level3_sagesup.json\n",
      "Successfully exported concat feature: /Users/panayot/Documents/News-Media-Peers/data/emnlp2018/features/concat_corpus_2018_mixed_unweighted_1024D_emnlp2018_bias_level3_gcn.json\n",
      "Successfully exported concat feature: /Users/panayot/Documents/News-Media-Peers/data/emnlp2018/features/concat_corpus_2018_mixed_unweighted_1024D_emnlp2018_bias_level3_sagesup.json\n"
     ]
    }
   ],
   "source": [
    "for old_feature in existing_features:\n",
    "    old_graph_feature = load_json(os.path.join(PROJECT_DIR, 'data', 'emnlp2018', 'features', f'{old_feature}.json'))\n",
    "    for new_feature in new_features:\n",
    "        new_graph_feature = load_json(os.path.join(PROJECT_DIR, 'data', 'emnlp2018', 'features', f'{new_feature}.json'))\n",
    "\n",
    "        combined_feature = {corpus_2018_corpus_correction.get(site, site): old_graph_feature[site] + new_graph_feature[corpus_2018_corpus_correction.get(site, site)]\n",
    "                            for site in old_graph_feature if corpus_2018_corpus_correction.get(site, site) != 'themaven.net'}\n",
    "\n",
    "        concat_feature_path = os.path.join(PROJECT_DIR, 'data', 'emnlp2018', 'features', f'concat_{old_feature}_{new_feature}.json')\n",
    "        with open(concat_feature_path, 'w') as f:\n",
    "            json.dump(combined_feature, f)\n",
    "\n",
    "        print(f'Successfully exported concat feature: {concat_feature_path}')"
   ]
  },
  {
   "cell_type": "code",
   "execution_count": 5,
   "metadata": {},
   "outputs": [
    {
     "name": "stdout",
     "output_type": "stream",
     "text": [
      "Evaluating feauture: concat_corpus_2018_mixed_unweighted_512D_emnlp2018_fact_level3_gcn\n",
      "+------+-----------+---------------------+---------------+--------------------+--------------------------------------------------------------------+\n",
      "| task |  dataset  | classification_mode | type_training | normalize_features |                              features                              |\n",
      "+------+-----------+---------------------+---------------+--------------------+--------------------------------------------------------------------+\n",
      "| fact | emnlp2018 |  single classifier  |    combine    |       False        | concat_corpus_2018_mixed_unweighted_512D_emnlp2018_fact_level3_gcn |\n",
      "+------+-----------+---------------------+---------------+--------------------+--------------------------------------------------------------------+\n"
     ]
    },
    {
     "name": "stderr",
     "output_type": "stream",
     "text": [
      "06-23 03:26:58 train        INFO     Start training... ['themaven.net']\n",
      "06-23 03:26:58 train        INFO     Fold: 0\n",
      "06-23 03:27:20 train        INFO     Fold: 1\n",
      "06-23 03:27:36 train        INFO     Fold: 2\n",
      "06-23 03:27:52 train        INFO     Fold: 3\n",
      "06-23 03:28:07 train        INFO     Fold: 4\n"
     ]
    },
    {
     "name": "stdout",
     "output_type": "stream",
     "text": [
      "+------+-----------+---------------------+---------------+--------------------+--------------------------------------------------------------------+-------------------+-------------------+-------------------+--------------------+\n",
      "| task |  dataset  | classification_mode | type_training | normalize_features |                              features                              |      Macro-F1     |      Accuracy     |  Flip error-rate  |        MAE         |\n",
      "+------+-----------+---------------------+---------------+--------------------+--------------------------------------------------------------------+-------------------+-------------------+-------------------+--------------------+\n",
      "| fact | emnlp2018 |  single classifier  |    combine    |       False        | concat_corpus_2018_mixed_unweighted_512D_emnlp2018_fact_level3_gcn | 68.03851540616247 | 72.83018867924528 | 4.339622641509433 | 0.3150943396226415 |\n",
      "+------+-----------+---------------------+---------------+--------------------+--------------------------------------------------------------------+-------------------+-------------------+-------------------+--------------------+\n",
      "+------+-----------+---------------------+---------------+--------------------+--------------------------------------------------------------------+\n",
      "| task |  dataset  | classification_mode | type_training | normalize_features |                              features                              |\n",
      "+------+-----------+---------------------+---------------+--------------------+--------------------------------------------------------------------+\n",
      "| fact | emnlp2018 |  single classifier  |    combine    |        True        | concat_corpus_2018_mixed_unweighted_512D_emnlp2018_fact_level3_gcn |\n",
      "+------+-----------+---------------------+---------------+--------------------+--------------------------------------------------------------------+\n"
     ]
    },
    {
     "name": "stderr",
     "output_type": "stream",
     "text": [
      "06-23 03:28:23 train        INFO     Start training... ['themaven.net']\n",
      "06-23 03:28:23 train        INFO     Fold: 0\n",
      "06-23 03:28:40 train        INFO     Fold: 1\n",
      "06-23 03:28:56 train        INFO     Fold: 2\n",
      "06-23 03:29:17 train        INFO     Fold: 3\n",
      "06-23 03:29:40 train        INFO     Fold: 4\n"
     ]
    },
    {
     "name": "stdout",
     "output_type": "stream",
     "text": [
      "+------+-----------+---------------------+---------------+--------------------+--------------------------------------------------------------------+------------------+-------------------+-------------------+--------------------+\n",
      "| task |  dataset  | classification_mode | type_training | normalize_features |                              features                              |     Macro-F1     |      Accuracy     |  Flip error-rate  |        MAE         |\n",
      "+------+-----------+---------------------+---------------+--------------------+--------------------------------------------------------------------+------------------+-------------------+-------------------+--------------------+\n",
      "| fact | emnlp2018 |  single classifier  |    combine    |        True        | concat_corpus_2018_mixed_unweighted_512D_emnlp2018_fact_level3_gcn | 69.2538702162022 | 73.58490566037736 | 4.811320754716982 | 0.3122641509433962 |\n",
      "+------+-----------+---------------------+---------------+--------------------+--------------------------------------------------------------------+------------------+-------------------+-------------------+--------------------+\n",
      "Evaluating feauture: concat_corpus_2018_mixed_unweighted_512D_emnlp2018_fact_level3_sagesup\n",
      "+------+-----------+---------------------+---------------+--------------------+------------------------------------------------------------------------+\n",
      "| task |  dataset  | classification_mode | type_training | normalize_features |                                features                                |\n",
      "+------+-----------+---------------------+---------------+--------------------+------------------------------------------------------------------------+\n",
      "| fact | emnlp2018 |  single classifier  |    combine    |       False        | concat_corpus_2018_mixed_unweighted_512D_emnlp2018_fact_level3_sagesup |\n",
      "+------+-----------+---------------------+---------------+--------------------+------------------------------------------------------------------------+\n"
     ]
    },
    {
     "name": "stderr",
     "output_type": "stream",
     "text": [
      "06-23 03:29:57 train        INFO     Start training... ['themaven.net']\n",
      "06-23 03:29:57 train        INFO     Fold: 0\n",
      "06-23 03:30:15 train        INFO     Fold: 1\n",
      "06-23 03:30:30 train        INFO     Fold: 2\n",
      "06-23 03:30:45 train        INFO     Fold: 3\n",
      "06-23 03:31:00 train        INFO     Fold: 4\n"
     ]
    },
    {
     "name": "stdout",
     "output_type": "stream",
     "text": [
      "+------+-----------+---------------------+---------------+--------------------+------------------------------------------------------------------------+------------------+-------------------+--------------------+---------------------+\n",
      "| task |  dataset  | classification_mode | type_training | normalize_features |                                features                                |     Macro-F1     |      Accuracy     |  Flip error-rate   |         MAE         |\n",
      "+------+-----------+---------------------+---------------+--------------------+------------------------------------------------------------------------+------------------+-------------------+--------------------+---------------------+\n",
      "| fact | emnlp2018 |  single classifier  |    combine    |       False        | concat_corpus_2018_mixed_unweighted_512D_emnlp2018_fact_level3_sagesup | 78.6523288785223 | 81.32075471698114 | 3.5849056603773586 | 0.22264150943396227 |\n",
      "+------+-----------+---------------------+---------------+--------------------+------------------------------------------------------------------------+------------------+-------------------+--------------------+---------------------+\n",
      "+------+-----------+---------------------+---------------+--------------------+------------------------------------------------------------------------+\n",
      "| task |  dataset  | classification_mode | type_training | normalize_features |                                features                                |\n",
      "+------+-----------+---------------------+---------------+--------------------+------------------------------------------------------------------------+\n",
      "| fact | emnlp2018 |  single classifier  |    combine    |        True        | concat_corpus_2018_mixed_unweighted_512D_emnlp2018_fact_level3_sagesup |\n",
      "+------+-----------+---------------------+---------------+--------------------+------------------------------------------------------------------------+\n"
     ]
    },
    {
     "name": "stderr",
     "output_type": "stream",
     "text": [
      "06-23 03:31:15 train        INFO     Start training... ['themaven.net']\n",
      "06-23 03:31:15 train        INFO     Fold: 0\n",
      "06-23 03:31:34 train        INFO     Fold: 1\n",
      "06-23 03:31:50 train        INFO     Fold: 2\n",
      "06-23 03:32:05 train        INFO     Fold: 3\n",
      "06-23 03:32:19 train        INFO     Fold: 4\n"
     ]
    },
    {
     "name": "stdout",
     "output_type": "stream",
     "text": [
      "+------+-----------+---------------------+---------------+--------------------+------------------------------------------------------------------------+-------------------+------------------+--------------------+---------------------+\n",
      "| task |  dataset  | classification_mode | type_training | normalize_features |                                features                                |      Macro-F1     |     Accuracy     |  Flip error-rate   |         MAE         |\n",
      "+------+-----------+---------------------+---------------+--------------------+------------------------------------------------------------------------+-------------------+------------------+--------------------+---------------------+\n",
      "| fact | emnlp2018 |  single classifier  |    combine    |        True        | concat_corpus_2018_mixed_unweighted_512D_emnlp2018_fact_level3_sagesup | 79.41516159126999 | 82.0754716981132 | 3.1132075471698113 | 0.21037735849056605 |\n",
      "+------+-----------+---------------------+---------------+--------------------+------------------------------------------------------------------------+-------------------+------------------+--------------------+---------------------+\n",
      "Evaluating feauture: concat_corpus_2018_mixed_unweighted_512D_emnlp2018_bias_level3_gcn\n",
      "+------+-----------+---------------------+---------------+--------------------+--------------------------------------------------------------------+\n",
      "| task |  dataset  | classification_mode | type_training | normalize_features |                              features                              |\n",
      "+------+-----------+---------------------+---------------+--------------------+--------------------------------------------------------------------+\n",
      "| bias | emnlp2018 |  single classifier  |    combine    |       False        | concat_corpus_2018_mixed_unweighted_512D_emnlp2018_bias_level3_gcn |\n",
      "+------+-----------+---------------------+---------------+--------------------+--------------------------------------------------------------------+\n"
     ]
    },
    {
     "name": "stderr",
     "output_type": "stream",
     "text": [
      "06-23 03:32:34 train        INFO     Start training... ['themaven.net']\n",
      "06-23 03:32:34 train        INFO     Fold: 0\n",
      "06-23 03:32:52 train        INFO     Fold: 1\n",
      "06-23 03:33:07 train        INFO     Fold: 2\n",
      "06-23 03:33:22 train        INFO     Fold: 3\n",
      "06-23 03:33:37 train        INFO     Fold: 4\n"
     ]
    },
    {
     "name": "stdout",
     "output_type": "stream",
     "text": [
      "+------+-----------+---------------------+---------------+--------------------+--------------------------------------------------------------------+-------------------+-------------------+-------------------+--------------------+\n",
      "| task |  dataset  | classification_mode | type_training | normalize_features |                              features                              |      Macro-F1     |      Accuracy     |  Flip error-rate  |        MAE         |\n",
      "+------+-----------+---------------------+---------------+--------------------+--------------------------------------------------------------------+-------------------+-------------------+-------------------+--------------------+\n",
      "| bias | emnlp2018 |  single classifier  |    combine    |       False        | concat_corpus_2018_mixed_unweighted_512D_emnlp2018_bias_level3_gcn | 65.60352122390118 | 71.50943396226414 | 4.433962264150943 | 0.3292452830188679 |\n",
      "+------+-----------+---------------------+---------------+--------------------+--------------------------------------------------------------------+-------------------+-------------------+-------------------+--------------------+\n",
      "+------+-----------+---------------------+---------------+--------------------+--------------------------------------------------------------------+\n",
      "| task |  dataset  | classification_mode | type_training | normalize_features |                              features                              |\n",
      "+------+-----------+---------------------+---------------+--------------------+--------------------------------------------------------------------+\n",
      "| bias | emnlp2018 |  single classifier  |    combine    |        True        | concat_corpus_2018_mixed_unweighted_512D_emnlp2018_bias_level3_gcn |\n",
      "+------+-----------+---------------------+---------------+--------------------+--------------------------------------------------------------------+\n"
     ]
    },
    {
     "name": "stderr",
     "output_type": "stream",
     "text": [
      "06-23 03:33:52 train        INFO     Start training... ['themaven.net']\n",
      "06-23 03:33:52 train        INFO     Fold: 0\n",
      "06-23 03:34:10 train        INFO     Fold: 1\n",
      "06-23 03:34:25 train        INFO     Fold: 2\n",
      "06-23 03:34:40 train        INFO     Fold: 3\n",
      "06-23 03:34:55 train        INFO     Fold: 4\n"
     ]
    },
    {
     "name": "stdout",
     "output_type": "stream",
     "text": [
      "+------+-----------+---------------------+---------------+--------------------+--------------------------------------------------------------------+-------------------+-------------------+-------------------+---------------------+\n",
      "| task |  dataset  | classification_mode | type_training | normalize_features |                              features                              |      Macro-F1     |      Accuracy     |  Flip error-rate  |         MAE         |\n",
      "+------+-----------+---------------------+---------------+--------------------+--------------------------------------------------------------------+-------------------+-------------------+-------------------+---------------------+\n",
      "| bias | emnlp2018 |  single classifier  |    combine    |        True        | concat_corpus_2018_mixed_unweighted_512D_emnlp2018_bias_level3_gcn | 66.22069818659097 | 72.16981132075472 | 4.716981132075472 | 0.32547169811320753 |\n",
      "+------+-----------+---------------------+---------------+--------------------+--------------------------------------------------------------------+-------------------+-------------------+-------------------+---------------------+\n",
      "Evaluating feauture: concat_corpus_2018_mixed_unweighted_512D_emnlp2018_bias_level3_sagesup\n",
      "+------+-----------+---------------------+---------------+--------------------+------------------------------------------------------------------------+\n",
      "| task |  dataset  | classification_mode | type_training | normalize_features |                                features                                |\n",
      "+------+-----------+---------------------+---------------+--------------------+------------------------------------------------------------------------+\n",
      "| bias | emnlp2018 |  single classifier  |    combine    |       False        | concat_corpus_2018_mixed_unweighted_512D_emnlp2018_bias_level3_sagesup |\n",
      "+------+-----------+---------------------+---------------+--------------------+------------------------------------------------------------------------+\n"
     ]
    },
    {
     "name": "stderr",
     "output_type": "stream",
     "text": [
      "06-23 03:35:09 train        INFO     Start training... ['themaven.net']\n",
      "06-23 03:35:09 train        INFO     Fold: 0\n",
      "06-23 03:35:27 train        INFO     Fold: 1\n",
      "06-23 03:35:42 train        INFO     Fold: 2\n",
      "06-23 03:35:56 train        INFO     Fold: 3\n",
      "06-23 03:36:12 train        INFO     Fold: 4\n"
     ]
    },
    {
     "name": "stdout",
     "output_type": "stream",
     "text": [
      "+------+-----------+---------------------+---------------+--------------------+------------------------------------------------------------------------+-------------------+-------------------+-------------------+---------------------+\n",
      "| task |  dataset  | classification_mode | type_training | normalize_features |                                features                                |      Macro-F1     |      Accuracy     |  Flip error-rate  |         MAE         |\n",
      "+------+-----------+---------------------+---------------+--------------------+------------------------------------------------------------------------+-------------------+-------------------+-------------------+---------------------+\n",
      "| bias | emnlp2018 |  single classifier  |    combine    |       False        | concat_corpus_2018_mixed_unweighted_512D_emnlp2018_bias_level3_sagesup | 67.09350167285794 | 73.30188679245283 | 5.188679245283019 | 0.31886792452830187 |\n",
      "+------+-----------+---------------------+---------------+--------------------+------------------------------------------------------------------------+-------------------+-------------------+-------------------+---------------------+\n",
      "+------+-----------+---------------------+---------------+--------------------+------------------------------------------------------------------------+\n",
      "| task |  dataset  | classification_mode | type_training | normalize_features |                                features                                |\n",
      "+------+-----------+---------------------+---------------+--------------------+------------------------------------------------------------------------+\n",
      "| bias | emnlp2018 |  single classifier  |    combine    |        True        | concat_corpus_2018_mixed_unweighted_512D_emnlp2018_bias_level3_sagesup |\n",
      "+------+-----------+---------------------+---------------+--------------------+------------------------------------------------------------------------+\n"
     ]
    },
    {
     "name": "stderr",
     "output_type": "stream",
     "text": [
      "06-23 03:36:27 train        INFO     Start training... ['themaven.net']\n",
      "06-23 03:36:27 train        INFO     Fold: 0\n",
      "06-23 03:36:44 train        INFO     Fold: 1\n",
      "06-23 03:36:59 train        INFO     Fold: 2\n",
      "06-23 03:37:14 train        INFO     Fold: 3\n",
      "06-23 03:37:29 train        INFO     Fold: 4\n"
     ]
    },
    {
     "name": "stdout",
     "output_type": "stream",
     "text": [
      "+------+-----------+---------------------+---------------+--------------------+------------------------------------------------------------------------+-------------------+-------------------+-------------------+--------------------+\n",
      "| task |  dataset  | classification_mode | type_training | normalize_features |                                features                                |      Macro-F1     |      Accuracy     |  Flip error-rate  |        MAE         |\n",
      "+------+-----------+---------------------+---------------+--------------------+------------------------------------------------------------------------+-------------------+-------------------+-------------------+--------------------+\n",
      "| bias | emnlp2018 |  single classifier  |    combine    |        True        | concat_corpus_2018_mixed_unweighted_512D_emnlp2018_bias_level3_sagesup | 68.13679166620345 | 74.62264150943396 | 4.528301886792453 | 0.2990566037735849 |\n",
      "+------+-----------+---------------------+---------------+--------------------+------------------------------------------------------------------------+-------------------+-------------------+-------------------+--------------------+\n",
      "Evaluating feauture: concat_corpus_2018_mixed_unweighted_1024D_emnlp2018_fact_level3_gcn\n",
      "+------+-----------+---------------------+---------------+--------------------+---------------------------------------------------------------------+\n",
      "| task |  dataset  | classification_mode | type_training | normalize_features |                               features                              |\n",
      "+------+-----------+---------------------+---------------+--------------------+---------------------------------------------------------------------+\n",
      "| fact | emnlp2018 |  single classifier  |    combine    |       False        | concat_corpus_2018_mixed_unweighted_1024D_emnlp2018_fact_level3_gcn |\n",
      "+------+-----------+---------------------+---------------+--------------------+---------------------------------------------------------------------+\n"
     ]
    },
    {
     "name": "stderr",
     "output_type": "stream",
     "text": [
      "06-23 03:37:44 train        INFO     Start training... ['themaven.net']\n",
      "06-23 03:37:44 train        INFO     Fold: 0\n",
      "06-23 03:38:22 train        INFO     Fold: 1\n",
      "06-23 03:38:59 train        INFO     Fold: 2\n",
      "06-23 03:39:36 train        INFO     Fold: 3\n",
      "06-23 03:40:13 train        INFO     Fold: 4\n"
     ]
    },
    {
     "name": "stdout",
     "output_type": "stream",
     "text": [
      "+------+-----------+---------------------+---------------+--------------------+---------------------------------------------------------------------+-------------------+-------------------+------------------+---------------------+\n",
      "| task |  dataset  | classification_mode | type_training | normalize_features |                               features                              |      Macro-F1     |      Accuracy     | Flip error-rate  |         MAE         |\n",
      "+------+-----------+---------------------+---------------+--------------------+---------------------------------------------------------------------+-------------------+-------------------+------------------+---------------------+\n",
      "| fact | emnlp2018 |  single classifier  |    combine    |       False        | concat_corpus_2018_mixed_unweighted_1024D_emnlp2018_fact_level3_gcn | 66.48416834404095 | 71.60377358490567 | 5.09433962264151 | 0.33490566037735847 |\n",
      "+------+-----------+---------------------+---------------+--------------------+---------------------------------------------------------------------+-------------------+-------------------+------------------+---------------------+\n",
      "+------+-----------+---------------------+---------------+--------------------+---------------------------------------------------------------------+\n",
      "| task |  dataset  | classification_mode | type_training | normalize_features |                               features                              |\n",
      "+------+-----------+---------------------+---------------+--------------------+---------------------------------------------------------------------+\n",
      "| fact | emnlp2018 |  single classifier  |    combine    |        True        | concat_corpus_2018_mixed_unweighted_1024D_emnlp2018_fact_level3_gcn |\n",
      "+------+-----------+---------------------+---------------+--------------------+---------------------------------------------------------------------+\n"
     ]
    },
    {
     "name": "stderr",
     "output_type": "stream",
     "text": [
      "06-23 03:40:50 train        INFO     Start training... ['themaven.net']\n",
      "06-23 03:40:50 train        INFO     Fold: 0\n",
      "06-23 03:41:33 train        INFO     Fold: 1\n",
      "06-23 03:42:15 train        INFO     Fold: 2\n",
      "06-23 03:42:58 train        INFO     Fold: 3\n",
      "06-23 03:43:41 train        INFO     Fold: 4\n"
     ]
    },
    {
     "name": "stdout",
     "output_type": "stream",
     "text": [
      "+------+-----------+---------------------+---------------+--------------------+---------------------------------------------------------------------+-------------------+-------------------+-------------------+-------------------+\n",
      "| task |  dataset  | classification_mode | type_training | normalize_features |                               features                              |      Macro-F1     |      Accuracy     |  Flip error-rate  |        MAE        |\n",
      "+------+-----------+---------------------+---------------+--------------------+---------------------------------------------------------------------+-------------------+-------------------+-------------------+-------------------+\n",
      "| fact | emnlp2018 |  single classifier  |    combine    |        True        | concat_corpus_2018_mixed_unweighted_1024D_emnlp2018_fact_level3_gcn | 67.44805264164346 | 72.45283018867924 | 5.471698113207547 | 0.330188679245283 |\n",
      "+------+-----------+---------------------+---------------+--------------------+---------------------------------------------------------------------+-------------------+-------------------+-------------------+-------------------+\n",
      "Evaluating feauture: concat_corpus_2018_mixed_unweighted_1024D_emnlp2018_fact_level3_sagesup\n",
      "+------+-----------+---------------------+---------------+--------------------+-------------------------------------------------------------------------+\n",
      "| task |  dataset  | classification_mode | type_training | normalize_features |                                 features                                |\n",
      "+------+-----------+---------------------+---------------+--------------------+-------------------------------------------------------------------------+\n",
      "| fact | emnlp2018 |  single classifier  |    combine    |       False        | concat_corpus_2018_mixed_unweighted_1024D_emnlp2018_fact_level3_sagesup |\n",
      "+------+-----------+---------------------+---------------+--------------------+-------------------------------------------------------------------------+\n"
     ]
    },
    {
     "name": "stderr",
     "output_type": "stream",
     "text": [
      "06-23 03:44:21 train        INFO     Start training... ['themaven.net']\n",
      "06-23 03:44:21 train        INFO     Fold: 0\n",
      "06-23 03:45:02 train        INFO     Fold: 1\n",
      "06-23 03:45:43 train        INFO     Fold: 2\n",
      "06-23 03:46:24 train        INFO     Fold: 3\n",
      "06-23 03:47:03 train        INFO     Fold: 4\n"
     ]
    },
    {
     "name": "stdout",
     "output_type": "stream",
     "text": [
      "+------+-----------+---------------------+---------------+--------------------+-------------------------------------------------------------------------+------------------+-------------------+-------------------+---------------------+\n",
      "| task |  dataset  | classification_mode | type_training | normalize_features |                                 features                                |     Macro-F1     |      Accuracy     |  Flip error-rate  |         MAE         |\n",
      "+------+-----------+---------------------+---------------+--------------------+-------------------------------------------------------------------------+------------------+-------------------+-------------------+---------------------+\n",
      "| fact | emnlp2018 |  single classifier  |    combine    |       False        | concat_corpus_2018_mixed_unweighted_1024D_emnlp2018_fact_level3_sagesup | 77.9712694123171 | 80.56603773584906 | 3.490566037735849 | 0.22924528301886793 |\n",
      "+------+-----------+---------------------+---------------+--------------------+-------------------------------------------------------------------------+------------------+-------------------+-------------------+---------------------+\n",
      "+------+-----------+---------------------+---------------+--------------------+-------------------------------------------------------------------------+\n",
      "| task |  dataset  | classification_mode | type_training | normalize_features |                                 features                                |\n",
      "+------+-----------+---------------------+---------------+--------------------+-------------------------------------------------------------------------+\n",
      "| fact | emnlp2018 |  single classifier  |    combine    |        True        | concat_corpus_2018_mixed_unweighted_1024D_emnlp2018_fact_level3_sagesup |\n",
      "+------+-----------+---------------------+---------------+--------------------+-------------------------------------------------------------------------+\n"
     ]
    },
    {
     "name": "stderr",
     "output_type": "stream",
     "text": [
      "06-23 03:47:41 train        INFO     Start training... ['themaven.net']\n",
      "06-23 03:47:41 train        INFO     Fold: 0\n",
      "06-23 03:48:24 train        INFO     Fold: 1\n",
      "06-23 03:49:02 train        INFO     Fold: 2\n",
      "06-23 03:49:40 train        INFO     Fold: 3\n",
      "06-23 03:50:18 train        INFO     Fold: 4\n"
     ]
    },
    {
     "name": "stdout",
     "output_type": "stream",
     "text": [
      "+------+-----------+---------------------+---------------+--------------------+-------------------------------------------------------------------------+-------------------+-------------------+-------------------+---------------------+\n",
      "| task |  dataset  | classification_mode | type_training | normalize_features |                                 features                                |      Macro-F1     |      Accuracy     |  Flip error-rate  |         MAE         |\n",
      "+------+-----------+---------------------+---------------+--------------------+-------------------------------------------------------------------------+-------------------+-------------------+-------------------+---------------------+\n",
      "| fact | emnlp2018 |  single classifier  |    combine    |        True        | concat_corpus_2018_mixed_unweighted_1024D_emnlp2018_fact_level3_sagesup | 75.72393115320048 | 78.67924528301887 | 4.339622641509433 | 0.25660377358490566 |\n",
      "+------+-----------+---------------------+---------------+--------------------+-------------------------------------------------------------------------+-------------------+-------------------+-------------------+---------------------+\n",
      "Evaluating feauture: concat_corpus_2018_mixed_unweighted_1024D_emnlp2018_bias_level3_gcn\n",
      "+------+-----------+---------------------+---------------+--------------------+---------------------------------------------------------------------+\n",
      "| task |  dataset  | classification_mode | type_training | normalize_features |                               features                              |\n",
      "+------+-----------+---------------------+---------------+--------------------+---------------------------------------------------------------------+\n",
      "| bias | emnlp2018 |  single classifier  |    combine    |       False        | concat_corpus_2018_mixed_unweighted_1024D_emnlp2018_bias_level3_gcn |\n",
      "+------+-----------+---------------------+---------------+--------------------+---------------------------------------------------------------------+\n"
     ]
    },
    {
     "name": "stderr",
     "output_type": "stream",
     "text": [
      "06-23 03:50:56 train        INFO     Start training... ['themaven.net']\n",
      "06-23 03:50:56 train        INFO     Fold: 0\n",
      "06-23 03:51:37 train        INFO     Fold: 1\n",
      "06-23 03:52:16 train        INFO     Fold: 2\n",
      "06-23 03:52:54 train        INFO     Fold: 3\n",
      "06-23 03:53:33 train        INFO     Fold: 4\n"
     ]
    },
    {
     "name": "stdout",
     "output_type": "stream",
     "text": [
      "+------+-----------+---------------------+---------------+--------------------+---------------------------------------------------------------------+-------------------+-------------------+--------------------+--------------------+\n",
      "| task |  dataset  | classification_mode | type_training | normalize_features |                               features                              |      Macro-F1     |      Accuracy     |  Flip error-rate   |        MAE         |\n",
      "+------+-----------+---------------------+---------------+--------------------+---------------------------------------------------------------------+-------------------+-------------------+--------------------+--------------------+\n",
      "| bias | emnlp2018 |  single classifier  |    combine    |       False        | concat_corpus_2018_mixed_unweighted_1024D_emnlp2018_bias_level3_gcn | 65.57928035733576 | 71.98113207547169 | 3.7735849056603774 | 0.3179245283018868 |\n",
      "+------+-----------+---------------------+---------------+--------------------+---------------------------------------------------------------------+-------------------+-------------------+--------------------+--------------------+\n",
      "+------+-----------+---------------------+---------------+--------------------+---------------------------------------------------------------------+\n",
      "| task |  dataset  | classification_mode | type_training | normalize_features |                               features                              |\n",
      "+------+-----------+---------------------+---------------+--------------------+---------------------------------------------------------------------+\n",
      "| bias | emnlp2018 |  single classifier  |    combine    |        True        | concat_corpus_2018_mixed_unweighted_1024D_emnlp2018_bias_level3_gcn |\n",
      "+------+-----------+---------------------+---------------+--------------------+---------------------------------------------------------------------+\n"
     ]
    },
    {
     "name": "stderr",
     "output_type": "stream",
     "text": [
      "06-23 03:54:12 train        INFO     Start training... ['themaven.net']\n",
      "06-23 03:54:12 train        INFO     Fold: 0\n",
      "06-23 03:54:53 train        INFO     Fold: 1\n",
      "06-23 03:55:34 train        INFO     Fold: 2\n",
      "06-23 03:56:14 train        INFO     Fold: 3\n",
      "06-23 03:56:56 train        INFO     Fold: 4\n"
     ]
    },
    {
     "name": "stdout",
     "output_type": "stream",
     "text": [
      "+------+-----------+---------------------+---------------+--------------------+---------------------------------------------------------------------+-------------------+-------------------+--------------------+--------------------+\n",
      "| task |  dataset  | classification_mode | type_training | normalize_features |                               features                              |      Macro-F1     |      Accuracy     |  Flip error-rate   |        MAE         |\n",
      "+------+-----------+---------------------+---------------+--------------------+---------------------------------------------------------------------+-------------------+-------------------+--------------------+--------------------+\n",
      "| bias | emnlp2018 |  single classifier  |    combine    |        True        | concat_corpus_2018_mixed_unweighted_1024D_emnlp2018_bias_level3_gcn | 65.68758697439243 | 72.16981132075472 | 3.7735849056603774 | 0.3160377358490566 |\n",
      "+------+-----------+---------------------+---------------+--------------------+---------------------------------------------------------------------+-------------------+-------------------+--------------------+--------------------+\n",
      "Evaluating feauture: concat_corpus_2018_mixed_unweighted_1024D_emnlp2018_bias_level3_sagesup\n",
      "+------+-----------+---------------------+---------------+--------------------+-------------------------------------------------------------------------+\n",
      "| task |  dataset  | classification_mode | type_training | normalize_features |                                 features                                |\n",
      "+------+-----------+---------------------+---------------+--------------------+-------------------------------------------------------------------------+\n",
      "| bias | emnlp2018 |  single classifier  |    combine    |       False        | concat_corpus_2018_mixed_unweighted_1024D_emnlp2018_bias_level3_sagesup |\n",
      "+------+-----------+---------------------+---------------+--------------------+-------------------------------------------------------------------------+\n"
     ]
    },
    {
     "name": "stderr",
     "output_type": "stream",
     "text": [
      "06-23 03:57:37 train        INFO     Start training... ['themaven.net']\n",
      "06-23 03:57:37 train        INFO     Fold: 0\n",
      "06-23 03:58:17 train        INFO     Fold: 1\n",
      "06-23 03:58:56 train        INFO     Fold: 2\n",
      "06-23 03:59:33 train        INFO     Fold: 3\n",
      "06-23 04:00:12 train        INFO     Fold: 4\n"
     ]
    },
    {
     "name": "stdout",
     "output_type": "stream",
     "text": [
      "+------+-----------+---------------------+---------------+--------------------+-------------------------------------------------------------------------+-------------------+-------------------+-------------------+--------------------+\n",
      "| task |  dataset  | classification_mode | type_training | normalize_features |                                 features                                |      Macro-F1     |      Accuracy     |  Flip error-rate  |        MAE         |\n",
      "+------+-----------+---------------------+---------------+--------------------+-------------------------------------------------------------------------+-------------------+-------------------+-------------------+--------------------+\n",
      "| bias | emnlp2018 |  single classifier  |    combine    |       False        | concat_corpus_2018_mixed_unweighted_1024D_emnlp2018_bias_level3_sagesup | 67.46754851397041 | 73.49056603773585 | 4.622641509433962 | 0.3113207547169811 |\n",
      "+------+-----------+---------------------+---------------+--------------------+-------------------------------------------------------------------------+-------------------+-------------------+-------------------+--------------------+\n",
      "+------+-----------+---------------------+---------------+--------------------+-------------------------------------------------------------------------+\n",
      "| task |  dataset  | classification_mode | type_training | normalize_features |                                 features                                |\n",
      "+------+-----------+---------------------+---------------+--------------------+-------------------------------------------------------------------------+\n",
      "| bias | emnlp2018 |  single classifier  |    combine    |        True        | concat_corpus_2018_mixed_unweighted_1024D_emnlp2018_bias_level3_sagesup |\n",
      "+------+-----------+---------------------+---------------+--------------------+-------------------------------------------------------------------------+\n"
     ]
    },
    {
     "name": "stderr",
     "output_type": "stream",
     "text": [
      "06-23 04:00:52 train        INFO     Start training... ['themaven.net']\n",
      "06-23 04:00:52 train        INFO     Fold: 0\n",
      "06-23 04:01:33 train        INFO     Fold: 1\n",
      "06-23 04:02:12 train        INFO     Fold: 2\n",
      "06-23 04:02:53 train        INFO     Fold: 3\n",
      "06-23 04:03:34 train        INFO     Fold: 4\n"
     ]
    },
    {
     "name": "stdout",
     "output_type": "stream",
     "text": [
      "+------+-----------+---------------------+---------------+--------------------+-------------------------------------------------------------------------+-------------------+-------------------+--------------------+---------------------+\n",
      "| task |  dataset  | classification_mode | type_training | normalize_features |                                 features                                |      Macro-F1     |      Accuracy     |  Flip error-rate   |         MAE         |\n",
      "+------+-----------+---------------------+---------------+--------------------+-------------------------------------------------------------------------+-------------------+-------------------+--------------------+---------------------+\n",
      "| bias | emnlp2018 |  single classifier  |    combine    |        True        | concat_corpus_2018_mixed_unweighted_1024D_emnlp2018_bias_level3_sagesup | 66.61285807341774 | 73.49056603773585 | 3.9622641509433962 | 0.30471698113207546 |\n",
      "+------+-----------+---------------------+---------------+--------------------+-------------------------------------------------------------------------+-------------------+-------------------+--------------------+---------------------+\n"
     ]
    }
   ],
   "source": [
    "features = [\n",
    "    'concat_corpus_2018_mixed_unweighted_512D_emnlp2018_fact_level3_gcn',\n",
    "    'concat_corpus_2018_mixed_unweighted_512D_emnlp2018_fact_level3_sagesup',\n",
    "    'concat_corpus_2018_mixed_unweighted_512D_emnlp2018_bias_level3_gcn',\n",
    "    'concat_corpus_2018_mixed_unweighted_512D_emnlp2018_bias_level3_sagesup',\n",
    "    'concat_corpus_2018_mixed_unweighted_1024D_emnlp2018_fact_level3_gcn',\n",
    "    'concat_corpus_2018_mixed_unweighted_1024D_emnlp2018_fact_level3_sagesup',\n",
    "    'concat_corpus_2018_mixed_unweighted_1024D_emnlp2018_bias_level3_gcn',\n",
    "    'concat_corpus_2018_mixed_unweighted_1024D_emnlp2018_bias_level3_sagesup',\n",
    "]\n",
    "\n",
    "for feature in features:\n",
    "    print('Evaluating feauture:', feature)\n",
    "    if 'fact' in feature:\n",
    "        run_experiment(features=feature, dataset='emnlp2018', task='fact', skip_sites='themaven.net')\n",
    "        run_experiment(features=feature, dataset='emnlp2018', task='fact', skip_sites='themaven.net', normalize_features=True)\n",
    "    else:\n",
    "        run_experiment(features=feature, dataset='emnlp2018', task='bias', skip_sites='themaven.net')\n",
    "        run_experiment(features=feature, dataset='emnlp2018', task='bias', skip_sites='themaven.net', normalize_features=True)"
   ]
  }
 ],
 "metadata": {
  "kernelspec": {
   "display_name": "Python 3.8.12 ('mediapeers')",
   "language": "python",
   "name": "python3"
  },
  "language_info": {
   "codemirror_mode": {
    "name": "ipython",
    "version": 3
   },
   "file_extension": ".py",
   "mimetype": "text/x-python",
   "name": "python",
   "nbconvert_exporter": "python",
   "pygments_lexer": "ipython3",
   "version": "3.8.12"
  },
  "orig_nbformat": 4,
  "vscode": {
   "interpreter": {
    "hash": "940b4c110c3cebababd37dc6cec19477a44e469d32c41a0eaa8eeb689ff0386b"
   }
  }
 },
 "nbformat": 4,
 "nbformat_minor": 2
}
