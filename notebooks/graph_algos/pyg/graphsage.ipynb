{
 "cells": [
  {
   "cell_type": "code",
   "execution_count": 1,
   "id": "98c6edbc",
   "metadata": {},
   "outputs": [],
   "source": [
    "import os.path as osp\n",
    "import matplotlib.pyplot as plt\n",
    "import torch_geometric.transforms as T\n",
    "from torch_geometric.nn import GCNConv\n",
    "from torch_geometric.nn import SAGEConv\n",
    "from torch_geometric.loader import DataLoader\n",
    "from torch.utils.data import Dataset\n",
    "from torch_geometric.nn import GNNExplainer\n",
    "import pandas as pd\n",
    "from torch_geometric.data import Data\n",
    "from torch_geometric.loader import NeighborSampler #as RawNeighborSampler\n",
    "import torch.nn as nn\n",
    "import torch\n",
    "from torch_cluster import random_walk\n",
    "import torch.nn.functional as F\n",
    "\n",
    "def create_dataset(edges, features, labels, train_mask, test_mask):\n",
    "    edge_index = torch.tensor(edges, dtype=torch.long)\n",
    "    x = torch.tensor(features, dtype = torch.float)\n",
    "    y = torch.tensor(labels, dtype = torch.long)\n",
    "\n",
    "    data = Data(x=x, edge_index=edge_index.t().contiguous(), y=y)\n",
    "    \n",
    "    #supervised setting\n",
    "    if train_mask != None:\n",
    "        data.train_mask = torch.tensor(train_mask, dtype = torch.bool)\n",
    "        if test_mask == None:\n",
    "            data.test_mask = ~data.train_mask\n",
    "        \n",
    "    #semi-supervised setting\n",
    "    if test_mask != None:\n",
    "        data.test_mask = torch.tensor(test_mask, dtype = torch.bool)\n",
    "    return data"
   ]
  },
  {
   "cell_type": "code",
   "execution_count": 2,
   "id": "e44a3afc",
   "metadata": {},
   "outputs": [],
   "source": [
    "class NeighborSamplerX(NeighborSampler):\n",
    "    def sample(self, batch):\n",
    "        batch = torch.tensor(batch)\n",
    "        row, col, _ = self.adj_t.coo()\n",
    "\n",
    "        # For each node in `batch`, we sample a direct neighbor (as positive\n",
    "        # example) and a random node (as negative example):\n",
    "        pos_batch = random_walk(row, col, batch, walk_length=1,\n",
    "                                coalesced=False)[:, 1]\n",
    "\n",
    "        neg_batch = torch.randint(0, self.adj_t.size(1), (batch.numel(), ),\n",
    "                                  dtype=torch.long)\n",
    "\n",
    "        batch = torch.cat([batch, pos_batch, neg_batch], dim=0)\n",
    "        batch1 = super(NeighborSamplerX, self).sample(batch)\n",
    "        return batch1\n",
    "    \n",
    "    \n",
    "class SAGE(nn.Module):\n",
    "    def __init__(self, in_channels, hidden_channels, num_layers):\n",
    "        super(SAGE, self).__init__()\n",
    "        self.num_layers = num_layers\n",
    "        self.convs = nn.ModuleList()\n",
    "        \n",
    "        for i in range(num_layers):\n",
    "            in_channels = in_channels if i == 0 else hidden_channels\n",
    "            self.convs.append(SAGEConv(in_channels, hidden_channels))\n",
    "\n",
    "    def forward(self, x, adjs):\n",
    "        for i, (edge_index, _, size) in enumerate(adjs):\n",
    "            x_target = x[:size[1]]  # Target nodes are always placed first.\n",
    "            x = self.convs[i]((x, x_target), edge_index)\n",
    "            if i != self.num_layers - 1:\n",
    "                x = x.relu()\n",
    "                x = F.dropout(x, p=0.5, training=self.training)\n",
    "        return x\n",
    "\n",
    "    def full_forward(self, x, edge_index):\n",
    "        for i, conv in enumerate(self.convs):\n",
    "            x = conv(x, edge_index)\n",
    "            if i != self.num_layers - 1:\n",
    "                x = x.relu()\n",
    "                x = F.dropout(x, p=0.5, training=self.training)\n",
    "        return x\n",
    "    \n",
    "def prepare(data, hidden_channels = 128, num_layers = 2, batch_size = 256):\n",
    "    train_loader = NeighborSamplerX(data.edge_index, sizes=[10, 10], batch_size = batch_size,\n",
    "                              shuffle=True, num_nodes=data.num_nodes)\n",
    "    device = torch.device('cuda' if torch.cuda.is_available() else 'cpu')\n",
    "    print(\"#features = {}\".format(data.num_node_features))\n",
    "    #print(\"Num layers \", num_layers)\n",
    "    model = SAGE(data.num_node_features, hidden_channels=hidden_channels, num_layers=num_layers)\n",
    "    model = model.to(device)\n",
    "    optimizer = torch.optim.Adam(model.parameters(), lr=0.01)\n",
    "    x, edge_index = data.x.to(device), data.edge_index.to(device)\n",
    "    return model, optimizer, x, edge_index, train_loader, device\n",
    "\n",
    "def train(model, optimizer, x, train_loader, device):\n",
    "    model.train()\n",
    "\n",
    "    total_loss = 0\n",
    "    for batch_size, n_id, adjs in train_loader:\n",
    "        # `adjs` holds a list of `(edge_index, e_id, size)` tuples.\n",
    "        adjs = [adj.to(device) for adj in adjs]\n",
    "        optimizer.zero_grad()\n",
    "\n",
    "        out = model(x[n_id], adjs)\n",
    "        out, pos_out, neg_out = out.split(out.size(0) // 3, dim=0)\n",
    "        pos_loss = F.logsigmoid((out * pos_out).sum(-1)).mean()\n",
    "        neg_loss = F.logsigmoid(-(out * neg_out).sum(-1)).mean()\n",
    "        loss = -pos_loss - neg_loss\n",
    "        loss.backward()\n",
    "        optimizer.step()\n",
    "\n",
    "        total_loss += float(loss) * out.size(0)\n",
    "\n",
    "    return total_loss / data.num_nodes\n",
    "\n",
    "from sklearn.manifold import TSNE\n",
    "import numpy as np\n",
    "\n",
    "def plot_tsne(out, data, p = 50, nitr = 1000):\n",
    "    trans = TSNE(n_components=2, perplexity = p, n_iter = nitr)\n",
    "    node_embeddings_2d = trans.fit_transform(out.cpu().numpy())\n",
    "    alpha = 1\n",
    "    label_map = {l: i for i, l in enumerate(np.unique(data.y))}\n",
    "    node_colors = [label_map[target] for target in data.y.numpy()]\n",
    "\n",
    "    plt.figure(figsize=(5, 5))\n",
    "    plt.axes().set(aspect='equal')\n",
    "    plt.scatter(\n",
    "        node_embeddings_2d[:, 0],\n",
    "        node_embeddings_2d[:, 1],\n",
    "        c=node_colors,\n",
    "        cmap='viridis',\n",
    "        alpha=alpha\n",
    "    )\n",
    "    plt.show()\n",
    "    \n",
    "def train_all(data, nepochs):\n",
    "    model, optimizer, x, edge_index, train_loader, device = prepare(data)\n",
    "    print(model)\n",
    "    for epoch in range(1, nepochs+1):\n",
    "        loss = train(model, optimizer, x, train_loader, device)\n",
    "        print(f'Epoch: {epoch:03d}, Loss: {loss:.4f}')\n",
    "    return model, x, edge_index\n",
    "\n",
    "def predict_all(model, x, edge_index):\n",
    "    with torch.no_grad():\n",
    "        model.eval()\n",
    "        out = model.full_forward(x, edge_index).cpu()\n",
    "    return out\n",
    "\n",
    "def plot_tsne_out(data, out):\n",
    "    palette = {}\n",
    "\n",
    "    for n, y in enumerate(set(data.y.numpy())):\n",
    "        palette[y] = f'C{n}'\n",
    "    \n",
    "    embd = umap.UMAP().fit_transform(out.cpu().numpy())\n",
    "\n",
    "    plt.figure(figsize=(5, 5))\n",
    "    sns.scatterplot(x=embd.T[0], y=embd.T[1], hue=data.y.cpu().numpy(), palette=palette)\n",
    "    plt.legend(bbox_to_anchor=(1,1), loc='upper left')\n",
    "    plt.savefig(\"umap_embd_sage.png\", dpi=120)"
   ]
  },
  {
   "cell_type": "markdown",
   "id": "b7168908",
   "metadata": {},
   "source": [
    "## Audiance Overlap - Corpus 2020"
   ]
  },
  {
   "cell_type": "code",
   "execution_count": 3,
   "id": "c8cd8a16",
   "metadata": {},
   "outputs": [],
   "source": [
    "import pandas as pd\n",
    "import sys\n",
    "import os\n",
    "sys.path.insert(0, '../../../')\n",
    "\n",
    "from notebooks.utils import _ALEXA_DATA_PATH, load_node_features, load_level_data, create_nodes, export_model_as_feature\n",
    "from train import run_experiment"
   ]
  },
  {
   "cell_type": "code",
   "execution_count": 4,
   "id": "64af6c4e",
   "metadata": {},
   "outputs": [
    {
     "name": "stderr",
     "output_type": "stream",
     "text": [
      "01-23 12:35:26 notebooks.utils INFO     Loaded 3489 nodes with records level <= 1 and child size:16981\n"
     ]
    },
    {
     "name": "stdout",
     "output_type": "stream",
     "text": [
      "[('crooked.com', 'votesaveamerica.com'), ('crooked.com', 'art19.com'), ('crooked.com', 'promocodeportal.com'), ('crooked.com', 'mediamatters.org'), ('crooked.com', 'actblue.com')]\n"
     ]
    }
   ],
   "source": [
    "audience_overlap_sites = load_level_data(os.path.join(_ALEXA_DATA_PATH, 'corpus_2020_audience_overlap_sites_scrapping_result.json'), level=1)\n",
    "audience_overlap_sites_NODES = create_nodes(audience_overlap_sites)\n",
    "\n",
    "print(audience_overlap_sites_NODES[:5])"
   ]
  },
  {
   "cell_type": "code",
   "execution_count": 5,
   "id": "e53bb390",
   "metadata": {},
   "outputs": [
    {
     "data": {
      "text/html": [
       "<div>\n",
       "<style scoped>\n",
       "    .dataframe tbody tr th:only-of-type {\n",
       "        vertical-align: middle;\n",
       "    }\n",
       "\n",
       "    .dataframe tbody tr th {\n",
       "        vertical-align: top;\n",
       "    }\n",
       "\n",
       "    .dataframe thead th {\n",
       "        text-align: right;\n",
       "    }\n",
       "</style>\n",
       "<table border=\"1\" class=\"dataframe\">\n",
       "  <thead>\n",
       "    <tr style=\"text-align: right;\">\n",
       "      <th></th>\n",
       "      <th>source</th>\n",
       "      <th>target</th>\n",
       "    </tr>\n",
       "  </thead>\n",
       "  <tbody>\n",
       "    <tr>\n",
       "      <th>0</th>\n",
       "      <td>crooked.com</td>\n",
       "      <td>votesaveamerica.com</td>\n",
       "    </tr>\n",
       "    <tr>\n",
       "      <th>1</th>\n",
       "      <td>crooked.com</td>\n",
       "      <td>art19.com</td>\n",
       "    </tr>\n",
       "    <tr>\n",
       "      <th>2</th>\n",
       "      <td>crooked.com</td>\n",
       "      <td>promocodeportal.com</td>\n",
       "    </tr>\n",
       "    <tr>\n",
       "      <th>3</th>\n",
       "      <td>crooked.com</td>\n",
       "      <td>mediamatters.org</td>\n",
       "    </tr>\n",
       "    <tr>\n",
       "      <th>4</th>\n",
       "      <td>crooked.com</td>\n",
       "      <td>actblue.com</td>\n",
       "    </tr>\n",
       "  </tbody>\n",
       "</table>\n",
       "</div>"
      ],
      "text/plain": [
       "        source               target\n",
       "0  crooked.com  votesaveamerica.com\n",
       "1  crooked.com            art19.com\n",
       "2  crooked.com  promocodeportal.com\n",
       "3  crooked.com     mediamatters.org\n",
       "4  crooked.com          actblue.com"
      ]
     },
     "execution_count": 5,
     "metadata": {},
     "output_type": "execute_result"
    }
   ],
   "source": [
    "edge_df = pd.DataFrame(audience_overlap_sites_NODES, columns=['source', 'target'])\n",
    "edge_df.head()"
   ]
  },
  {
   "cell_type": "code",
   "execution_count": 6,
   "id": "7514ae50",
   "metadata": {},
   "outputs": [
    {
     "data": {
      "text/plain": [
       "(17010, 2)"
      ]
     },
     "execution_count": 6,
     "metadata": {},
     "output_type": "execute_result"
    }
   ],
   "source": [
    "edge_df.shape"
   ]
  },
  {
   "cell_type": "code",
   "execution_count": 7,
   "id": "463243ab",
   "metadata": {},
   "outputs": [
    {
     "data": {
      "text/plain": [
       "(28779, 3)"
      ]
     },
     "execution_count": 7,
     "metadata": {},
     "output_type": "execute_result"
    }
   ],
   "source": [
    "edge_df2 = pd.DataFrame()\n",
    "edge_df2['source'] = edge_df['target']\n",
    "edge_df2['target'] = edge_df['source']\n",
    "\n",
    "edge_df = pd.concat([edge_df, edge_df2]).drop_duplicates(keep = \"first\").reset_index()\n",
    "edge_df.shape"
   ]
  },
  {
   "cell_type": "code",
   "execution_count": 8,
   "id": "31a1f185",
   "metadata": {},
   "outputs": [
    {
     "name": "stdout",
     "output_type": "stream",
     "text": [
      "Number of unique nodes in edges: 10161 Sample: ['mintmedicaleducation.com', 'abqjournal.com', 'bradford-delong.com', 'freedomsfinalstand.com', 'scdmvonline.com']\n"
     ]
    }
   ],
   "source": [
    "nodes_in_edges = list(set(edge_df.source.unique().tolist() + edge_df.target.unique().tolist()))\n",
    "print('Number of unique nodes in edges:', len(nodes_in_edges), 'Sample:', nodes_in_edges[:5])"
   ]
  },
  {
   "cell_type": "code",
   "execution_count": 9,
   "id": "59d3bf34",
   "metadata": {},
   "outputs": [
    {
     "data": {
      "text/html": [
       "<div>\n",
       "<style scoped>\n",
       "    .dataframe tbody tr th:only-of-type {\n",
       "        vertical-align: middle;\n",
       "    }\n",
       "\n",
       "    .dataframe tbody tr th {\n",
       "        vertical-align: top;\n",
       "    }\n",
       "\n",
       "    .dataframe thead th {\n",
       "        text-align: right;\n",
       "    }\n",
       "</style>\n",
       "<table border=\"1\" class=\"dataframe\">\n",
       "  <thead>\n",
       "    <tr style=\"text-align: right;\">\n",
       "      <th></th>\n",
       "      <th>alexa_rank</th>\n",
       "      <th>daily_pageviews_per_visitor</th>\n",
       "      <th>daily_time_on_site</th>\n",
       "      <th>total_sites_linking_in</th>\n",
       "      <th>bounce_rate</th>\n",
       "    </tr>\n",
       "    <tr>\n",
       "      <th>site</th>\n",
       "      <th></th>\n",
       "      <th></th>\n",
       "      <th></th>\n",
       "      <th></th>\n",
       "      <th></th>\n",
       "    </tr>\n",
       "  </thead>\n",
       "  <tbody>\n",
       "    <tr>\n",
       "      <th>whistleblowersandrelators.com</th>\n",
       "      <td>NaN</td>\n",
       "      <td>NaN</td>\n",
       "      <td>NaN</td>\n",
       "      <td>NaN</td>\n",
       "      <td>NaN</td>\n",
       "    </tr>\n",
       "    <tr>\n",
       "      <th>geokov.com</th>\n",
       "      <td>2238341.0</td>\n",
       "      <td>1.0</td>\n",
       "      <td>NaN</td>\n",
       "      <td>60.0</td>\n",
       "      <td>0.900</td>\n",
       "    </tr>\n",
       "    <tr>\n",
       "      <th>trainingandfacilitation.ca</th>\n",
       "      <td>NaN</td>\n",
       "      <td>NaN</td>\n",
       "      <td>NaN</td>\n",
       "      <td>NaN</td>\n",
       "      <td>NaN</td>\n",
       "    </tr>\n",
       "    <tr>\n",
       "      <th>plumsolutions.com.au</th>\n",
       "      <td>1023533.0</td>\n",
       "      <td>1.0</td>\n",
       "      <td>138.0</td>\n",
       "      <td>60.0</td>\n",
       "      <td>0.813</td>\n",
       "    </tr>\n",
       "    <tr>\n",
       "      <th>dbdailyupdate.com</th>\n",
       "      <td>145283.0</td>\n",
       "      <td>1.7</td>\n",
       "      <td>179.0</td>\n",
       "      <td>64.0</td>\n",
       "      <td>0.756</td>\n",
       "    </tr>\n",
       "  </tbody>\n",
       "</table>\n",
       "</div>"
      ],
      "text/plain": [
       "                               alexa_rank  daily_pageviews_per_visitor  \\\n",
       "site                                                                     \n",
       "whistleblowersandrelators.com         NaN                          NaN   \n",
       "geokov.com                      2238341.0                          1.0   \n",
       "trainingandfacilitation.ca            NaN                          NaN   \n",
       "plumsolutions.com.au            1023533.0                          1.0   \n",
       "dbdailyupdate.com                145283.0                          1.7   \n",
       "\n",
       "                               daily_time_on_site  total_sites_linking_in  \\\n",
       "site                                                                        \n",
       "whistleblowersandrelators.com                 NaN                     NaN   \n",
       "geokov.com                                    NaN                    60.0   \n",
       "trainingandfacilitation.ca                    NaN                     NaN   \n",
       "plumsolutions.com.au                        138.0                    60.0   \n",
       "dbdailyupdate.com                           179.0                    64.0   \n",
       "\n",
       "                               bounce_rate  \n",
       "site                                        \n",
       "whistleblowersandrelators.com          NaN  \n",
       "geokov.com                           0.900  \n",
       "trainingandfacilitation.ca             NaN  \n",
       "plumsolutions.com.au                 0.813  \n",
       "dbdailyupdate.com                    0.756  "
      ]
     },
     "execution_count": 9,
     "metadata": {},
     "output_type": "execute_result"
    }
   ],
   "source": [
    "node_features_df = load_node_features()\n",
    "node_features_df = node_features_df.set_index('site')\n",
    "node_features_df.head()"
   ]
  },
  {
   "cell_type": "code",
   "execution_count": 10,
   "id": "20c72cc8",
   "metadata": {},
   "outputs": [
    {
     "name": "stdout",
     "output_type": "stream",
     "text": [
      "<class 'pandas.core.frame.DataFrame'>\n",
      "Index: 10161 entries, mintmedicaleducation.com to reverbpress.news\n",
      "Data columns (total 5 columns):\n",
      " #   Column                       Non-Null Count  Dtype  \n",
      "---  ------                       --------------  -----  \n",
      " 0   alexa_rank                   7465 non-null   float64\n",
      " 1   daily_pageviews_per_visitor  7466 non-null   float64\n",
      " 2   daily_time_on_site           5566 non-null   float64\n",
      " 3   total_sites_linking_in       9861 non-null   float64\n",
      " 4   bounce_rate                  5179 non-null   float64\n",
      "dtypes: float64(5)\n",
      "memory usage: 476.3+ KB\n"
     ]
    }
   ],
   "source": [
    "node_features_df = node_features_df.loc[nodes_in_edges]\n",
    "node_features_df.info()"
   ]
  },
  {
   "cell_type": "code",
   "execution_count": 11,
   "id": "29d56586",
   "metadata": {},
   "outputs": [
    {
     "name": "stdout",
     "output_type": "stream",
     "text": [
      "<class 'pandas.core.frame.DataFrame'>\n",
      "Index: 10161 entries, mintmedicaleducation.com to reverbpress.news\n",
      "Data columns (total 5 columns):\n",
      " #   Column                       Non-Null Count  Dtype  \n",
      "---  ------                       --------------  -----  \n",
      " 0   alexa_rank                   10161 non-null  float64\n",
      " 1   daily_pageviews_per_visitor  10161 non-null  float64\n",
      " 2   daily_time_on_site           10161 non-null  float64\n",
      " 3   total_sites_linking_in       10161 non-null  float64\n",
      " 4   bounce_rate                  10161 non-null  float64\n",
      "dtypes: float64(5)\n",
      "memory usage: 476.3+ KB\n"
     ]
    }
   ],
   "source": [
    "node_features_df.alexa_rank = node_features_df.alexa_rank.fillna(1000000)\n",
    "node_features_df.total_sites_linking_in = node_features_df.total_sites_linking_in.fillna(0)\n",
    "node_features_df.daily_pageviews_per_visitor  = node_features_df.daily_pageviews_per_visitor.fillna(0)\n",
    "node_features_df.daily_time_on_site = node_features_df.daily_time_on_site.fillna(0)\n",
    "node_features_df.bounce_rate = node_features_df.bounce_rate.fillna(0)\n",
    "node_features_df.info()"
   ]
  },
  {
   "cell_type": "code",
   "execution_count": 12,
   "id": "cc0ad499",
   "metadata": {},
   "outputs": [],
   "source": [
    "import math\n",
    "\n",
    "node_features_df['normalized_alexa_rank'] = node_features_df['alexa_rank'].apply(lambda x: 1/x if x else 0)\n",
    "node_features_df['normalized_total_sites_linked_in'] = node_features_df['total_sites_linking_in'].apply(lambda x: math.log2(x) if x else 0)"
   ]
  },
  {
   "cell_type": "code",
   "execution_count": 13,
   "id": "5ba9e690",
   "metadata": {},
   "outputs": [
    {
     "data": {
      "text/html": [
       "<div>\n",
       "<style scoped>\n",
       "    .dataframe tbody tr th:only-of-type {\n",
       "        vertical-align: middle;\n",
       "    }\n",
       "\n",
       "    .dataframe tbody tr th {\n",
       "        vertical-align: top;\n",
       "    }\n",
       "\n",
       "    .dataframe thead th {\n",
       "        text-align: right;\n",
       "    }\n",
       "</style>\n",
       "<table border=\"1\" class=\"dataframe\">\n",
       "  <thead>\n",
       "    <tr style=\"text-align: right;\">\n",
       "      <th></th>\n",
       "      <th>alexa_rank</th>\n",
       "      <th>daily_pageviews_per_visitor</th>\n",
       "      <th>daily_time_on_site</th>\n",
       "      <th>total_sites_linking_in</th>\n",
       "      <th>bounce_rate</th>\n",
       "      <th>normalized_alexa_rank</th>\n",
       "      <th>normalized_total_sites_linked_in</th>\n",
       "    </tr>\n",
       "    <tr>\n",
       "      <th>site</th>\n",
       "      <th></th>\n",
       "      <th></th>\n",
       "      <th></th>\n",
       "      <th></th>\n",
       "      <th></th>\n",
       "      <th></th>\n",
       "      <th></th>\n",
       "    </tr>\n",
       "  </thead>\n",
       "  <tbody>\n",
       "    <tr>\n",
       "      <th>mintmedicaleducation.com</th>\n",
       "      <td>0.092413</td>\n",
       "      <td>0.000000</td>\n",
       "      <td>0.000000</td>\n",
       "      <td>0.000004</td>\n",
       "      <td>0.000</td>\n",
       "      <td>9.075871e-07</td>\n",
       "      <td>0.175892</td>\n",
       "    </tr>\n",
       "    <tr>\n",
       "      <th>abqjournal.com</th>\n",
       "      <td>0.005778</td>\n",
       "      <td>0.044444</td>\n",
       "      <td>0.024913</td>\n",
       "      <td>0.000736</td>\n",
       "      <td>0.707</td>\n",
       "      <td>1.589991e-05</td>\n",
       "      <td>0.519191</td>\n",
       "    </tr>\n",
       "    <tr>\n",
       "      <th>bradford-delong.com</th>\n",
       "      <td>0.105116</td>\n",
       "      <td>0.027778</td>\n",
       "      <td>0.018224</td>\n",
       "      <td>0.000086</td>\n",
       "      <td>1.000</td>\n",
       "      <td>7.867358e-07</td>\n",
       "      <td>0.376267</td>\n",
       "    </tr>\n",
       "    <tr>\n",
       "      <th>freedomsfinalstand.com</th>\n",
       "      <td>0.092413</td>\n",
       "      <td>0.000000</td>\n",
       "      <td>0.000000</td>\n",
       "      <td>0.000004</td>\n",
       "      <td>0.000</td>\n",
       "      <td>9.075871e-07</td>\n",
       "      <td>0.170953</td>\n",
       "    </tr>\n",
       "    <tr>\n",
       "      <th>scdmvonline.com</th>\n",
       "      <td>0.008211</td>\n",
       "      <td>0.113889</td>\n",
       "      <td>0.050058</td>\n",
       "      <td>0.000165</td>\n",
       "      <td>0.320</td>\n",
       "      <td>1.116251e-05</td>\n",
       "      <td>0.419454</td>\n",
       "    </tr>\n",
       "  </tbody>\n",
       "</table>\n",
       "</div>"
      ],
      "text/plain": [
       "                          alexa_rank  daily_pageviews_per_visitor  \\\n",
       "site                                                                \n",
       "mintmedicaleducation.com    0.092413                     0.000000   \n",
       "abqjournal.com              0.005778                     0.044444   \n",
       "bradford-delong.com         0.105116                     0.027778   \n",
       "freedomsfinalstand.com      0.092413                     0.000000   \n",
       "scdmvonline.com             0.008211                     0.113889   \n",
       "\n",
       "                          daily_time_on_site  total_sites_linking_in  \\\n",
       "site                                                                   \n",
       "mintmedicaleducation.com            0.000000                0.000004   \n",
       "abqjournal.com                      0.024913                0.000736   \n",
       "bradford-delong.com                 0.018224                0.000086   \n",
       "freedomsfinalstand.com              0.000000                0.000004   \n",
       "scdmvonline.com                     0.050058                0.000165   \n",
       "\n",
       "                          bounce_rate  normalized_alexa_rank  \\\n",
       "site                                                           \n",
       "mintmedicaleducation.com        0.000           9.075871e-07   \n",
       "abqjournal.com                  0.707           1.589991e-05   \n",
       "bradford-delong.com             1.000           7.867358e-07   \n",
       "freedomsfinalstand.com          0.000           9.075871e-07   \n",
       "scdmvonline.com                 0.320           1.116251e-05   \n",
       "\n",
       "                          normalized_total_sites_linked_in  \n",
       "site                                                        \n",
       "mintmedicaleducation.com                          0.175892  \n",
       "abqjournal.com                                    0.519191  \n",
       "bradford-delong.com                               0.376267  \n",
       "freedomsfinalstand.com                            0.170953  \n",
       "scdmvonline.com                                   0.419454  "
      ]
     },
     "execution_count": 13,
     "metadata": {},
     "output_type": "execute_result"
    }
   ],
   "source": [
    "from sklearn.preprocessing import MinMaxScaler\n",
    "\n",
    "scaler = MinMaxScaler(feature_range=(0, 1))\n",
    "\n",
    "node_features_df[['alexa_rank', 'daily_pageviews_per_visitor', 'daily_time_on_site',\n",
    "       'total_sites_linking_in', 'bounce_rate', 'normalized_alexa_rank',\n",
    "       'normalized_total_sites_linked_in']] = scaler.fit_transform(node_features_df[['alexa_rank', 'daily_pageviews_per_visitor', 'daily_time_on_site',\n",
    "       'total_sites_linking_in', 'bounce_rate', 'normalized_alexa_rank',\n",
    "       'normalized_total_sites_linked_in']])\n",
    "node_features_df.head(5)"
   ]
  },
  {
   "cell_type": "code",
   "execution_count": 14,
   "id": "9cfa5955",
   "metadata": {},
   "outputs": [],
   "source": [
    "node_map = {dom:i for i, dom in enumerate(node_features_df.index)}"
   ]
  },
  {
   "cell_type": "code",
   "execution_count": 15,
   "id": "2dbf4ca8",
   "metadata": {},
   "outputs": [
    {
     "data": {
      "text/html": [
       "<div>\n",
       "<style scoped>\n",
       "    .dataframe tbody tr th:only-of-type {\n",
       "        vertical-align: middle;\n",
       "    }\n",
       "\n",
       "    .dataframe tbody tr th {\n",
       "        vertical-align: top;\n",
       "    }\n",
       "\n",
       "    .dataframe thead th {\n",
       "        text-align: right;\n",
       "    }\n",
       "</style>\n",
       "<table border=\"1\" class=\"dataframe\">\n",
       "  <thead>\n",
       "    <tr style=\"text-align: right;\">\n",
       "      <th></th>\n",
       "      <th>source</th>\n",
       "      <th>target</th>\n",
       "    </tr>\n",
       "  </thead>\n",
       "  <tbody>\n",
       "    <tr>\n",
       "      <th>0</th>\n",
       "      <td>3705</td>\n",
       "      <td>3598</td>\n",
       "    </tr>\n",
       "    <tr>\n",
       "      <th>1</th>\n",
       "      <td>3705</td>\n",
       "      <td>9479</td>\n",
       "    </tr>\n",
       "    <tr>\n",
       "      <th>2</th>\n",
       "      <td>3705</td>\n",
       "      <td>8802</td>\n",
       "    </tr>\n",
       "    <tr>\n",
       "      <th>3</th>\n",
       "      <td>3705</td>\n",
       "      <td>547</td>\n",
       "    </tr>\n",
       "    <tr>\n",
       "      <th>4</th>\n",
       "      <td>3705</td>\n",
       "      <td>5931</td>\n",
       "    </tr>\n",
       "  </tbody>\n",
       "</table>\n",
       "</div>"
      ],
      "text/plain": [
       "   source  target\n",
       "0    3705    3598\n",
       "1    3705    9479\n",
       "2    3705    8802\n",
       "3    3705     547\n",
       "4    3705    5931"
      ]
     },
     "execution_count": 15,
     "metadata": {},
     "output_type": "execute_result"
    }
   ],
   "source": [
    "edge_df3 = pd.DataFrame()\n",
    "edge_df3['source'] = edge_df['source'].map(node_map)    \n",
    "edge_df3['target'] = edge_df['target'].map(node_map)\n",
    "edge_df3.head(5)"
   ]
  },
  {
   "cell_type": "code",
   "execution_count": 16,
   "id": "0e9203af",
   "metadata": {},
   "outputs": [],
   "source": [
    "data = create_dataset(list(zip(edge_df3['source'], edge_df3['target'])),\n",
    "                     list(zip(node_features_df['alexa_rank'], \n",
    "                              node_features_df['daily_pageviews_per_visitor'], \n",
    "                              node_features_df['daily_time_on_site'],\n",
    "                              node_features_df['total_sites_linking_in'], \n",
    "                              node_features_df['bounce_rate'], \n",
    "                              node_features_df['normalized_alexa_rank'],\n",
    "                              node_features_df['normalized_total_sites_linked_in'])),\n",
    "                     [1] * node_features_df.shape[0], None, None)"
   ]
  },
  {
   "cell_type": "code",
   "execution_count": 17,
   "id": "e3ab5d70",
   "metadata": {},
   "outputs": [
    {
     "name": "stdout",
     "output_type": "stream",
     "text": [
      "#features = 7\n",
      "SAGE(\n",
      "  (convs): ModuleList(\n",
      "    (0): SAGEConv(7, 128)\n",
      "    (1): SAGEConv(128, 128)\n",
      "  )\n",
      ")\n",
      "Epoch: 001, Loss: 1.7311\n",
      "Epoch: 002, Loss: 1.1843\n",
      "Epoch: 003, Loss: 1.1585\n",
      "Epoch: 004, Loss: 1.0824\n",
      "Epoch: 005, Loss: 1.0410\n",
      "Epoch: 006, Loss: 0.9831\n",
      "Epoch: 007, Loss: 0.9638\n",
      "Epoch: 008, Loss: 0.9574\n",
      "Epoch: 009, Loss: 0.9596\n",
      "Epoch: 010, Loss: 0.9400\n",
      "Epoch: 011, Loss: 0.9449\n",
      "Epoch: 012, Loss: 0.9299\n",
      "Epoch: 013, Loss: 0.9236\n",
      "Epoch: 014, Loss: 0.9232\n",
      "Epoch: 015, Loss: 0.9236\n",
      "Epoch: 016, Loss: 0.9263\n",
      "Epoch: 017, Loss: 0.9257\n",
      "Epoch: 018, Loss: 0.9347\n",
      "Epoch: 019, Loss: 0.9187\n",
      "Epoch: 020, Loss: 0.9172\n"
     ]
    }
   ],
   "source": [
    "model, x, edge_index = train_all(data, 20)"
   ]
  },
  {
   "cell_type": "code",
   "execution_count": 18,
   "id": "673ec20a",
   "metadata": {},
   "outputs": [
    {
     "name": "stdout",
     "output_type": "stream",
     "text": [
      "Shape of the embeddings: torch.Size([10161, 128])\n"
     ]
    }
   ],
   "source": [
    "node_embeddings = predict_all(model, x, edge_index)\n",
    "print(\"Shape of the embeddings: {}\".format(node_embeddings.shape))"
   ]
  },
  {
   "cell_type": "code",
   "execution_count": 19,
   "id": "0fd40aa1",
   "metadata": {},
   "outputs": [],
   "source": [
    "embeddings_wv = dict(zip(node_features_df.index.tolist(), node_embeddings.tolist()))"
   ]
  },
  {
   "cell_type": "code",
   "execution_count": 20,
   "id": "85d30fcb",
   "metadata": {},
   "outputs": [
    {
     "name": "stdout",
     "output_type": "stream",
     "text": [
      "Sample: [-0.012321801856160164, 0.060122665017843246, 0.038811758160591125, -0.04482794553041458, -0.015558433718979359, -0.136915385723114, 0.07201770693063736, 0.03606337308883667, -0.06561314314603806, 0.10874821245670319, -0.08791086822748184, 0.04509411379694939, 0.04942229017615318, -0.02511897310614586, -0.07731199264526367, -0.009159734472632408, 0.07530989497900009, -0.06520503014326096, 0.0943731814622879, 0.046760424971580505, 0.0345228910446167, -0.06776133179664612, 0.02670087292790413, 0.05625873804092407, -0.0027347393333911896, 0.010001253336668015, 0.039486102759838104, 0.09770621359348297, 0.05271473526954651, 0.022758491337299347, 0.09141097962856293, -0.026808716356754303, -0.048878610134124756, -0.0656418651342392, 0.06087236478924751, -0.09873615205287933, 0.05775177478790283, 0.07382437586784363, 0.07166735082864761, -0.020174100995063782, -0.08460912108421326, -0.028153546154499054, -0.0056526437401771545, -0.08874216675758362, 0.04250780865550041, -0.11526218056678772, -0.03143875300884247, 0.006721660494804382, -0.03567447513341904, 0.11283129453659058, 0.004901289939880371, -0.03378218412399292, -0.04247765243053436, 0.029218513518571854, -0.028216000646352768, 0.04634743928909302, -0.08174176514148712, 0.012536220252513885, -0.024444669485092163, -0.004146304912865162, 0.005999557673931122, 0.050009146332740784, -0.002943422645330429, -0.036876048892736435]\n"
     ]
    }
   ],
   "source": [
    "print('Sample:', embeddings_wv['crooked.com'][:64])"
   ]
  },
  {
   "cell_type": "code",
   "execution_count": 21,
   "id": "ef420790",
   "metadata": {},
   "outputs": [
    {
     "data": {
      "text/plain": [
       "'/export/sec02/nabeel/News-Media-Peers/data/acl2020/features/graph_sage_audience_overlap_level_pyg.json'"
      ]
     },
     "execution_count": 21,
     "metadata": {},
     "output_type": "execute_result"
    }
   ],
   "source": [
    "export_model_as_feature(embeddings_wv, 'graph_sage_audience_overlap_level_pyg')"
   ]
  },
  {
   "cell_type": "code",
   "execution_count": 22,
   "id": "0643dd25",
   "metadata": {},
   "outputs": [
    {
     "name": "stdout",
     "output_type": "stream",
     "text": [
      "+------+---------------------+---------------+--------------------+---------------------------------------+\n",
      "| task | classification_mode | type_training | normalize_features |                features               |\n",
      "+------+---------------------+---------------+--------------------+---------------------------------------+\n",
      "| fact |  single classifier  |    combine    |       False        | graph_sage_audience_overlap_level_pyg |\n",
      "+------+---------------------+---------------+--------------------+---------------------------------------+\n"
     ]
    },
    {
     "name": "stderr",
     "output_type": "stream",
     "text": [
      "01-23 12:40:50 train        INFO     Start training...\n",
      "01-23 12:40:50 train        INFO     Fold: 0\n",
      "01-23 12:40:58 train        INFO     Fold: 1\n",
      "01-23 12:41:04 train        INFO     Fold: 2\n",
      "01-23 12:41:10 train        INFO     Fold: 3\n",
      "01-23 12:41:16 train        INFO     Fold: 4\n"
     ]
    },
    {
     "name": "stdout",
     "output_type": "stream",
     "text": [
      "+------+---------------------+---------------+--------------------+---------------------------------------+--------------------+-------------------+-------------------+--------------------+\n",
      "| task | classification_mode | type_training | normalize_features |                features               |      Macro-F1      |      Accuracy     |  Flip error-rate  |        MAE         |\n",
      "+------+---------------------+---------------+--------------------+---------------------------------------+--------------------+-------------------+-------------------+--------------------+\n",
      "| fact |  single classifier  |    combine    |       False        | graph_sage_audience_overlap_level_pyg | 45.853223425533955 | 54.48195576251456 | 11.40861466821886 | 0.5692665890570431 |\n",
      "+------+---------------------+---------------+--------------------+---------------------------------------+--------------------+-------------------+-------------------+--------------------+\n"
     ]
    }
   ],
   "source": [
    "run_experiment(features=\"graph_sage_audience_overlap_level_pyg\", normalize_features=False)"
   ]
  },
  {
   "cell_type": "code",
   "execution_count": null,
   "id": "4e515d04",
   "metadata": {},
   "outputs": [],
   "source": []
  }
 ],
 "metadata": {
  "kernelspec": {
   "display_name": "Python 3",
   "language": "python",
   "name": "python3"
  },
  "language_info": {
   "codemirror_mode": {
    "name": "ipython",
    "version": 3
   },
   "file_extension": ".py",
   "mimetype": "text/x-python",
   "name": "python",
   "nbconvert_exporter": "python",
   "pygments_lexer": "ipython3",
   "version": "3.6.10"
  }
 },
 "nbformat": 4,
 "nbformat_minor": 5
}
