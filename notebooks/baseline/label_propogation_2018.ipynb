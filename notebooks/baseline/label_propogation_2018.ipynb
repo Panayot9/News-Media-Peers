{
 "cells": [
  {
   "cell_type": "code",
   "execution_count": 1,
   "id": "8a604384",
   "metadata": {},
   "outputs": [],
   "source": [
    "import sys\n",
    "sys.path.insert(0, '../../')"
   ]
  },
  {
   "cell_type": "code",
   "execution_count": 2,
   "id": "3507cebb",
   "metadata": {},
   "outputs": [
    {
     "name": "stderr",
     "output_type": "stream",
     "text": [
      "2022-01-14 01:44:58.330551: I tensorflow/core/platform/cpu_feature_guard.cc:151] This TensorFlow binary is optimized with oneAPI Deep Neural Network Library (oneDNN) to use the following CPU instructions in performance-critical operations:  AVX2 FMA\n",
      "To enable them in other operations, rebuild TensorFlow with the appropriate compiler flags.\n"
     ]
    }
   ],
   "source": [
    "from notebooks.utils import load_corpus, load_splits, load_node_features\n",
    "import pandas as pd"
   ]
  },
  {
   "cell_type": "markdown",
   "id": "f27b913b",
   "metadata": {},
   "source": [
    "# Load corpus, features and splits"
   ]
  },
  {
   "cell_type": "code",
   "execution_count": 3,
   "id": "08b53191",
   "metadata": {},
   "outputs": [
    {
     "data": {
      "text/html": [
       "<div>\n",
       "<style scoped>\n",
       "    .dataframe tbody tr th:only-of-type {\n",
       "        vertical-align: middle;\n",
       "    }\n",
       "\n",
       "    .dataframe tbody tr th {\n",
       "        vertical-align: top;\n",
       "    }\n",
       "\n",
       "    .dataframe thead th {\n",
       "        text-align: right;\n",
       "    }\n",
       "</style>\n",
       "<table border=\"1\" class=\"dataframe\">\n",
       "  <thead>\n",
       "    <tr style=\"text-align: right;\">\n",
       "      <th></th>\n",
       "      <th>source_url</th>\n",
       "      <th>source_url_normalized</th>\n",
       "      <th>ref</th>\n",
       "      <th>fact</th>\n",
       "      <th>bias</th>\n",
       "    </tr>\n",
       "  </thead>\n",
       "  <tbody>\n",
       "    <tr>\n",
       "      <th>0</th>\n",
       "      <td>http://www.villagevoice.com/</td>\n",
       "      <td>villagevoice.com</td>\n",
       "      <td>http://mediabiasfactcheck.com/the-village-voice/</td>\n",
       "      <td>high</td>\n",
       "      <td>left</td>\n",
       "    </tr>\n",
       "    <tr>\n",
       "      <th>1</th>\n",
       "      <td>https://insideclimatenews.org/</td>\n",
       "      <td>insideclimatenews.org</td>\n",
       "      <td>https://mediabiasfactcheck.com/insideclimate-n...</td>\n",
       "      <td>high</td>\n",
       "      <td>left-center</td>\n",
       "    </tr>\n",
       "    <tr>\n",
       "      <th>2</th>\n",
       "      <td>http://www.fury.news/</td>\n",
       "      <td>fury.news</td>\n",
       "      <td>http://mediabiasfactcheck.com/fury-news/</td>\n",
       "      <td>low</td>\n",
       "      <td>extreme-right</td>\n",
       "    </tr>\n",
       "    <tr>\n",
       "      <th>3</th>\n",
       "      <td>http://now8news.com/</td>\n",
       "      <td>now8news.com</td>\n",
       "      <td>http://mediabiasfactcheck.com/now8news/</td>\n",
       "      <td>low</td>\n",
       "      <td>center</td>\n",
       "    </tr>\n",
       "    <tr>\n",
       "      <th>4</th>\n",
       "      <td>http://constitution.com/</td>\n",
       "      <td>constitution.com</td>\n",
       "      <td>http://mediabiasfactcheck.com/the-constitution/</td>\n",
       "      <td>low</td>\n",
       "      <td>extreme-right</td>\n",
       "    </tr>\n",
       "  </tbody>\n",
       "</table>\n",
       "</div>"
      ],
      "text/plain": [
       "                       source_url  source_url_normalized  \\\n",
       "0    http://www.villagevoice.com/       villagevoice.com   \n",
       "1  https://insideclimatenews.org/  insideclimatenews.org   \n",
       "2           http://www.fury.news/              fury.news   \n",
       "3            http://now8news.com/           now8news.com   \n",
       "4        http://constitution.com/       constitution.com   \n",
       "\n",
       "                                                 ref  fact           bias  \n",
       "0   http://mediabiasfactcheck.com/the-village-voice/  high           left  \n",
       "1  https://mediabiasfactcheck.com/insideclimate-n...  high    left-center  \n",
       "2           http://mediabiasfactcheck.com/fury-news/   low  extreme-right  \n",
       "3            http://mediabiasfactcheck.com/now8news/   low         center  \n",
       "4    http://mediabiasfactcheck.com/the-constitution/   low  extreme-right  "
      ]
     },
     "execution_count": 3,
     "metadata": {},
     "output_type": "execute_result"
    }
   ],
   "source": [
    "df_corpus = pd.DataFrame(load_corpus(data_year='2018'))\n",
    "df_features = load_node_features()\n",
    "splits = load_splits(data_year='2018')\n",
    "\n",
    "df_corpus.head()"
   ]
  },
  {
   "cell_type": "code",
   "execution_count": 4,
   "id": "aa683e2e",
   "metadata": {},
   "outputs": [
    {
     "data": {
      "text/html": [
       "<div>\n",
       "<style scoped>\n",
       "    .dataframe tbody tr th:only-of-type {\n",
       "        vertical-align: middle;\n",
       "    }\n",
       "\n",
       "    .dataframe tbody tr th {\n",
       "        vertical-align: top;\n",
       "    }\n",
       "\n",
       "    .dataframe thead th {\n",
       "        text-align: right;\n",
       "    }\n",
       "</style>\n",
       "<table border=\"1\" class=\"dataframe\">\n",
       "  <thead>\n",
       "    <tr style=\"text-align: right;\">\n",
       "      <th></th>\n",
       "      <th>site</th>\n",
       "      <th>alexa_rank</th>\n",
       "      <th>daily_pageviews_per_visitor</th>\n",
       "      <th>daily_time_on_site</th>\n",
       "      <th>total_sites_linking_in</th>\n",
       "      <th>bounce_rate</th>\n",
       "    </tr>\n",
       "  </thead>\n",
       "  <tbody>\n",
       "    <tr>\n",
       "      <th>0</th>\n",
       "      <td>whistleblowersandrelators.com</td>\n",
       "      <td>NaN</td>\n",
       "      <td>NaN</td>\n",
       "      <td>NaN</td>\n",
       "      <td>NaN</td>\n",
       "      <td>NaN</td>\n",
       "    </tr>\n",
       "    <tr>\n",
       "      <th>1</th>\n",
       "      <td>geokov.com</td>\n",
       "      <td>2238341.0</td>\n",
       "      <td>1.0</td>\n",
       "      <td>NaN</td>\n",
       "      <td>60.0</td>\n",
       "      <td>0.900</td>\n",
       "    </tr>\n",
       "    <tr>\n",
       "      <th>2</th>\n",
       "      <td>trainingandfacilitation.ca</td>\n",
       "      <td>NaN</td>\n",
       "      <td>NaN</td>\n",
       "      <td>NaN</td>\n",
       "      <td>NaN</td>\n",
       "      <td>NaN</td>\n",
       "    </tr>\n",
       "    <tr>\n",
       "      <th>3</th>\n",
       "      <td>plumsolutions.com.au</td>\n",
       "      <td>1023533.0</td>\n",
       "      <td>1.0</td>\n",
       "      <td>138.0</td>\n",
       "      <td>60.0</td>\n",
       "      <td>0.813</td>\n",
       "    </tr>\n",
       "    <tr>\n",
       "      <th>4</th>\n",
       "      <td>dbdailyupdate.com</td>\n",
       "      <td>145283.0</td>\n",
       "      <td>1.7</td>\n",
       "      <td>179.0</td>\n",
       "      <td>64.0</td>\n",
       "      <td>0.756</td>\n",
       "    </tr>\n",
       "  </tbody>\n",
       "</table>\n",
       "</div>"
      ],
      "text/plain": [
       "                            site  alexa_rank  daily_pageviews_per_visitor  \\\n",
       "0  whistleblowersandrelators.com         NaN                          NaN   \n",
       "1                     geokov.com   2238341.0                          1.0   \n",
       "2     trainingandfacilitation.ca         NaN                          NaN   \n",
       "3           plumsolutions.com.au   1023533.0                          1.0   \n",
       "4              dbdailyupdate.com    145283.0                          1.7   \n",
       "\n",
       "   daily_time_on_site  total_sites_linking_in  bounce_rate  \n",
       "0                 NaN                     NaN          NaN  \n",
       "1                 NaN                    60.0        0.900  \n",
       "2                 NaN                     NaN          NaN  \n",
       "3               138.0                    60.0        0.813  \n",
       "4               179.0                    64.0        0.756  "
      ]
     },
     "execution_count": 4,
     "metadata": {},
     "output_type": "execute_result"
    }
   ],
   "source": [
    "df_features.head()"
   ]
  },
  {
   "cell_type": "code",
   "execution_count": 5,
   "id": "14c2a0ab",
   "metadata": {},
   "outputs": [
    {
     "data": {
      "text/plain": [
       "dict_keys(['0', '1', '2', '3', '4'])"
      ]
     },
     "execution_count": 5,
     "metadata": {},
     "output_type": "execute_result"
    }
   ],
   "source": [
    "splits.keys()"
   ]
  },
  {
   "cell_type": "code",
   "execution_count": 6,
   "id": "29b29692",
   "metadata": {},
   "outputs": [
    {
     "data": {
      "text/html": [
       "<div>\n",
       "<style scoped>\n",
       "    .dataframe tbody tr th:only-of-type {\n",
       "        vertical-align: middle;\n",
       "    }\n",
       "\n",
       "    .dataframe tbody tr th {\n",
       "        vertical-align: top;\n",
       "    }\n",
       "\n",
       "    .dataframe thead th {\n",
       "        text-align: right;\n",
       "    }\n",
       "</style>\n",
       "<table border=\"1\" class=\"dataframe\">\n",
       "  <thead>\n",
       "    <tr style=\"text-align: right;\">\n",
       "      <th></th>\n",
       "      <th>site</th>\n",
       "      <th>alexa_rank</th>\n",
       "      <th>daily_pageviews_per_visitor</th>\n",
       "      <th>daily_time_on_site</th>\n",
       "      <th>total_sites_linking_in</th>\n",
       "      <th>bounce_rate</th>\n",
       "      <th>source_url_normalized</th>\n",
       "      <th>fact</th>\n",
       "      <th>bias</th>\n",
       "    </tr>\n",
       "  </thead>\n",
       "  <tbody>\n",
       "    <tr>\n",
       "      <th>0</th>\n",
       "      <td>villagevoice.com</td>\n",
       "      <td>83035.0</td>\n",
       "      <td>1.5</td>\n",
       "      <td>125.0</td>\n",
       "      <td>13134.0</td>\n",
       "      <td>0.659</td>\n",
       "      <td>villagevoice.com</td>\n",
       "      <td>high</td>\n",
       "      <td>left</td>\n",
       "    </tr>\n",
       "    <tr>\n",
       "      <th>1</th>\n",
       "      <td>insideclimatenews.org</td>\n",
       "      <td>131049.0</td>\n",
       "      <td>1.3</td>\n",
       "      <td>121.0</td>\n",
       "      <td>1017.0</td>\n",
       "      <td>0.797</td>\n",
       "      <td>insideclimatenews.org</td>\n",
       "      <td>high</td>\n",
       "      <td>left-center</td>\n",
       "    </tr>\n",
       "    <tr>\n",
       "      <th>2</th>\n",
       "      <td>fury.news</td>\n",
       "      <td>2659140.0</td>\n",
       "      <td>1.0</td>\n",
       "      <td>NaN</td>\n",
       "      <td>35.0</td>\n",
       "      <td>NaN</td>\n",
       "      <td>fury.news</td>\n",
       "      <td>low</td>\n",
       "      <td>extreme-right</td>\n",
       "    </tr>\n",
       "    <tr>\n",
       "      <th>3</th>\n",
       "      <td>now8news.com</td>\n",
       "      <td>2881397.0</td>\n",
       "      <td>2.0</td>\n",
       "      <td>NaN</td>\n",
       "      <td>90.0</td>\n",
       "      <td>NaN</td>\n",
       "      <td>now8news.com</td>\n",
       "      <td>low</td>\n",
       "      <td>center</td>\n",
       "    </tr>\n",
       "    <tr>\n",
       "      <th>4</th>\n",
       "      <td>constitution.com</td>\n",
       "      <td>2260170.0</td>\n",
       "      <td>2.0</td>\n",
       "      <td>93.0</td>\n",
       "      <td>200.0</td>\n",
       "      <td>NaN</td>\n",
       "      <td>constitution.com</td>\n",
       "      <td>low</td>\n",
       "      <td>extreme-right</td>\n",
       "    </tr>\n",
       "  </tbody>\n",
       "</table>\n",
       "</div>"
      ],
      "text/plain": [
       "                    site  alexa_rank  daily_pageviews_per_visitor  \\\n",
       "0       villagevoice.com     83035.0                          1.5   \n",
       "1  insideclimatenews.org    131049.0                          1.3   \n",
       "2              fury.news   2659140.0                          1.0   \n",
       "3           now8news.com   2881397.0                          2.0   \n",
       "4       constitution.com   2260170.0                          2.0   \n",
       "\n",
       "   daily_time_on_site  total_sites_linking_in  bounce_rate  \\\n",
       "0               125.0                 13134.0        0.659   \n",
       "1               121.0                  1017.0        0.797   \n",
       "2                 NaN                    35.0          NaN   \n",
       "3                 NaN                    90.0          NaN   \n",
       "4                93.0                   200.0          NaN   \n",
       "\n",
       "   source_url_normalized  fact           bias  \n",
       "0       villagevoice.com  high           left  \n",
       "1  insideclimatenews.org  high    left-center  \n",
       "2              fury.news   low  extreme-right  \n",
       "3           now8news.com   low         center  \n",
       "4       constitution.com   low  extreme-right  "
      ]
     },
     "execution_count": 6,
     "metadata": {},
     "output_type": "execute_result"
    }
   ],
   "source": [
    "total_df = pd.merge(df_features, df_corpus[['source_url_normalized', 'fact', 'bias']], left_on='site', right_on='source_url_normalized', how='right')\n",
    "total_df.head()"
   ]
  },
  {
   "cell_type": "markdown",
   "id": "58816500",
   "metadata": {},
   "source": [
    "# Fill the missing values with mean"
   ]
  },
  {
   "cell_type": "code",
   "execution_count": 7,
   "id": "8137f256",
   "metadata": {},
   "outputs": [
    {
     "name": "stdout",
     "output_type": "stream",
     "text": [
      "alexa_rank                     918036.260486\n",
      "daily_pageviews_per_visitor         1.759603\n",
      "daily_time_on_site                159.245259\n",
      "total_sites_linking_in           4632.524171\n",
      "bounce_rate                         0.685276\n",
      "dtype: float64\n"
     ]
    },
    {
     "name": "stderr",
     "output_type": "stream",
     "text": [
      "/var/folders/2j/1pr09r3d6sdb3zmyqck2fxm80000gn/T/ipykernel_12007/24967483.py:1: FutureWarning: Dropping of nuisance columns in DataFrame reductions (with 'numeric_only=None') is deprecated; in a future version this will raise TypeError.  Select only valid columns before calling the reduction.\n",
      "  column_means = total_df.mean()\n"
     ]
    }
   ],
   "source": [
    "column_means = total_df.mean()\n",
    "print(column_means)"
   ]
  },
  {
   "cell_type": "code",
   "execution_count": 8,
   "id": "f560cfb3",
   "metadata": {},
   "outputs": [
    {
     "data": {
      "text/html": [
       "<div>\n",
       "<style scoped>\n",
       "    .dataframe tbody tr th:only-of-type {\n",
       "        vertical-align: middle;\n",
       "    }\n",
       "\n",
       "    .dataframe tbody tr th {\n",
       "        vertical-align: top;\n",
       "    }\n",
       "\n",
       "    .dataframe thead th {\n",
       "        text-align: right;\n",
       "    }\n",
       "</style>\n",
       "<table border=\"1\" class=\"dataframe\">\n",
       "  <thead>\n",
       "    <tr style=\"text-align: right;\">\n",
       "      <th></th>\n",
       "      <th>source_url_normalized</th>\n",
       "      <th>daily_time_on_site</th>\n",
       "      <th>total_sites_linking_in</th>\n",
       "      <th>bounce_rate</th>\n",
       "      <th>bias</th>\n",
       "      <th>fact</th>\n",
       "    </tr>\n",
       "  </thead>\n",
       "  <tbody>\n",
       "    <tr>\n",
       "      <th>0</th>\n",
       "      <td>villagevoice.com</td>\n",
       "      <td>125.000000</td>\n",
       "      <td>13134.0</td>\n",
       "      <td>0.659000</td>\n",
       "      <td>left</td>\n",
       "      <td>high</td>\n",
       "    </tr>\n",
       "    <tr>\n",
       "      <th>1</th>\n",
       "      <td>insideclimatenews.org</td>\n",
       "      <td>121.000000</td>\n",
       "      <td>1017.0</td>\n",
       "      <td>0.797000</td>\n",
       "      <td>left-center</td>\n",
       "      <td>high</td>\n",
       "    </tr>\n",
       "    <tr>\n",
       "      <th>2</th>\n",
       "      <td>fury.news</td>\n",
       "      <td>159.245259</td>\n",
       "      <td>35.0</td>\n",
       "      <td>0.685276</td>\n",
       "      <td>extreme-right</td>\n",
       "      <td>low</td>\n",
       "    </tr>\n",
       "    <tr>\n",
       "      <th>3</th>\n",
       "      <td>now8news.com</td>\n",
       "      <td>159.245259</td>\n",
       "      <td>90.0</td>\n",
       "      <td>0.685276</td>\n",
       "      <td>center</td>\n",
       "      <td>low</td>\n",
       "    </tr>\n",
       "    <tr>\n",
       "      <th>4</th>\n",
       "      <td>constitution.com</td>\n",
       "      <td>93.000000</td>\n",
       "      <td>200.0</td>\n",
       "      <td>0.685276</td>\n",
       "      <td>extreme-right</td>\n",
       "      <td>low</td>\n",
       "    </tr>\n",
       "  </tbody>\n",
       "</table>\n",
       "</div>"
      ],
      "text/plain": [
       "   source_url_normalized  daily_time_on_site  total_sites_linking_in  \\\n",
       "0       villagevoice.com          125.000000                 13134.0   \n",
       "1  insideclimatenews.org          121.000000                  1017.0   \n",
       "2              fury.news          159.245259                    35.0   \n",
       "3           now8news.com          159.245259                    90.0   \n",
       "4       constitution.com           93.000000                   200.0   \n",
       "\n",
       "   bounce_rate           bias  fact  \n",
       "0     0.659000           left  high  \n",
       "1     0.797000    left-center  high  \n",
       "2     0.685276  extreme-right   low  \n",
       "3     0.685276         center   low  \n",
       "4     0.685276  extreme-right   low  "
      ]
     },
     "execution_count": 8,
     "metadata": {},
     "output_type": "execute_result"
    }
   ],
   "source": [
    "total_df = total_df.fillna(column_means)\n",
    "total_df = total_df.drop(['site', 'alexa_rank', 'daily_pageviews_per_visitor'], axis=1)\n",
    "total_df = total_df[['source_url_normalized', 'daily_time_on_site', 'total_sites_linking_in', 'bounce_rate', 'bias', 'fact']]\n",
    "\n",
    "total_df.head()"
   ]
  },
  {
   "cell_type": "code",
   "execution_count": 9,
   "id": "111eb2ce",
   "metadata": {},
   "outputs": [],
   "source": [
    "from typing import Dict, List\n",
    "import numpy as np\n",
    "from sklearn.semi_supervised import LabelPropagation\n",
    "from train import calculate_metrics\n",
    "\n",
    "def train_model(splits: Dict[str, Dict[str, List[str]]], features: Dict[str, Dict[str, List[float]]], task):\n",
    "    all_urls = []\n",
    "    actual = []\n",
    "    predicted = []\n",
    "\n",
    "    if task==\"fact\":\n",
    "        other_task = \"bias\"\n",
    "\n",
    "    if task==\"bias\":\n",
    "        other_task = \"fact\"\n",
    "\n",
    "    i = 0\n",
    "    num_folds = len(splits)\n",
    "    for f in range(num_folds):\n",
    "        # get the training and testing media for the current fold\n",
    "        urls = {\n",
    "            \"train\": splits[str(f)][\"train\"],\n",
    "            \"test\": splits[str(f)][\"test\"],\n",
    "        }\n",
    "\n",
    "        all_urls.extend(splits[str(f)][\"test\"])\n",
    "\n",
    "\n",
    "        # concatenate the different features/labels for the training sources\n",
    "        X_train = features[features[\"source_url_normalized\"].isin(urls[\"train\"])]\n",
    "        X_train = X_train.drop(['source_url_normalized', task, other_task], axis = 1)\n",
    "        #print(X_train.head())\n",
    "        y_train = np.asarray(features[features[\"source_url_normalized\"].isin(urls[\"train\"])][task])\n",
    "        #print(y_train)\n",
    "\n",
    "        X_test = features[features[\"source_url_normalized\"].isin(urls[\"test\"])]\n",
    "        X_test = X_test.drop(['source_url_normalized', task, other_task], axis = 1)\n",
    "        y_test = np.asarray(features[features[\"source_url_normalized\"].isin(urls[\"test\"])][task])\n",
    "\n",
    "        clf = LabelPropagation()\n",
    "\n",
    "        # train the classifier using the training data\n",
    "        clf.fit(X_train, y_train)\n",
    "        print(clf.score(X_test, y_test))\n",
    "\n",
    "        # generate predictions\n",
    "        pred = clf.predict(X_test)\n",
    "\n",
    "        # generate probabilites\n",
    "        prob = clf.predict_proba(X_test)\n",
    "        #print(y_test)\n",
    "        # cumulate the actual and predicted labels, and the probabilities over the different folds.  then, move the index\n",
    "        actual[i: i + y_test.shape[0]] = y_test\n",
    "        predicted[i: i + y_test.shape[0]] = pred\n",
    "        i += y_test.shape[0]\n",
    "\n",
    "\n",
    "    # calculate the performance metrics on the whole set of predictions (5 folds all together)\n",
    "    f1, accuracy, flip_err, mae = calculate_metrics(actual, predicted)\n",
    "    print('f1:', f1, 'accuracy:', accuracy, 'flip_err:', flip_err, 'mae:', mae)"
   ]
  },
  {
   "cell_type": "code",
   "execution_count": 10,
   "id": "e5442cea",
   "metadata": {},
   "outputs": [
    {
     "data": {
      "text/html": [
       "<div>\n",
       "<style scoped>\n",
       "    .dataframe tbody tr th:only-of-type {\n",
       "        vertical-align: middle;\n",
       "    }\n",
       "\n",
       "    .dataframe tbody tr th {\n",
       "        vertical-align: top;\n",
       "    }\n",
       "\n",
       "    .dataframe thead th {\n",
       "        text-align: right;\n",
       "    }\n",
       "</style>\n",
       "<table border=\"1\" class=\"dataframe\">\n",
       "  <thead>\n",
       "    <tr style=\"text-align: right;\">\n",
       "      <th></th>\n",
       "      <th>source_url_normalized</th>\n",
       "      <th>daily_time_on_site</th>\n",
       "      <th>total_sites_linking_in</th>\n",
       "      <th>bounce_rate</th>\n",
       "      <th>bias</th>\n",
       "      <th>fact</th>\n",
       "    </tr>\n",
       "  </thead>\n",
       "  <tbody>\n",
       "    <tr>\n",
       "      <th>0</th>\n",
       "      <td>villagevoice.com</td>\n",
       "      <td>125.000000</td>\n",
       "      <td>13134.0</td>\n",
       "      <td>0.659000</td>\n",
       "      <td>0</td>\n",
       "      <td>2</td>\n",
       "    </tr>\n",
       "    <tr>\n",
       "      <th>1</th>\n",
       "      <td>insideclimatenews.org</td>\n",
       "      <td>121.000000</td>\n",
       "      <td>1017.0</td>\n",
       "      <td>0.797000</td>\n",
       "      <td>1</td>\n",
       "      <td>2</td>\n",
       "    </tr>\n",
       "    <tr>\n",
       "      <th>2</th>\n",
       "      <td>fury.news</td>\n",
       "      <td>159.245259</td>\n",
       "      <td>35.0</td>\n",
       "      <td>0.685276</td>\n",
       "      <td>2</td>\n",
       "      <td>0</td>\n",
       "    </tr>\n",
       "    <tr>\n",
       "      <th>3</th>\n",
       "      <td>now8news.com</td>\n",
       "      <td>159.245259</td>\n",
       "      <td>90.0</td>\n",
       "      <td>0.685276</td>\n",
       "      <td>1</td>\n",
       "      <td>0</td>\n",
       "    </tr>\n",
       "    <tr>\n",
       "      <th>4</th>\n",
       "      <td>constitution.com</td>\n",
       "      <td>93.000000</td>\n",
       "      <td>200.0</td>\n",
       "      <td>0.685276</td>\n",
       "      <td>2</td>\n",
       "      <td>0</td>\n",
       "    </tr>\n",
       "  </tbody>\n",
       "</table>\n",
       "</div>"
      ],
      "text/plain": [
       "   source_url_normalized  daily_time_on_site  total_sites_linking_in  \\\n",
       "0       villagevoice.com          125.000000                 13134.0   \n",
       "1  insideclimatenews.org          121.000000                  1017.0   \n",
       "2              fury.news          159.245259                    35.0   \n",
       "3           now8news.com          159.245259                    90.0   \n",
       "4       constitution.com           93.000000                   200.0   \n",
       "\n",
       "   bounce_rate  bias  fact  \n",
       "0     0.659000     0     2  \n",
       "1     0.797000     1     2  \n",
       "2     0.685276     2     0  \n",
       "3     0.685276     1     0  \n",
       "4     0.685276     2     0  "
      ]
     },
     "execution_count": 10,
     "metadata": {},
     "output_type": "execute_result"
    }
   ],
   "source": [
    "# TODO normalize labels\n",
    "from train import label2int\n",
    "\n",
    "total_df['fact'] = total_df['fact'].map(label2int['fact'])\n",
    "total_df['bias'] = total_df['bias'].map(label2int['bias'])\n",
    "\n",
    "total_df.head()"
   ]
  },
  {
   "cell_type": "markdown",
   "id": "ce93f417",
   "metadata": {},
   "source": [
    "# Train label propagation on splits - fact"
   ]
  },
  {
   "cell_type": "code",
   "execution_count": 11,
   "id": "408a326d",
   "metadata": {},
   "outputs": [
    {
     "name": "stdout",
     "output_type": "stream",
     "text": [
      "0.21962616822429906\n",
      "0.22065727699530516\n",
      "0.20754716981132076\n",
      "0.20853080568720378\n",
      "0.26066350710900477\n",
      "f1: 17.23714445180206 accuracy: 22.33741753063148 flip_err: 49.01036757775684 mae: 1.2667295004712535\n"
     ]
    }
   ],
   "source": [
    "train_model(splits, total_df, \"fact\")"
   ]
  },
  {
   "cell_type": "markdown",
   "id": "b19afd54",
   "metadata": {},
   "source": [
    "# Train label propagation on splits - bias"
   ]
  },
  {
   "cell_type": "code",
   "execution_count": 12,
   "id": "cf6cc1b3",
   "metadata": {},
   "outputs": [
    {
     "name": "stdout",
     "output_type": "stream",
     "text": [
      "0.22897196261682243\n",
      "0.215962441314554\n",
      "0.21226415094339623\n",
      "0.24644549763033174\n",
      "0.25118483412322273\n",
      "f1: 23.110276845067023 accuracy: 23.091423185673893 flip_err: 23.185673892554195 mae: 1.000942507068803\n"
     ]
    }
   ],
   "source": [
    "train_model(splits, total_df, \"bias\")"
   ]
  },
  {
   "cell_type": "code",
   "execution_count": 13,
   "id": "5a4a8e51",
   "metadata": {},
   "outputs": [],
   "source": [
    "labels = total_df[['fact', 'bias']]"
   ]
  },
  {
   "cell_type": "code",
   "execution_count": 14,
   "id": "0eeb6e8e",
   "metadata": {},
   "outputs": [],
   "source": [
    "features = total_df.drop(['fact', 'bias', 'source_url_normalized'], axis=1)"
   ]
  },
  {
   "cell_type": "code",
   "execution_count": 15,
   "id": "669dce23",
   "metadata": {},
   "outputs": [
    {
     "data": {
      "text/html": [
       "<div>\n",
       "<style scoped>\n",
       "    .dataframe tbody tr th:only-of-type {\n",
       "        vertical-align: middle;\n",
       "    }\n",
       "\n",
       "    .dataframe tbody tr th {\n",
       "        vertical-align: top;\n",
       "    }\n",
       "\n",
       "    .dataframe thead th {\n",
       "        text-align: right;\n",
       "    }\n",
       "</style>\n",
       "<table border=\"1\" class=\"dataframe\">\n",
       "  <thead>\n",
       "    <tr style=\"text-align: right;\">\n",
       "      <th></th>\n",
       "      <th>daily_time_on_site</th>\n",
       "      <th>total_sites_linking_in</th>\n",
       "      <th>bounce_rate</th>\n",
       "    </tr>\n",
       "  </thead>\n",
       "  <tbody>\n",
       "    <tr>\n",
       "      <th>0</th>\n",
       "      <td>125.000000</td>\n",
       "      <td>13134.0</td>\n",
       "      <td>0.659000</td>\n",
       "    </tr>\n",
       "    <tr>\n",
       "      <th>1</th>\n",
       "      <td>121.000000</td>\n",
       "      <td>1017.0</td>\n",
       "      <td>0.797000</td>\n",
       "    </tr>\n",
       "    <tr>\n",
       "      <th>2</th>\n",
       "      <td>159.245259</td>\n",
       "      <td>35.0</td>\n",
       "      <td>0.685276</td>\n",
       "    </tr>\n",
       "    <tr>\n",
       "      <th>3</th>\n",
       "      <td>159.245259</td>\n",
       "      <td>90.0</td>\n",
       "      <td>0.685276</td>\n",
       "    </tr>\n",
       "    <tr>\n",
       "      <th>4</th>\n",
       "      <td>93.000000</td>\n",
       "      <td>200.0</td>\n",
       "      <td>0.685276</td>\n",
       "    </tr>\n",
       "  </tbody>\n",
       "</table>\n",
       "</div>"
      ],
      "text/plain": [
       "   daily_time_on_site  total_sites_linking_in  bounce_rate\n",
       "0          125.000000                 13134.0     0.659000\n",
       "1          121.000000                  1017.0     0.797000\n",
       "2          159.245259                    35.0     0.685276\n",
       "3          159.245259                    90.0     0.685276\n",
       "4           93.000000                   200.0     0.685276"
      ]
     },
     "execution_count": 15,
     "metadata": {},
     "output_type": "execute_result"
    }
   ],
   "source": [
    "features.head()"
   ]
  },
  {
   "cell_type": "markdown",
   "id": "f8acf43d",
   "metadata": {},
   "source": [
    "# Label propagation on fact"
   ]
  },
  {
   "cell_type": "code",
   "execution_count": 16,
   "id": "92bcea74",
   "metadata": {},
   "outputs": [
    {
     "name": "stdout",
     "output_type": "stream",
     "text": [
      "Test Accuracy: 0.19718309859154928\n"
     ]
    }
   ],
   "source": [
    "from sklearn.model_selection import train_test_split\n",
    "from sklearn.semi_supervised import LabelPropagation\n",
    "\n",
    "features_train, features_test, labels_train, labels_test = train_test_split(features, labels['fact'], test_size=0.20)\n",
    "\n",
    "# initialize\n",
    "clf = LabelPropagation()\n",
    "\n",
    "# train the classifier using the training data\n",
    "clf.fit(features_train, labels_train)\n",
    "\n",
    "# compute accuracy using test data\n",
    "acc_test = clf.score(features_test, labels_test)\n",
    "\n",
    "print (\"Test Accuracy:\", acc_test)\n",
    "# Test Accuracy: 0.98"
   ]
  },
  {
   "cell_type": "markdown",
   "id": "083edf5a",
   "metadata": {},
   "source": [
    "# Label propagation on bias"
   ]
  },
  {
   "cell_type": "code",
   "execution_count": 17,
   "id": "32cc1e7b",
   "metadata": {},
   "outputs": [
    {
     "name": "stdout",
     "output_type": "stream",
     "text": [
      "Test Accuracy: 0.23943661971830985\n"
     ]
    }
   ],
   "source": [
    "from sklearn.model_selection import train_test_split\n",
    "from sklearn.semi_supervised import LabelPropagation\n",
    "\n",
    "features_train, features_test, labels_train, labels_test = train_test_split(features, labels['bias'], test_size=0.20)\n",
    "\n",
    "# initialize\n",
    "clf = LabelPropagation()\n",
    "\n",
    "# train the classifier using the training data\n",
    "clf.fit(features_train, labels_train)\n",
    "\n",
    "# compute accuracy using test data\n",
    "acc_test = clf.score(features_test, labels_test)\n",
    "\n",
    "print (\"Test Accuracy:\", acc_test)\n",
    "# Test Accuracy: 0.98"
   ]
  }
 ],
 "metadata": {
  "kernelspec": {
   "display_name": "Python 3 (ipykernel)",
   "language": "python",
   "name": "python3"
  },
  "language_info": {
   "codemirror_mode": {
    "name": "ipython",
    "version": 3
   },
   "file_extension": ".py",
   "mimetype": "text/x-python",
   "name": "python",
   "nbconvert_exporter": "python",
   "pygments_lexer": "ipython3",
   "version": "3.8.12"
  }
 },
 "nbformat": 4,
 "nbformat_minor": 5
}
